{
 "cells": [
  {
   "cell_type": "markdown",
   "metadata": {},
   "source": [
    "# Who deports more, Republicans or Democrats?"
   ]
  },
  {
   "cell_type": "markdown",
   "metadata": {},
   "source": [
    "LIS MASc  \n",
    "Everything Counts  \n",
    "Assessment 2    \n",
    "Student number: 24000114067\n",
    "\n",
    "Access notebook online here: TODO\n",
    "\n",
    "PDF generated using [nbconvert](https://nbconvert.readthedocs.io/en/latest/index.html)"
   ]
  },
  {
   "cell_type": "markdown",
   "metadata": {},
   "source": [
    "## Introduction"
   ]
  },
  {
   "cell_type": "markdown",
   "metadata": {},
   "source": [
    "\n",
    "Trump won the US election a few days ago. A surprising contingent of black and latino us citizens have voted for him. The idea being floated around regards the fact that while the biden presidency was better for the economy, people do not feel the economy.\n",
    "\n",
    "I have been told the unlikely idea that the democrats deporting more than republicans - and this motivating latinos voting for trump even though that sounds contrary to their interests -. this would explain the latino votes for trump. it would mean that the voters care more about their personal situation than about the economy, and that they vote rationally instead of emotionally. assuming that trumps remarks about deporting legal immigrants and people eating cats and dogs wouldnt sit well with them, but\n",
    "this would also point to trumps stuff as rhetoric that he doesnt actually do, but just says for the vibes."
   ]
  },
  {
   "cell_type": "markdown",
   "metadata": {},
   "source": [
    "## Data sources\n",
    "\n",
    "Office of Homeland Security data (deportation): https://ohss.dhs.gov/topics/immigration/yearbook/2019/table39\n",
    "\n",
    "US House of Representatives History data (parties): https://history.house.gov/Institution/Presidents-Coinciding/Party-Government/"
   ]
  },
  {
   "cell_type": "markdown",
   "metadata": {},
   "source": [
    "## Feature explanation"
   ]
  },
  {
   "cell_type": "markdown",
   "metadata": {},
   "source": [
    "**Removals** are the compulsory and confirmed movement of an inadmissible or deportable alien out of the United States based on an order of removal. An alien who is removed has administrative or criminal consequences placed on subsequent reentry owing to the fact of the removal.\n",
    "\n",
    "**Returns** are the confirmed movement of an inadmissible or deportable alien out of the United States not based on an order of removal.\n",
    "\n",
    "A **unified** government is when the President's party holds the majority in both chambers."
   ]
  },
  {
   "cell_type": "markdown",
   "metadata": {},
   "source": [
    "## Research question\n",
    "\n",
    "Is there a higher rate of deportation of illegal immigrants in the US when the president is a Democrat?"
   ]
  },
  {
   "cell_type": "markdown",
   "metadata": {},
   "source": [
    "## Hypothesis\n",
    "\n",
    "H<sub>0</sub>: x̄<sub>D</sub> − x̄<sub>R</sub> = 0\n",
    "\n",
    "H<sub>A</sub>: x̄<sub>D</sub> − x̄<sub>R</sub> ≠ 0\n",
    "\n",
    "While the question is structured in a one-tailed way, if we need to ask this at all, it might be prudent to do a two-tailed test."
   ]
  },
  {
   "cell_type": "markdown",
   "metadata": {},
   "source": [
    "## Data cleaning"
   ]
  },
  {
   "cell_type": "code",
   "execution_count": 810,
   "metadata": {},
   "outputs": [],
   "source": [
    "import pandas as pd\n",
    "import matplotlib.pyplot as plt\n",
    "import seaborn as sns\n",
    "import statsmodels.stats.weightstats as st\n",
    "\n",
    "pd.set_option('display.max_colwidth', None)\n",
    "pd.set_option('display.max_rows', 0)\n",
    "\n",
    "plt.style.use(\"ggplot\")\n",
    "plt.rcParams[\"figure.figsize\"] = (8, 4)\n",
    "plt.rcParams[\"figure.dpi\"] = 300"
   ]
  },
  {
   "cell_type": "code",
   "execution_count": 811,
   "metadata": {},
   "outputs": [
    {
     "data": {
      "text/html": [
       "<div>\n",
       "<style scoped>\n",
       "    .dataframe tbody tr th:only-of-type {\n",
       "        vertical-align: middle;\n",
       "    }\n",
       "\n",
       "    .dataframe tbody tr th {\n",
       "        vertical-align: top;\n",
       "    }\n",
       "\n",
       "    .dataframe thead th {\n",
       "        text-align: right;\n",
       "    }\n",
       "</style>\n",
       "<table border=\"1\" class=\"dataframe\">\n",
       "  <thead>\n",
       "    <tr style=\"text-align: right;\">\n",
       "      <th></th>\n",
       "      <th>Congress</th>\n",
       "      <th>House Majority</th>\n",
       "      <th>Senate Majority</th>\n",
       "      <th>Presidency</th>\n",
       "      <th>Party Government</th>\n",
       "    </tr>\n",
       "  </thead>\n",
       "  <tbody>\n",
       "    <tr>\n",
       "      <th>0</th>\n",
       "      <td>35th (1857–1859)</td>\n",
       "      <td>Democrats</td>\n",
       "      <td>Democrats</td>\n",
       "      <td>Democrat (Buchanan)</td>\n",
       "      <td>Unified</td>\n",
       "    </tr>\n",
       "    <tr>\n",
       "      <th>1</th>\n",
       "      <td>36th (1859–1861)</td>\n",
       "      <td>Republicans</td>\n",
       "      <td>Democrats</td>\n",
       "      <td>Democrat (Buchanan)</td>\n",
       "      <td>Divided</td>\n",
       "    </tr>\n",
       "    <tr>\n",
       "      <th>2</th>\n",
       "      <td>37th (1861–1863)</td>\n",
       "      <td>Republicans</td>\n",
       "      <td>Republicans</td>\n",
       "      <td>Republican (Lincoln)</td>\n",
       "      <td>Unified</td>\n",
       "    </tr>\n",
       "    <tr>\n",
       "      <th>3</th>\n",
       "      <td>38th (1863–1865)</td>\n",
       "      <td>Republicans</td>\n",
       "      <td>Republicans</td>\n",
       "      <td>Republican (Lincoln)</td>\n",
       "      <td>Unified</td>\n",
       "    </tr>\n",
       "    <tr>\n",
       "      <th>4</th>\n",
       "      <td>39th (1865–1867)</td>\n",
       "      <td>Republicans</td>\n",
       "      <td>Republicans</td>\n",
       "      <td>Republican (Lincoln) / Democrat (A. Johnson)</td>\n",
       "      <td>Unified / Divided</td>\n",
       "    </tr>\n",
       "  </tbody>\n",
       "</table>\n",
       "</div>"
      ],
      "text/plain": [
       "           Congress House Majority Senate Majority  \\\n",
       "0  35th (1857–1859)      Democrats       Democrats   \n",
       "1  36th (1859–1861)    Republicans       Democrats   \n",
       "2  37th (1861–1863)    Republicans     Republicans   \n",
       "3  38th (1863–1865)    Republicans     Republicans   \n",
       "4  39th (1865–1867)    Republicans     Republicans   \n",
       "\n",
       "                                     Presidency   Party Government  \n",
       "0                          Democrat (Buchanan)             Unified  \n",
       "1                          Democrat (Buchanan)             Divided  \n",
       "2                         Republican (Lincoln)             Unified  \n",
       "3                         Republican (Lincoln)             Unified  \n",
       "4  Republican (Lincoln) / Democrat (A. Johnson)  Unified / Divided  "
      ]
     },
     "execution_count": 811,
     "metadata": {},
     "output_type": "execute_result"
    }
   ],
   "source": [
    "df = pd.read_csv(\"data/party.csv\")\n",
    "df.head()"
   ]
  },
  {
   "cell_type": "code",
   "execution_count": 812,
   "metadata": {},
   "outputs": [
    {
     "data": {
      "text/plain": [
       "['Congress',\n",
       " 'House Majority',\n",
       " 'Senate Majority',\n",
       " 'Presidency',\n",
       " 'Party Government']"
      ]
     },
     "execution_count": 812,
     "metadata": {},
     "output_type": "execute_result"
    }
   ],
   "source": [
    "df.columns.to_list()\n",
    "\n"
   ]
  },
  {
   "cell_type": "code",
   "execution_count": 813,
   "metadata": {},
   "outputs": [
    {
     "data": {
      "text/plain": [
       "congress               35th (1857–1859)\n",
       "house_majority                Democrats\n",
       "senate_majority               Democrats\n",
       "presidency         Democrat (Buchanan) \n",
       "government                      Unified\n",
       "Name: 0, dtype: object"
      ]
     },
     "execution_count": 813,
     "metadata": {},
     "output_type": "execute_result"
    }
   ],
   "source": [
    "# rename columns\n",
    "df = df.rename(\n",
    "    columns={\n",
    "        \"Congress\": \"congress\",\n",
    "        \"House Majority\": \"house_majority\",\n",
    "        \"Senate Majority\": \"senate_majority\",\n",
    "        \"Presidency\": \"presidency\",\n",
    "        \"Party Government\": \"government\",\n",
    "    }\n",
    ")\n",
    "\n",
    "df.iloc[0]"
   ]
  },
  {
   "cell_type": "markdown",
   "metadata": {},
   "source": [
    "### Missing values"
   ]
  },
  {
   "cell_type": "code",
   "execution_count": 814,
   "metadata": {},
   "outputs": [
    {
     "name": "stdout",
     "output_type": "stream",
     "text": [
      "<class 'pandas.core.frame.DataFrame'>\n",
      "RangeIndex: 84 entries, 0 to 83\n",
      "Data columns (total 5 columns):\n",
      " #   Column           Non-Null Count  Dtype \n",
      "---  ------           --------------  ----- \n",
      " 0   congress         84 non-null     object\n",
      " 1   house_majority   84 non-null     object\n",
      " 2   senate_majority  84 non-null     object\n",
      " 3   presidency       84 non-null     object\n",
      " 4   government       84 non-null     object\n",
      "dtypes: object(5)\n",
      "memory usage: 32.2 KB\n"
     ]
    }
   ],
   "source": [
    "df.info(memory_usage=\"deep\")"
   ]
  },
  {
   "cell_type": "markdown",
   "metadata": {},
   "source": [
    "There are no missing values. However, when presidents resign or die, sometimes the vice-president is from the other party. Because of this complexity, we are dropping these cases. We keep the ones in which the two presidents are of the same party, as this shouldn't interfere with the analysis. This makes for very neat categories."
   ]
  },
  {
   "cell_type": "markdown",
   "metadata": {},
   "source": [
    "### Modifying features"
   ]
  },
  {
   "cell_type": "markdown",
   "metadata": {},
   "source": [
    "#### Presidency "
   ]
  },
  {
   "cell_type": "markdown",
   "metadata": {},
   "source": [
    "We move the president's name to another variable so the `presidency` feature can become a category. "
   ]
  },
  {
   "cell_type": "code",
   "execution_count": 815,
   "metadata": {},
   "outputs": [
    {
     "data": {
      "text/html": [
       "<div>\n",
       "<style scoped>\n",
       "    .dataframe tbody tr th:only-of-type {\n",
       "        vertical-align: middle;\n",
       "    }\n",
       "\n",
       "    .dataframe tbody tr th {\n",
       "        vertical-align: top;\n",
       "    }\n",
       "\n",
       "    .dataframe thead th {\n",
       "        text-align: right;\n",
       "    }\n",
       "</style>\n",
       "<table border=\"1\" class=\"dataframe\">\n",
       "  <thead>\n",
       "    <tr style=\"text-align: right;\">\n",
       "      <th></th>\n",
       "      <th>congress</th>\n",
       "      <th>house_majority</th>\n",
       "      <th>senate_majority</th>\n",
       "      <th>presidency</th>\n",
       "      <th>government</th>\n",
       "      <th>president</th>\n",
       "    </tr>\n",
       "  </thead>\n",
       "  <tbody>\n",
       "    <tr>\n",
       "      <th>0</th>\n",
       "      <td>35th (1857–1859)</td>\n",
       "      <td>Democrats</td>\n",
       "      <td>Democrats</td>\n",
       "      <td>Democrat</td>\n",
       "      <td>Unified</td>\n",
       "      <td>Buchanan</td>\n",
       "    </tr>\n",
       "    <tr>\n",
       "      <th>1</th>\n",
       "      <td>36th (1859–1861)</td>\n",
       "      <td>Republicans</td>\n",
       "      <td>Democrats</td>\n",
       "      <td>Democrat</td>\n",
       "      <td>Divided</td>\n",
       "      <td>Buchanan</td>\n",
       "    </tr>\n",
       "    <tr>\n",
       "      <th>2</th>\n",
       "      <td>37th (1861–1863)</td>\n",
       "      <td>Republicans</td>\n",
       "      <td>Republicans</td>\n",
       "      <td>Republican</td>\n",
       "      <td>Unified</td>\n",
       "      <td>Lincoln</td>\n",
       "    </tr>\n",
       "    <tr>\n",
       "      <th>3</th>\n",
       "      <td>38th (1863–1865)</td>\n",
       "      <td>Republicans</td>\n",
       "      <td>Republicans</td>\n",
       "      <td>Republican</td>\n",
       "      <td>Unified</td>\n",
       "      <td>Lincoln</td>\n",
       "    </tr>\n",
       "    <tr>\n",
       "      <th>4</th>\n",
       "      <td>39th (1865–1867)</td>\n",
       "      <td>Republicans</td>\n",
       "      <td>Republicans</td>\n",
       "      <td>Republican (Lincoln) / Democrat</td>\n",
       "      <td>Unified / Divided</td>\n",
       "      <td>A. Johnson</td>\n",
       "    </tr>\n",
       "  </tbody>\n",
       "</table>\n",
       "</div>"
      ],
      "text/plain": [
       "           congress house_majority senate_majority  \\\n",
       "0  35th (1857–1859)      Democrats       Democrats   \n",
       "1  36th (1859–1861)    Republicans       Democrats   \n",
       "2  37th (1861–1863)    Republicans     Republicans   \n",
       "3  38th (1863–1865)    Republicans     Republicans   \n",
       "4  39th (1865–1867)    Republicans     Republicans   \n",
       "\n",
       "                         presidency         government   president  \n",
       "0                         Democrat             Unified    Buchanan  \n",
       "1                         Democrat             Divided    Buchanan  \n",
       "2                       Republican             Unified     Lincoln  \n",
       "3                       Republican             Unified     Lincoln  \n",
       "4  Republican (Lincoln) / Democrat   Unified / Divided  A. Johnson  "
      ]
     },
     "execution_count": 815,
     "metadata": {},
     "output_type": "execute_result"
    }
   ],
   "source": [
    "df[['presidency', 'president']] = df['presidency'].str.extract(r'(.*)(\\(.*\\))')\n",
    "df['president'] = df['president'].str.strip('()')\n",
    "df.head()"
   ]
  },
  {
   "cell_type": "code",
   "execution_count": 816,
   "metadata": {},
   "outputs": [],
   "source": [
    "df['presidency'] = df['presidency'].astype(\"category\")"
   ]
  },
  {
   "cell_type": "markdown",
   "metadata": {},
   "source": [
    "#### Congress"
   ]
  },
  {
   "cell_type": "markdown",
   "metadata": {},
   "source": [
    "In a similar but more involved way, we extract the years from the congress feature. The point is to have one row per year so that we can fit the two tables together. \n",
    "\n",
    "We assume that if the 35th congress spans 1857-1859 and the 36th spans 1859-1861, the end result should be:\n",
    "\n",
    "| Year | Congress |\n",
    "|------|----------|\n",
    "| 1857 | 35th     |\n",
    "| 1858 | 35th     |\n",
    "| 1859 | 36th     |\n",
    "| 1860 | 36th     |\n"
   ]
  },
  {
   "cell_type": "code",
   "execution_count": 817,
   "metadata": {},
   "outputs": [
    {
     "data": {
      "text/plain": [
       "congress                  35\n",
       "house_majority     Democrats\n",
       "senate_majority    Democrats\n",
       "presidency         Democrat \n",
       "government           Unified\n",
       "president           Buchanan\n",
       "year_start              1857\n",
       "year_end                1859\n",
       "Name: 0, dtype: object"
      ]
     },
     "execution_count": 817,
     "metadata": {},
     "output_type": "execute_result"
    }
   ],
   "source": [
    "df[['congress', 'year_start', 'year_end']] = df['congress'].str.extract(r'^(\\d*)\\w{2} \\((.*)–(.*)\\)')\n",
    "df.iloc[0]"
   ]
  },
  {
   "cell_type": "code",
   "execution_count": 818,
   "metadata": {},
   "outputs": [],
   "source": [
    "new_rows = []\n",
    "for k, v in df.iterrows():\n",
    "    for i in range(int(v['year_start']), int(v['year_end'])):\n",
    "        new_row = v.copy()\n",
    "        new_row['year'] = i\n",
    "        new_rows.append(new_row)\n",
    "        \n",
    "df = pd.DataFrame(new_rows)\n",
    "df = df.drop(columns=['year_start', 'year_end'])"
   ]
  },
  {
   "cell_type": "code",
   "execution_count": 819,
   "metadata": {},
   "outputs": [
    {
     "data": {
      "text/html": [
       "<div>\n",
       "<style scoped>\n",
       "    .dataframe tbody tr th:only-of-type {\n",
       "        vertical-align: middle;\n",
       "    }\n",
       "\n",
       "    .dataframe tbody tr th {\n",
       "        vertical-align: top;\n",
       "    }\n",
       "\n",
       "    .dataframe thead th {\n",
       "        text-align: right;\n",
       "    }\n",
       "</style>\n",
       "<table border=\"1\" class=\"dataframe\">\n",
       "  <thead>\n",
       "    <tr style=\"text-align: right;\">\n",
       "      <th></th>\n",
       "      <th>congress</th>\n",
       "      <th>house_majority</th>\n",
       "      <th>senate_majority</th>\n",
       "      <th>presidency</th>\n",
       "      <th>government</th>\n",
       "      <th>president</th>\n",
       "      <th>year</th>\n",
       "    </tr>\n",
       "  </thead>\n",
       "  <tbody>\n",
       "    <tr>\n",
       "      <th>0</th>\n",
       "      <td>35</td>\n",
       "      <td>Democrats</td>\n",
       "      <td>Democrats</td>\n",
       "      <td>Democrat</td>\n",
       "      <td>Unified</td>\n",
       "      <td>Buchanan</td>\n",
       "      <td>1857</td>\n",
       "    </tr>\n",
       "    <tr>\n",
       "      <th>0</th>\n",
       "      <td>35</td>\n",
       "      <td>Democrats</td>\n",
       "      <td>Democrats</td>\n",
       "      <td>Democrat</td>\n",
       "      <td>Unified</td>\n",
       "      <td>Buchanan</td>\n",
       "      <td>1858</td>\n",
       "    </tr>\n",
       "    <tr>\n",
       "      <th>1</th>\n",
       "      <td>36</td>\n",
       "      <td>Republicans</td>\n",
       "      <td>Democrats</td>\n",
       "      <td>Democrat</td>\n",
       "      <td>Divided</td>\n",
       "      <td>Buchanan</td>\n",
       "      <td>1859</td>\n",
       "    </tr>\n",
       "    <tr>\n",
       "      <th>1</th>\n",
       "      <td>36</td>\n",
       "      <td>Republicans</td>\n",
       "      <td>Democrats</td>\n",
       "      <td>Democrat</td>\n",
       "      <td>Divided</td>\n",
       "      <td>Buchanan</td>\n",
       "      <td>1860</td>\n",
       "    </tr>\n",
       "    <tr>\n",
       "      <th>2</th>\n",
       "      <td>37</td>\n",
       "      <td>Republicans</td>\n",
       "      <td>Republicans</td>\n",
       "      <td>Republican</td>\n",
       "      <td>Unified</td>\n",
       "      <td>Lincoln</td>\n",
       "      <td>1861</td>\n",
       "    </tr>\n",
       "    <tr>\n",
       "      <th>2</th>\n",
       "      <td>37</td>\n",
       "      <td>Republicans</td>\n",
       "      <td>Republicans</td>\n",
       "      <td>Republican</td>\n",
       "      <td>Unified</td>\n",
       "      <td>Lincoln</td>\n",
       "      <td>1862</td>\n",
       "    </tr>\n",
       "    <tr>\n",
       "      <th>3</th>\n",
       "      <td>38</td>\n",
       "      <td>Republicans</td>\n",
       "      <td>Republicans</td>\n",
       "      <td>Republican</td>\n",
       "      <td>Unified</td>\n",
       "      <td>Lincoln</td>\n",
       "      <td>1863</td>\n",
       "    </tr>\n",
       "    <tr>\n",
       "      <th>3</th>\n",
       "      <td>38</td>\n",
       "      <td>Republicans</td>\n",
       "      <td>Republicans</td>\n",
       "      <td>Republican</td>\n",
       "      <td>Unified</td>\n",
       "      <td>Lincoln</td>\n",
       "      <td>1864</td>\n",
       "    </tr>\n",
       "    <tr>\n",
       "      <th>4</th>\n",
       "      <td>39</td>\n",
       "      <td>Republicans</td>\n",
       "      <td>Republicans</td>\n",
       "      <td>Republican (Lincoln) / Democrat</td>\n",
       "      <td>Unified / Divided</td>\n",
       "      <td>A. Johnson</td>\n",
       "      <td>1865</td>\n",
       "    </tr>\n",
       "    <tr>\n",
       "      <th>...</th>\n",
       "      <td>...</td>\n",
       "      <td>...</td>\n",
       "      <td>...</td>\n",
       "      <td>...</td>\n",
       "      <td>...</td>\n",
       "      <td>...</td>\n",
       "      <td>...</td>\n",
       "    </tr>\n",
       "    <tr>\n",
       "      <th>79</th>\n",
       "      <td>114</td>\n",
       "      <td>Republicans</td>\n",
       "      <td>Republicans</td>\n",
       "      <td>Democrat</td>\n",
       "      <td>Divided</td>\n",
       "      <td>Obama</td>\n",
       "      <td>2016</td>\n",
       "    </tr>\n",
       "    <tr>\n",
       "      <th>80</th>\n",
       "      <td>115</td>\n",
       "      <td>Republicans</td>\n",
       "      <td>Republicans</td>\n",
       "      <td>Republican</td>\n",
       "      <td>Unified</td>\n",
       "      <td>Trump</td>\n",
       "      <td>2017</td>\n",
       "    </tr>\n",
       "    <tr>\n",
       "      <th>80</th>\n",
       "      <td>115</td>\n",
       "      <td>Republicans</td>\n",
       "      <td>Republicans</td>\n",
       "      <td>Republican</td>\n",
       "      <td>Unified</td>\n",
       "      <td>Trump</td>\n",
       "      <td>2018</td>\n",
       "    </tr>\n",
       "    <tr>\n",
       "      <th>81</th>\n",
       "      <td>116</td>\n",
       "      <td>Democrats</td>\n",
       "      <td>Republicans</td>\n",
       "      <td>Republican</td>\n",
       "      <td>Divided</td>\n",
       "      <td>Trump</td>\n",
       "      <td>2019</td>\n",
       "    </tr>\n",
       "    <tr>\n",
       "      <th>81</th>\n",
       "      <td>116</td>\n",
       "      <td>Democrats</td>\n",
       "      <td>Republicans</td>\n",
       "      <td>Republican</td>\n",
       "      <td>Divided</td>\n",
       "      <td>Trump</td>\n",
       "      <td>2020</td>\n",
       "    </tr>\n",
       "    <tr>\n",
       "      <th>82</th>\n",
       "      <td>117</td>\n",
       "      <td>Democrats</td>\n",
       "      <td>Democrats</td>\n",
       "      <td>Democrat</td>\n",
       "      <td>Unified</td>\n",
       "      <td>Biden</td>\n",
       "      <td>2021</td>\n",
       "    </tr>\n",
       "    <tr>\n",
       "      <th>82</th>\n",
       "      <td>117</td>\n",
       "      <td>Democrats</td>\n",
       "      <td>Democrats</td>\n",
       "      <td>Democrat</td>\n",
       "      <td>Unified</td>\n",
       "      <td>Biden</td>\n",
       "      <td>2022</td>\n",
       "    </tr>\n",
       "    <tr>\n",
       "      <th>83</th>\n",
       "      <td>118</td>\n",
       "      <td>Republicans</td>\n",
       "      <td>Democrats</td>\n",
       "      <td>Democrat</td>\n",
       "      <td>Divided</td>\n",
       "      <td>Biden</td>\n",
       "      <td>2023</td>\n",
       "    </tr>\n",
       "    <tr>\n",
       "      <th>83</th>\n",
       "      <td>118</td>\n",
       "      <td>Republicans</td>\n",
       "      <td>Democrats</td>\n",
       "      <td>Democrat</td>\n",
       "      <td>Divided</td>\n",
       "      <td>Biden</td>\n",
       "      <td>2024</td>\n",
       "    </tr>\n",
       "  </tbody>\n",
       "</table>\n",
       "<p>168 rows × 7 columns</p>\n",
       "</div>"
      ],
      "text/plain": [
       "   congress house_majority senate_majority                        presidency  \\\n",
       "0        35      Democrats       Democrats                         Democrat    \n",
       "0        35      Democrats       Democrats                         Democrat    \n",
       "1        36    Republicans       Democrats                         Democrat    \n",
       "1        36    Republicans       Democrats                         Democrat    \n",
       "2        37    Republicans     Republicans                       Republican    \n",
       "2        37    Republicans     Republicans                       Republican    \n",
       "3        38    Republicans     Republicans                       Republican    \n",
       "3        38    Republicans     Republicans                       Republican    \n",
       "4        39    Republicans     Republicans  Republican (Lincoln) / Democrat    \n",
       "..      ...            ...             ...                               ...   \n",
       "79      114    Republicans     Republicans                         Democrat    \n",
       "80      115    Republicans     Republicans                       Republican    \n",
       "80      115    Republicans     Republicans                       Republican    \n",
       "81      116      Democrats     Republicans                       Republican    \n",
       "81      116      Democrats     Republicans                       Republican    \n",
       "82      117      Democrats       Democrats                         Democrat    \n",
       "82      117      Democrats       Democrats                         Democrat    \n",
       "83      118    Republicans       Democrats                         Democrat    \n",
       "83      118    Republicans       Democrats                         Democrat    \n",
       "\n",
       "           government   president  year  \n",
       "0             Unified    Buchanan  1857  \n",
       "0             Unified    Buchanan  1858  \n",
       "1             Divided    Buchanan  1859  \n",
       "1             Divided    Buchanan  1860  \n",
       "2             Unified     Lincoln  1861  \n",
       "2             Unified     Lincoln  1862  \n",
       "3             Unified     Lincoln  1863  \n",
       "3             Unified     Lincoln  1864  \n",
       "4   Unified / Divided  A. Johnson  1865  \n",
       "..                ...         ...   ...  \n",
       "79            Divided       Obama  2016  \n",
       "80            Unified       Trump  2017  \n",
       "80            Unified       Trump  2018  \n",
       "81            Divided       Trump  2019  \n",
       "81            Divided       Trump  2020  \n",
       "82            Unified       Biden  2021  \n",
       "82            Unified       Biden  2022  \n",
       "83            Divided       Biden  2023  \n",
       "83            Divided       Biden  2024  \n",
       "\n",
       "[168 rows x 7 columns]"
      ]
     },
     "execution_count": 819,
     "metadata": {},
     "output_type": "execute_result"
    }
   ],
   "source": [
    "df.sort_values(by='year')"
   ]
  },
  {
   "cell_type": "markdown",
   "metadata": {},
   "source": [
    "#### Categories"
   ]
  },
  {
   "cell_type": "code",
   "execution_count": 820,
   "metadata": {},
   "outputs": [
    {
     "data": {
      "text/plain": [
       "house_majority\n",
       "Democrats      94\n",
       "Republicans    74\n",
       "Name: count, dtype: int64"
      ]
     },
     "execution_count": 820,
     "metadata": {},
     "output_type": "execute_result"
    }
   ],
   "source": [
    "df['house_majority'].value_counts()"
   ]
  },
  {
   "cell_type": "code",
   "execution_count": 821,
   "metadata": {},
   "outputs": [
    {
     "data": {
      "text/plain": [
       "government\n",
       "Unified              92\n",
       "Divided              72\n",
       "Unified / Divided     4\n",
       "Name: count, dtype: int64"
      ]
     },
     "execution_count": 821,
     "metadata": {},
     "output_type": "execute_result"
    }
   ],
   "source": [
    "df['government'].value_counts()"
   ]
  },
  {
   "cell_type": "code",
   "execution_count": 822,
   "metadata": {},
   "outputs": [
    {
     "data": {
      "text/html": [
       "<div>\n",
       "<style scoped>\n",
       "    .dataframe tbody tr th:only-of-type {\n",
       "        vertical-align: middle;\n",
       "    }\n",
       "\n",
       "    .dataframe tbody tr th {\n",
       "        vertical-align: top;\n",
       "    }\n",
       "\n",
       "    .dataframe thead th {\n",
       "        text-align: right;\n",
       "    }\n",
       "</style>\n",
       "<table border=\"1\" class=\"dataframe\">\n",
       "  <thead>\n",
       "    <tr style=\"text-align: right;\">\n",
       "      <th></th>\n",
       "      <th>congress</th>\n",
       "      <th>house_majority</th>\n",
       "      <th>senate_majority</th>\n",
       "      <th>presidency</th>\n",
       "      <th>government</th>\n",
       "      <th>president</th>\n",
       "      <th>year</th>\n",
       "    </tr>\n",
       "  </thead>\n",
       "  <tbody>\n",
       "    <tr>\n",
       "      <th>4</th>\n",
       "      <td>39</td>\n",
       "      <td>Republicans</td>\n",
       "      <td>Republicans</td>\n",
       "      <td>Republican (Lincoln) / Democrat</td>\n",
       "      <td>Unified / Divided</td>\n",
       "      <td>A. Johnson</td>\n",
       "      <td>1865</td>\n",
       "    </tr>\n",
       "    <tr>\n",
       "      <th>4</th>\n",
       "      <td>39</td>\n",
       "      <td>Republicans</td>\n",
       "      <td>Republicans</td>\n",
       "      <td>Republican (Lincoln) / Democrat</td>\n",
       "      <td>Unified / Divided</td>\n",
       "      <td>A. Johnson</td>\n",
       "      <td>1866</td>\n",
       "    </tr>\n",
       "    <tr>\n",
       "      <th>72</th>\n",
       "      <td>107</td>\n",
       "      <td>Republicans</td>\n",
       "      <td>Republicans / Democrats</td>\n",
       "      <td>Republican</td>\n",
       "      <td>Unified / Divided</td>\n",
       "      <td>G.W. Bush</td>\n",
       "      <td>2001</td>\n",
       "    </tr>\n",
       "    <tr>\n",
       "      <th>72</th>\n",
       "      <td>107</td>\n",
       "      <td>Republicans</td>\n",
       "      <td>Republicans / Democrats</td>\n",
       "      <td>Republican</td>\n",
       "      <td>Unified / Divided</td>\n",
       "      <td>G.W. Bush</td>\n",
       "      <td>2002</td>\n",
       "    </tr>\n",
       "  </tbody>\n",
       "</table>\n",
       "</div>"
      ],
      "text/plain": [
       "   congress house_majority          senate_majority  \\\n",
       "4        39    Republicans              Republicans   \n",
       "4        39    Republicans              Republicans   \n",
       "72      107    Republicans  Republicans / Democrats   \n",
       "72      107    Republicans  Republicans / Democrats   \n",
       "\n",
       "                          presidency         government   president  year  \n",
       "4   Republican (Lincoln) / Democrat   Unified / Divided  A. Johnson  1865  \n",
       "4   Republican (Lincoln) / Democrat   Unified / Divided  A. Johnson  1866  \n",
       "72                       Republican   Unified / Divided   G.W. Bush  2001  \n",
       "72                       Republican   Unified / Divided   G.W. Bush  2002  "
      ]
     },
     "execution_count": 822,
     "metadata": {},
     "output_type": "execute_result"
    }
   ],
   "source": [
    "df.loc[df['government'] == 'Unified / Divided']"
   ]
  },
  {
   "cell_type": "code",
   "execution_count": 823,
   "metadata": {},
   "outputs": [],
   "source": [
    "complicated = df['government'] == 'Unified / Divided'\n",
    "df = df[~complicated]"
   ]
  },
  {
   "cell_type": "code",
   "execution_count": 824,
   "metadata": {},
   "outputs": [
    {
     "data": {
      "text/plain": [
       "government\n",
       "Unified    92\n",
       "Divided    72\n",
       "Name: count, dtype: int64"
      ]
     },
     "execution_count": 824,
     "metadata": {},
     "output_type": "execute_result"
    }
   ],
   "source": [
    "df['government'].value_counts()"
   ]
  },
  {
   "cell_type": "code",
   "execution_count": 825,
   "metadata": {},
   "outputs": [
    {
     "data": {
      "text/plain": [
       "senate_majority\n",
       "Republicans    86\n",
       "Democrats      78\n",
       "Name: count, dtype: int64"
      ]
     },
     "execution_count": 825,
     "metadata": {},
     "output_type": "execute_result"
    }
   ],
   "source": [
    "df['senate_majority'].value_counts()"
   ]
  },
  {
   "cell_type": "code",
   "execution_count": 826,
   "metadata": {},
   "outputs": [],
   "source": [
    "category_cols = [\n",
    "    \"house_majority\",\n",
    "    \"senate_majority\",\n",
    "    \"government\",\n",
    "    'presidency'\n",
    "]\n",
    "\n",
    "df[category_cols] = df[category_cols].astype(\"category\")"
   ]
  },
  {
   "cell_type": "code",
   "execution_count": 827,
   "metadata": {},
   "outputs": [],
   "source": [
    "df['congress'] = df['congress'].astype(\"int\")"
   ]
  },
  {
   "cell_type": "markdown",
   "metadata": {},
   "source": [
    "Now we have nice columns and categories to group our numerical data by."
   ]
  },
  {
   "cell_type": "markdown",
   "metadata": {},
   "source": [
    "Finally, we reorder the columns."
   ]
  },
  {
   "cell_type": "code",
   "execution_count": 828,
   "metadata": {},
   "outputs": [
    {
     "data": {
      "text/plain": [
       "['congress',\n",
       " 'house_majority',\n",
       " 'senate_majority',\n",
       " 'presidency',\n",
       " 'government',\n",
       " 'president',\n",
       " 'year']"
      ]
     },
     "execution_count": 828,
     "metadata": {},
     "output_type": "execute_result"
    }
   ],
   "source": [
    "df.columns.to_list()"
   ]
  },
  {
   "cell_type": "code",
   "execution_count": 829,
   "metadata": {},
   "outputs": [],
   "source": [
    "# reorder columns\n",
    "df = df[\n",
    "    [\n",
    "        \"year\",\n",
    "        \"congress\",\n",
    "        \"president\",\n",
    "        \"presidency\",\n",
    "        \"house_majority\",\n",
    "        \"senate_majority\",\n",
    "        \"government\",\n",
    "    ]\n",
    "]"
   ]
  },
  {
   "cell_type": "markdown",
   "metadata": {},
   "source": [
    "### More data"
   ]
  },
  {
   "cell_type": "markdown",
   "metadata": {},
   "source": [
    "Here we get the deportation data and join it with the dataframe. This is why it was critical to generate the year feature."
   ]
  },
  {
   "cell_type": "code",
   "execution_count": 830,
   "metadata": {},
   "outputs": [
    {
     "data": {
      "text/html": [
       "<div>\n",
       "<style scoped>\n",
       "    .dataframe tbody tr th:only-of-type {\n",
       "        vertical-align: middle;\n",
       "    }\n",
       "\n",
       "    .dataframe tbody tr th {\n",
       "        vertical-align: top;\n",
       "    }\n",
       "\n",
       "    .dataframe thead th {\n",
       "        text-align: right;\n",
       "    }\n",
       "</style>\n",
       "<table border=\"1\" class=\"dataframe\">\n",
       "  <thead>\n",
       "    <tr style=\"text-align: right;\">\n",
       "      <th></th>\n",
       "      <th>year</th>\n",
       "      <th>removals</th>\n",
       "      <th>returns</th>\n",
       "    </tr>\n",
       "  </thead>\n",
       "  <tbody>\n",
       "    <tr>\n",
       "      <th>0</th>\n",
       "      <td>2019</td>\n",
       "      <td>359885</td>\n",
       "      <td>171445.0</td>\n",
       "    </tr>\n",
       "    <tr>\n",
       "      <th>1</th>\n",
       "      <td>2018</td>\n",
       "      <td>328716</td>\n",
       "      <td>159940.0</td>\n",
       "    </tr>\n",
       "    <tr>\n",
       "      <th>2</th>\n",
       "      <td>2017</td>\n",
       "      <td>287093</td>\n",
       "      <td>100695.0</td>\n",
       "    </tr>\n",
       "    <tr>\n",
       "      <th>3</th>\n",
       "      <td>2016</td>\n",
       "      <td>331717</td>\n",
       "      <td>106458.0</td>\n",
       "    </tr>\n",
       "    <tr>\n",
       "      <th>4</th>\n",
       "      <td>2015</td>\n",
       "      <td>325328</td>\n",
       "      <td>129661.0</td>\n",
       "    </tr>\n",
       "  </tbody>\n",
       "</table>\n",
       "</div>"
      ],
      "text/plain": [
       "   year  removals   returns\n",
       "0  2019    359885  171445.0\n",
       "1  2018    328716  159940.0\n",
       "2  2017    287093  100695.0\n",
       "3  2016    331717  106458.0\n",
       "4  2015    325328  129661.0"
      ]
     },
     "execution_count": 830,
     "metadata": {},
     "output_type": "execute_result"
    }
   ],
   "source": [
    "df2 = pd.read_csv('data/ice.csv')\n",
    "df2.head()"
   ]
  },
  {
   "cell_type": "code",
   "execution_count": 832,
   "metadata": {},
   "outputs": [
    {
     "data": {
      "text/html": [
       "<div>\n",
       "<style scoped>\n",
       "    .dataframe tbody tr th:only-of-type {\n",
       "        vertical-align: middle;\n",
       "    }\n",
       "\n",
       "    .dataframe tbody tr th {\n",
       "        vertical-align: top;\n",
       "    }\n",
       "\n",
       "    .dataframe thead th {\n",
       "        text-align: right;\n",
       "    }\n",
       "</style>\n",
       "<table border=\"1\" class=\"dataframe\">\n",
       "  <thead>\n",
       "    <tr style=\"text-align: right;\">\n",
       "      <th></th>\n",
       "      <th>year</th>\n",
       "      <th>congress</th>\n",
       "      <th>president</th>\n",
       "      <th>presidency</th>\n",
       "      <th>house_majority</th>\n",
       "      <th>senate_majority</th>\n",
       "      <th>government</th>\n",
       "      <th>removals_x</th>\n",
       "      <th>returns_x</th>\n",
       "      <th>removals_y</th>\n",
       "      <th>returns_y</th>\n",
       "    </tr>\n",
       "  </thead>\n",
       "  <tbody>\n",
       "    <tr>\n",
       "      <th>0</th>\n",
       "      <td>1892</td>\n",
       "      <td>52</td>\n",
       "      <td>Harrison</td>\n",
       "      <td>Republican</td>\n",
       "      <td>Democrats</td>\n",
       "      <td>Republicans</td>\n",
       "      <td>Divided</td>\n",
       "      <td>2801</td>\n",
       "      <td>NaN</td>\n",
       "      <td>2801</td>\n",
       "      <td>NaN</td>\n",
       "    </tr>\n",
       "    <tr>\n",
       "      <th>1</th>\n",
       "      <td>1893</td>\n",
       "      <td>53</td>\n",
       "      <td>Cleveland</td>\n",
       "      <td>Democrat</td>\n",
       "      <td>Democrats</td>\n",
       "      <td>Democrats</td>\n",
       "      <td>Unified</td>\n",
       "      <td>1630</td>\n",
       "      <td>NaN</td>\n",
       "      <td>1630</td>\n",
       "      <td>NaN</td>\n",
       "    </tr>\n",
       "    <tr>\n",
       "      <th>2</th>\n",
       "      <td>1894</td>\n",
       "      <td>53</td>\n",
       "      <td>Cleveland</td>\n",
       "      <td>Democrat</td>\n",
       "      <td>Democrats</td>\n",
       "      <td>Democrats</td>\n",
       "      <td>Unified</td>\n",
       "      <td>1806</td>\n",
       "      <td>NaN</td>\n",
       "      <td>1806</td>\n",
       "      <td>NaN</td>\n",
       "    </tr>\n",
       "    <tr>\n",
       "      <th>3</th>\n",
       "      <td>1895</td>\n",
       "      <td>54</td>\n",
       "      <td>Cleveland</td>\n",
       "      <td>Democrat</td>\n",
       "      <td>Republicans</td>\n",
       "      <td>Republicans</td>\n",
       "      <td>Divided</td>\n",
       "      <td>2596</td>\n",
       "      <td>NaN</td>\n",
       "      <td>2596</td>\n",
       "      <td>NaN</td>\n",
       "    </tr>\n",
       "    <tr>\n",
       "      <th>4</th>\n",
       "      <td>1896</td>\n",
       "      <td>54</td>\n",
       "      <td>Cleveland</td>\n",
       "      <td>Democrat</td>\n",
       "      <td>Republicans</td>\n",
       "      <td>Republicans</td>\n",
       "      <td>Divided</td>\n",
       "      <td>3037</td>\n",
       "      <td>NaN</td>\n",
       "      <td>3037</td>\n",
       "      <td>NaN</td>\n",
       "    </tr>\n",
       "    <tr>\n",
       "      <th>5</th>\n",
       "      <td>1897</td>\n",
       "      <td>55</td>\n",
       "      <td>McKinley</td>\n",
       "      <td>Republican</td>\n",
       "      <td>Republicans</td>\n",
       "      <td>Republicans</td>\n",
       "      <td>Unified</td>\n",
       "      <td>1880</td>\n",
       "      <td>NaN</td>\n",
       "      <td>1880</td>\n",
       "      <td>NaN</td>\n",
       "    </tr>\n",
       "    <tr>\n",
       "      <th>6</th>\n",
       "      <td>1898</td>\n",
       "      <td>55</td>\n",
       "      <td>McKinley</td>\n",
       "      <td>Republican</td>\n",
       "      <td>Republicans</td>\n",
       "      <td>Republicans</td>\n",
       "      <td>Unified</td>\n",
       "      <td>3229</td>\n",
       "      <td>NaN</td>\n",
       "      <td>3229</td>\n",
       "      <td>NaN</td>\n",
       "    </tr>\n",
       "    <tr>\n",
       "      <th>7</th>\n",
       "      <td>1899</td>\n",
       "      <td>56</td>\n",
       "      <td>McKinley</td>\n",
       "      <td>Republican</td>\n",
       "      <td>Republicans</td>\n",
       "      <td>Republicans</td>\n",
       "      <td>Unified</td>\n",
       "      <td>4052</td>\n",
       "      <td>NaN</td>\n",
       "      <td>4052</td>\n",
       "      <td>NaN</td>\n",
       "    </tr>\n",
       "    <tr>\n",
       "      <th>8</th>\n",
       "      <td>1900</td>\n",
       "      <td>56</td>\n",
       "      <td>McKinley</td>\n",
       "      <td>Republican</td>\n",
       "      <td>Republicans</td>\n",
       "      <td>Republicans</td>\n",
       "      <td>Unified</td>\n",
       "      <td>4602</td>\n",
       "      <td>NaN</td>\n",
       "      <td>4602</td>\n",
       "      <td>NaN</td>\n",
       "    </tr>\n",
       "    <tr>\n",
       "      <th>...</th>\n",
       "      <td>...</td>\n",
       "      <td>...</td>\n",
       "      <td>...</td>\n",
       "      <td>...</td>\n",
       "      <td>...</td>\n",
       "      <td>...</td>\n",
       "      <td>...</td>\n",
       "      <td>...</td>\n",
       "      <td>...</td>\n",
       "      <td>...</td>\n",
       "      <td>...</td>\n",
       "    </tr>\n",
       "    <tr>\n",
       "      <th>117</th>\n",
       "      <td>2011</td>\n",
       "      <td>112</td>\n",
       "      <td>Obama</td>\n",
       "      <td>Democrat</td>\n",
       "      <td>Republicans</td>\n",
       "      <td>Democrats</td>\n",
       "      <td>Divided</td>\n",
       "      <td>390423</td>\n",
       "      <td>322047.0</td>\n",
       "      <td>390423</td>\n",
       "      <td>322047.0</td>\n",
       "    </tr>\n",
       "    <tr>\n",
       "      <th>118</th>\n",
       "      <td>2012</td>\n",
       "      <td>112</td>\n",
       "      <td>Obama</td>\n",
       "      <td>Democrat</td>\n",
       "      <td>Republicans</td>\n",
       "      <td>Democrats</td>\n",
       "      <td>Divided</td>\n",
       "      <td>415607</td>\n",
       "      <td>231107.0</td>\n",
       "      <td>415607</td>\n",
       "      <td>231107.0</td>\n",
       "    </tr>\n",
       "    <tr>\n",
       "      <th>119</th>\n",
       "      <td>2013</td>\n",
       "      <td>113</td>\n",
       "      <td>Obama</td>\n",
       "      <td>Democrat</td>\n",
       "      <td>Republicans</td>\n",
       "      <td>Democrats</td>\n",
       "      <td>Divided</td>\n",
       "      <td>432228</td>\n",
       "      <td>178976.0</td>\n",
       "      <td>432228</td>\n",
       "      <td>178976.0</td>\n",
       "    </tr>\n",
       "    <tr>\n",
       "      <th>120</th>\n",
       "      <td>2014</td>\n",
       "      <td>113</td>\n",
       "      <td>Obama</td>\n",
       "      <td>Democrat</td>\n",
       "      <td>Republicans</td>\n",
       "      <td>Democrats</td>\n",
       "      <td>Divided</td>\n",
       "      <td>405090</td>\n",
       "      <td>163843.0</td>\n",
       "      <td>405090</td>\n",
       "      <td>163843.0</td>\n",
       "    </tr>\n",
       "    <tr>\n",
       "      <th>121</th>\n",
       "      <td>2015</td>\n",
       "      <td>114</td>\n",
       "      <td>Obama</td>\n",
       "      <td>Democrat</td>\n",
       "      <td>Republicans</td>\n",
       "      <td>Republicans</td>\n",
       "      <td>Divided</td>\n",
       "      <td>325328</td>\n",
       "      <td>129661.0</td>\n",
       "      <td>325328</td>\n",
       "      <td>129661.0</td>\n",
       "    </tr>\n",
       "    <tr>\n",
       "      <th>122</th>\n",
       "      <td>2016</td>\n",
       "      <td>114</td>\n",
       "      <td>Obama</td>\n",
       "      <td>Democrat</td>\n",
       "      <td>Republicans</td>\n",
       "      <td>Republicans</td>\n",
       "      <td>Divided</td>\n",
       "      <td>331717</td>\n",
       "      <td>106458.0</td>\n",
       "      <td>331717</td>\n",
       "      <td>106458.0</td>\n",
       "    </tr>\n",
       "    <tr>\n",
       "      <th>123</th>\n",
       "      <td>2017</td>\n",
       "      <td>115</td>\n",
       "      <td>Trump</td>\n",
       "      <td>Republican</td>\n",
       "      <td>Republicans</td>\n",
       "      <td>Republicans</td>\n",
       "      <td>Unified</td>\n",
       "      <td>287093</td>\n",
       "      <td>100695.0</td>\n",
       "      <td>287093</td>\n",
       "      <td>100695.0</td>\n",
       "    </tr>\n",
       "    <tr>\n",
       "      <th>124</th>\n",
       "      <td>2018</td>\n",
       "      <td>115</td>\n",
       "      <td>Trump</td>\n",
       "      <td>Republican</td>\n",
       "      <td>Republicans</td>\n",
       "      <td>Republicans</td>\n",
       "      <td>Unified</td>\n",
       "      <td>328716</td>\n",
       "      <td>159940.0</td>\n",
       "      <td>328716</td>\n",
       "      <td>159940.0</td>\n",
       "    </tr>\n",
       "    <tr>\n",
       "      <th>125</th>\n",
       "      <td>2019</td>\n",
       "      <td>116</td>\n",
       "      <td>Trump</td>\n",
       "      <td>Republican</td>\n",
       "      <td>Democrats</td>\n",
       "      <td>Republicans</td>\n",
       "      <td>Divided</td>\n",
       "      <td>359885</td>\n",
       "      <td>171445.0</td>\n",
       "      <td>359885</td>\n",
       "      <td>171445.0</td>\n",
       "    </tr>\n",
       "  </tbody>\n",
       "</table>\n",
       "<p>126 rows × 11 columns</p>\n",
       "</div>"
      ],
      "text/plain": [
       "     year  congress  president   presidency house_majority senate_majority  \\\n",
       "0    1892        52   Harrison  Republican       Democrats     Republicans   \n",
       "1    1893        53  Cleveland    Democrat       Democrats       Democrats   \n",
       "2    1894        53  Cleveland    Democrat       Democrats       Democrats   \n",
       "3    1895        54  Cleveland    Democrat     Republicans     Republicans   \n",
       "4    1896        54  Cleveland    Democrat     Republicans     Republicans   \n",
       "5    1897        55   McKinley  Republican     Republicans     Republicans   \n",
       "6    1898        55   McKinley  Republican     Republicans     Republicans   \n",
       "7    1899        56   McKinley  Republican     Republicans     Republicans   \n",
       "8    1900        56   McKinley  Republican     Republicans     Republicans   \n",
       "..    ...       ...        ...          ...            ...             ...   \n",
       "117  2011       112      Obama    Democrat     Republicans       Democrats   \n",
       "118  2012       112      Obama    Democrat     Republicans       Democrats   \n",
       "119  2013       113      Obama    Democrat     Republicans       Democrats   \n",
       "120  2014       113      Obama    Democrat     Republicans       Democrats   \n",
       "121  2015       114      Obama    Democrat     Republicans     Republicans   \n",
       "122  2016       114      Obama    Democrat     Republicans     Republicans   \n",
       "123  2017       115      Trump  Republican     Republicans     Republicans   \n",
       "124  2018       115      Trump  Republican     Republicans     Republicans   \n",
       "125  2019       116      Trump  Republican       Democrats     Republicans   \n",
       "\n",
       "    government  removals_x  returns_x  removals_y  returns_y  \n",
       "0      Divided        2801        NaN        2801        NaN  \n",
       "1      Unified        1630        NaN        1630        NaN  \n",
       "2      Unified        1806        NaN        1806        NaN  \n",
       "3      Divided        2596        NaN        2596        NaN  \n",
       "4      Divided        3037        NaN        3037        NaN  \n",
       "5      Unified        1880        NaN        1880        NaN  \n",
       "6      Unified        3229        NaN        3229        NaN  \n",
       "7      Unified        4052        NaN        4052        NaN  \n",
       "8      Unified        4602        NaN        4602        NaN  \n",
       "..         ...         ...        ...         ...        ...  \n",
       "117    Divided      390423   322047.0      390423   322047.0  \n",
       "118    Divided      415607   231107.0      415607   231107.0  \n",
       "119    Divided      432228   178976.0      432228   178976.0  \n",
       "120    Divided      405090   163843.0      405090   163843.0  \n",
       "121    Divided      325328   129661.0      325328   129661.0  \n",
       "122    Divided      331717   106458.0      331717   106458.0  \n",
       "123    Unified      287093   100695.0      287093   100695.0  \n",
       "124    Unified      328716   159940.0      328716   159940.0  \n",
       "125    Divided      359885   171445.0      359885   171445.0  \n",
       "\n",
       "[126 rows x 11 columns]"
      ]
     },
     "execution_count": 832,
     "metadata": {},
     "output_type": "execute_result"
    }
   ],
   "source": [
    "df = pd.merge(df, df2, on='year')\n",
    "df"
   ]
  },
  {
   "cell_type": "code",
   "execution_count": null,
   "metadata": {},
   "outputs": [
    {
     "name": "stdout",
     "output_type": "stream",
     "text": [
      "<class 'pandas.core.frame.DataFrame'>\n",
      "RangeIndex: 126 entries, 0 to 125\n",
      "Data columns (total 9 columns):\n",
      " #   Column           Non-Null Count  Dtype   \n",
      "---  ------           --------------  -----   \n",
      " 0   year             126 non-null    int64   \n",
      " 1   congress         126 non-null    int64   \n",
      " 2   president        126 non-null    object  \n",
      " 3   presidency       126 non-null    category\n",
      " 4   house_majority   126 non-null    category\n",
      " 5   senate_majority  126 non-null    category\n",
      " 6   government       126 non-null    category\n",
      " 7   removals         126 non-null    int64   \n",
      " 8   returns          91 non-null     float64 \n",
      "dtypes: category(4), float64(1), int64(3), object(1)\n",
      "memory usage: 13.6 KB\n"
     ]
    }
   ],
   "source": [
    "df.info(memory_usage=\"deep\")"
   ]
  },
  {
   "cell_type": "markdown",
   "metadata": {},
   "source": [
    "## Descriptive statistics"
   ]
  },
  {
   "cell_type": "code",
   "execution_count": null,
   "metadata": {},
   "outputs": [
    {
     "data": {
      "image/png": "[encoded data removed]",
      "text/plain": [
       "<Figure size 2400x1200 with 1 Axes>"
      ]
     },
     "metadata": {},
     "output_type": "display_data"
    }
   ],
   "source": [
    "df[\"presidency\"].value_counts().sort_values(ascending=True).plot.barh();\n",
    "# how to make it one line\n",
    "# percentage\n",
    "# other cols in same graph"
   ]
  },
  {
   "cell_type": "code",
   "execution_count": null,
   "metadata": {},
   "outputs": [],
   "source": [
    "sns.pointplot(x=\"capacity_ann\", y=\"type\", data=df_n);\n"
   ]
  },
  {
   "cell_type": "markdown",
   "metadata": {},
   "source": [
    "## Inferential statistics"
   ]
  },
  {
   "cell_type": "code",
   "execution_count": null,
   "metadata": {},
   "outputs": [],
   "source": [
    "sns.pointplot(x=\"capacity_ann\", y=\"type\", data=df_n);\n"
   ]
  },
  {
   "cell_type": "code",
   "execution_count": null,
   "metadata": {},
   "outputs": [],
   "source": [
    "df_n[\"capacity_ann\"][df_n[\"status\"] != \"Planned\"].describe()\n"
   ]
  },
  {
   "cell_type": "code",
   "execution_count": null,
   "metadata": {},
   "outputs": [],
   "source": [
    "_, p, _ = cm.ttest_ind()\n",
    "confint_low, confint_high = cm.tconfint_diff()\n",
    "print(f\"CI [{confint_low:.2f}, {confint_high:.2f}]\")\n",
    "print(f\"p = {p:.3f}\")"
   ]
  },
  {
   "cell_type": "code",
   "execution_count": null,
   "metadata": {},
   "outputs": [],
   "source": [
    "st.CompareMeans(\n",
    "    st.DescrStatsW(df_n[\"capacity_ann\"][df_n[\"region\"] == \"Europe\"]),\n",
    "    st.DescrStatsW(df_n[\"capacity_ann\"][df_n[\"region\"] == \"North America\"]),\n",
    ").summary()"
   ]
  },
  {
   "cell_type": "markdown",
   "metadata": {},
   "source": [
    "## Bias and misleading information"
   ]
  },
  {
   "cell_type": "markdown",
   "metadata": {},
   "source": [
    "if the majority is slim, is this important?\n",
    "\n",
    "this is one data point in an extremely complicated system. correlation and causantion"
   ]
  },
  {
   "cell_type": "markdown",
   "metadata": {},
   "source": [
    "## Conclusion"
   ]
  }
 ],
 "metadata": {
  "kernelspec": {
   "display_name": ".venv",
   "language": "python",
   "name": "python3"
  },
  "language_info": {
   "codemirror_mode": {
    "name": "ipython",
    "version": 3
   },
   "file_extension": ".py",
   "mimetype": "text/x-python",
   "name": "python",
   "nbconvert_exporter": "python",
   "pygments_lexer": "ipython3",
   "version": "3.10.12"
  }
 },
 "nbformat": 4,
 "nbformat_minor": 2
}
