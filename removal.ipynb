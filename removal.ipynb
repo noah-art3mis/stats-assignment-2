{
 "cells": [
  {
   "cell_type": "markdown",
   "metadata": {},
   "source": [
    "# Who deports more, Republicans or Democrats?"
   ]
  },
  {
   "cell_type": "markdown",
   "metadata": {},
   "source": [
    "Access notebook online here: TODO\n",
    "\n",
    "PDF made with ?\n",
    "\n",
    "---"
   ]
  },
  {
   "cell_type": "markdown",
   "metadata": {},
   "source": [
    "\n",
    "Trump won the US election a few days ago. A surprising contingent of black and latino us citizens have voted for him. The idea being floated around regards the fact that while the biden presidency was better for the economy, people do not feel the economy.\n",
    "\n",
    "I have been told the unlikely idea that the democrats deporting more than republicans - and this motivating latinos voting for trump even though that sounds contrary to their interests -. this would explain the latino votes for trump. it would mean that the voters care more about their personal situation than about the economy, and that they vote rationally instead of emotionally. assuming that trumps remarks about deporting legal immigrants and people eating cats and dogs wouldnt sit well with them, but\n",
    "this would also point to trumps stuff as rhetoric that he doesnt actually do, but just says for the vibes."
   ]
  },
  {
   "cell_type": "markdown",
   "metadata": {},
   "source": [
    "## Data sources\n",
    "\n",
    "Office of Homeland Security data (deportation): https://ohss.dhs.gov/topics/immigration/yearbook/2019/table39\n",
    "\n",
    "US House of Representatives History data (parties): https://history.house.gov/Institution/Presidents-Coinciding/Party-Government/"
   ]
  },
  {
   "cell_type": "markdown",
   "metadata": {},
   "source": [
    "### Notes\n",
    "\n",
    "**1976**: Includes the 15 months from July 1, 1975 to September 30, 1976 because the end date of fiscal years was changed from June 30 to September 30.\n",
    "\n",
    "**2016**: The counting methodology for administrative arrests by ICE ERO was revised to align with ICE ERO reporting for 2016; prior to 2016, only one administrative arrest could be counted for the same person on the same day."
   ]
  },
  {
   "cell_type": "markdown",
   "metadata": {},
   "source": [
    "## Feature explanation"
   ]
  },
  {
   "cell_type": "markdown",
   "metadata": {},
   "source": [
    "**Removals** are the compulsory and confirmed movement of an inadmissible or deportable alien out of the United States based on an order of removal. An alien who is removed has administrative or criminal consequences placed on subsequent reentry owing to the fact of the removal.\n",
    "\n",
    "**Returns** are the confirmed movement of an inadmissible or deportable alien out of the United States not based on an order of removal.\n",
    "\n",
    "When the President's party holds the majority in both chambers, it is considered a **unified** government. "
   ]
  },
  {
   "cell_type": "markdown",
   "metadata": {},
   "source": [
    "## Research question"
   ]
  },
  {
   "cell_type": "markdown",
   "metadata": {},
   "source": [
    "## Hypothesis"
   ]
  },
  {
   "cell_type": "markdown",
   "metadata": {},
   "source": [
    "## Data cleaning"
   ]
  },
  {
   "cell_type": "markdown",
   "metadata": {},
   "source": [
    "### Missing values"
   ]
  },
  {
   "cell_type": "markdown",
   "metadata": {},
   "source": [
    "### Numerical parameters"
   ]
  },
  {
   "cell_type": "markdown",
   "metadata": {},
   "source": [
    "### Categorical parameters"
   ]
  },
  {
   "cell_type": "markdown",
   "metadata": {},
   "source": [
    "## Descriptive statistics"
   ]
  },
  {
   "cell_type": "markdown",
   "metadata": {},
   "source": [
    "## Inferential statistics"
   ]
  },
  {
   "cell_type": "markdown",
   "metadata": {},
   "source": [
    "## Bias and misleading"
   ]
  },
  {
   "cell_type": "markdown",
   "metadata": {},
   "source": [
    "## Conclusion"
   ]
  }
 ],
 "metadata": {
  "kernelspec": {
   "display_name": ".venv",
   "language": "python",
   "name": "python3"
  },
  "language_info": {
   "name": "python",
   "version": "3.10.12"
  }
 },
 "nbformat": 4,
 "nbformat_minor": 2
}
