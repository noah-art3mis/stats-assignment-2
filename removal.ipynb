{
 "cells": [
  {
   "cell_type": "markdown",
   "metadata": {},
   "source": [
    "# Who deports more, Republicans or Democrats?\n"
   ]
  },
  {
   "cell_type": "markdown",
   "metadata": {},
   "source": [
    "LIS MASc  \n",
    "Everything Counts  \n",
    "Assessment 2  \n",
    "Student number: 24000114067\n",
    "\n",
    "Access notebook online here: TODO\n",
    "\n",
    "PDF generated using [nbconvert](https://nbconvert.readthedocs.io/en/latest/index.html)\n"
   ]
  },
  {
   "cell_type": "markdown",
   "metadata": {},
   "source": [
    "## Introduction\n"
   ]
  },
  {
   "cell_type": "markdown",
   "metadata": {},
   "source": [
    "Trump won the US election a few days ago. A surprising contingent of black and latino us citizens have voted for him. The idea being floated around regards the fact that while the biden presidency was better for the economy, people do not feel the economy.\n",
    "\n",
    "I have been told the unlikely idea that the democrats deporting more than republicans - and this motivating latinos voting for trump even though that sounds contrary to their interests -. this would explain the latino votes for trump. it would mean that the voters care more about their personal situation than about the economy, and that they vote rationally instead of emotionally. assuming that trumps remarks about deporting legal immigrants and people eating cats and dogs wouldnt sit well with them, but\n",
    "this would also point to trumps stuff as rhetoric that he doesnt actually do, but just says for the vibes.\n",
    "\n",
    "While this is not motivated by academic literature, it is motivated by current events. In fact, understanding something of this, I would argue, is extremely important.\n",
    "\n",
    "unauthorized immigration is quite a complicated interdisciplinary problem space. it deals with politics, diplomacy, morality, law, criminality, racism, geopolitcal inequality, resource distribution in policy\n",
    "\n",
    "\n",
    "kind of complicated. \n",
    "\n",
    "-   what is title 42. title 8\n",
    "-   diff between these terms.\n",
    "\n"
   ]
  },
  {
   "cell_type": "markdown",
   "metadata": {},
   "source": [
    "Influential factors:\n",
    "\n",
    "- Pandemic (title 42 vs title 8)\n",
    "    - this dataset does not consider the increase in number of migrant processing\n",
    "    - nor consider the difference between expulsion and removal.\n",
    "    - this data also does not consider the  \n",
    "- Confusing terminology (removals, returns, deportations, expulsions, repatriation...) ([Migration Policy Institute, 2024](https://www.migrationpolicy.org/article/biden-deportation-record))\n",
    "    - deportation is a colloquial term\n",
    "    - repatriation is an umbrella term for returns, expulsion and removals\n",
    "    - expulsion is a special type of removal under title 42\n",
    "    - removal is enforced repatriation based on a formal order of removal.\n",
    "    - return \"The departure out of the United States of a noncitizen who has been granted voluntary departure or allowed to withdraw their application for admission at the border or at a lawful port of entry, such as an airport. Returns typically occur at a U.S. border. Returns can be either enforcement returns, such as of migrants crossing the border irregularly, or administrative returns, such as of migrants who withdraw their applications or foreign crewmembers lacking entry visas who are ordered to stay aboard their ships.\"\n",
    "- Demographic shift in migrant arrivals ([Migration Policy Institute, 2024](https://www.migrationpolicy.org/article/biden-deportation-record))\n",
    "    - this suggests our analysis of the total population of the country did not reflect this increase.\n",
    "\n",
    "- Increasing (threefold) the number of migrants. They were already shortstaffed before.\n",
    "    - \"From FY 2021 through February 2024, authorities encountered unauthorized migrants about 9.4 million times, more than three times as many as under Trump\" ([Migration Policy Institute, 2024](https://www.migrationpolicy.org/article/biden-deportation-record))\n",
    "- Shift in focus from internal migrants to the border ([Migration Policy Institute, 2024](https://www.migrationpolicy.org/article/biden-deportation-record)). Since resources for agencies are limited, they focus on removing immigrants with criminal records. The shift to the border changes this.\n",
    "- Returns are cheaper\n",
    "- around 90% of repatriations are returns. this fits with the literature. \n",
    "\n",
    "> To remedy that, a recent bipartisan border bill would have provided DHS with $19 billion for personnel, facilities, and repatriation resources, but these efforts failed after Trump, now the presumptive Republican presidential nominee, expressed disapproval at what seemed to be the prospect of losing a major campaign talking point.\n",
    "\n",
    "very interesting! this might explain it. he want it to keep happening so he has atalking point. fixing the problem makes him weaker. much to think about!\n",
    "\n",
    "so biden made it harder because of strained resourcers.]\n",
    "\n",
    "While in place, the proclamation and rule effectively cap asylum claims, as there are only about 1,450 CBP One appointments available per day. In the weeks following the announcement, authorities doubled the share of border removals, and the number of unauthorized border crossings fell to about 2,400 encounters per day, DHS said, the fewest since Biden took office in January 2021. \n",
    "\n",
    "Federal courts in California and Washington, DC blocked a similar Trump administration effort, and rights groups have filed a lawsuit challenging the new rule.\n",
    "\n",
    "- migrants try repeatedly\n",
    "- trump's promise of mass deportation are logistaclly impossible (https://www.americanimmigrationcouncil.org/research/mass-deportation)\n",
    "\n",
    "- interior enforcement x border enforcement\n",
    "\n",
    "> Although detainer usage under the Biden administration has been rising, overall 50 percent more ICE detainers were issued during the Trump presidency (FY 2017 - FY 2020)"
   ]
  },
  {
   "cell_type": "markdown",
   "metadata": {},
   "source": [
    "## Normative factors\n"
   ]
  },
  {
   "cell_type": "markdown",
   "metadata": {},
   "source": [
    "\n",
    "this is a controversial topic. between cats and dogs. and some people assuming unauthorized immigration brings crime (which is something trump fosters daily). others see it as discrimination and racism. so it is expected, even from ['non-partisan' sources](https://www.migrationpolicy.org/article/biden-deportation-record), for them to be somewhat biased.\n",
    "\n",
    "> Whereas President Barack Obama was labeled by some as the “deporter in chief,” this new trend may earn President Joe Biden the title of “returner in chief.” Notably, authorities have deported migrants to more than 170 countries during the current administration, which may be the most ever.\n",
    "\n",
    "But what does The Data say about this?\n",
    "\n",
    "Well, the data comes from people who might have interest in deporting.\n",
    "\n",
    "this might be a case of 'who is holding the ball when it happens', which is another thing warrants a similar investigation. By looking at the plots, I get the impression that this is a non-partisan issue in the sense that it does not have clear differences between admininstrations. This can also be tested.\n",
    "\n",
    "One would imagine the sampling is independent and the frequency is large enough."
   ]
  },
  {
   "cell_type": "markdown",
   "metadata": {},
   "source": [
    "## Data sources\n",
    "\n",
    "Office of Homeland Security data (deportation): https://ohss.dhs.gov/topics/immigration/yearbook/2019/table39\n",
    "\n",
    "US House of Representatives History data (parties): https://history.house.gov/Institution/Presidents-Coinciding/Party-Government/\n",
    "\n",
    "Statista - UN demographic data (population): https://www.statista.com/statistics/1067138/population-united-states-historical/\n"
   ]
  },
  {
   "cell_type": "markdown",
   "metadata": {},
   "source": [
    "## Feature explanation\n"
   ]
  },
  {
   "cell_type": "markdown",
   "metadata": {},
   "source": [
    "**Removal** is the compulsory movement of an undocumented immigrant out of the United States based on an order of removal.\n",
    "\n",
    "**Returns** is the voluntary movement of an undocumented immigrant out of the United States without an order of removal.\n",
    "\n",
    "An **unified** government is when the President's party holds the majority in both chambers.\n"
   ]
  },
  {
   "cell_type": "markdown",
   "metadata": {},
   "source": [
    "## Research question\n",
    "\n",
    "Is there a higher rate of deportation of undocumented immigrants in the US when the president is a Democrat?\n",
    "\n",
    "TODO: source of this claim\n"
   ]
  },
  {
   "cell_type": "markdown",
   "metadata": {},
   "source": [
    "## Hypothesis\n",
    "\n",
    "H<sub>0</sub>: x̄<sub>D</sub> − x̄<sub>R</sub> = 0\n",
    "\n",
    "H<sub>A</sub>: x̄<sub>D</sub> − x̄<sub>R</sub> ≠ 0\n",
    "\n",
    "While the question is structured in a one-tailed way, if we need to ask this at all, it might be prudent to do a two-tailed test.\n"
   ]
  },
  {
   "cell_type": "markdown",
   "metadata": {},
   "source": [
    "## Data cleaning\n"
   ]
  },
  {
   "cell_type": "code",
   "execution_count": 1,
   "metadata": {},
   "outputs": [],
   "source": [
    "import pandas as pd\n",
    "import matplotlib.pyplot as plt\n",
    "import seaborn as sns\n",
    "import statsmodels.stats.weightstats as st\n",
    "import pingouin as pg\n",
    "\n",
    "pd.set_option(\"display.max_colwidth\", None)\n",
    "# pd.set_option('display.max_rows', 0)\n",
    "pd.set_option(\"display.float_format\", \"{:,.2f}\".format)\n",
    "\n",
    "# these are the colors google uses for their visualizations\n",
    "gop_red = \"#cf2035\"\n",
    "dem_blue = \"#4d64ff\"\n",
    "custom_colors = sns.color_palette([dem_blue, gop_red])\n",
    "\n",
    "plt.style.use(\"ggplot\")\n",
    "# plt.rcParams[\"figure.figsize\"] = (8, 4)\n",
    "# plt.rcParams[\"figure.dpi\"] = 300"
   ]
  },
  {
   "cell_type": "code",
   "execution_count": 2,
   "metadata": {},
   "outputs": [
    {
     "data": {
      "text/html": [
       "<div>\n",
       "<style scoped>\n",
       "    .dataframe tbody tr th:only-of-type {\n",
       "        vertical-align: middle;\n",
       "    }\n",
       "\n",
       "    .dataframe tbody tr th {\n",
       "        vertical-align: top;\n",
       "    }\n",
       "\n",
       "    .dataframe thead th {\n",
       "        text-align: right;\n",
       "    }\n",
       "</style>\n",
       "<table border=\"1\" class=\"dataframe\">\n",
       "  <thead>\n",
       "    <tr style=\"text-align: right;\">\n",
       "      <th></th>\n",
       "      <th>Congress</th>\n",
       "      <th>House Majority</th>\n",
       "      <th>Senate Majority</th>\n",
       "      <th>Presidency</th>\n",
       "      <th>Party Government</th>\n",
       "    </tr>\n",
       "  </thead>\n",
       "  <tbody>\n",
       "    <tr>\n",
       "      <th>0</th>\n",
       "      <td>35th (1857–1859)</td>\n",
       "      <td>Democrats</td>\n",
       "      <td>Democrats</td>\n",
       "      <td>Democrat (Buchanan)</td>\n",
       "      <td>Unified</td>\n",
       "    </tr>\n",
       "    <tr>\n",
       "      <th>1</th>\n",
       "      <td>36th (1859–1861)</td>\n",
       "      <td>Republicans</td>\n",
       "      <td>Democrats</td>\n",
       "      <td>Democrat (Buchanan)</td>\n",
       "      <td>Divided</td>\n",
       "    </tr>\n",
       "    <tr>\n",
       "      <th>2</th>\n",
       "      <td>37th (1861–1863)</td>\n",
       "      <td>Republicans</td>\n",
       "      <td>Republicans</td>\n",
       "      <td>Republican (Lincoln)</td>\n",
       "      <td>Unified</td>\n",
       "    </tr>\n",
       "    <tr>\n",
       "      <th>3</th>\n",
       "      <td>38th (1863–1865)</td>\n",
       "      <td>Republicans</td>\n",
       "      <td>Republicans</td>\n",
       "      <td>Republican (Lincoln)</td>\n",
       "      <td>Unified</td>\n",
       "    </tr>\n",
       "    <tr>\n",
       "      <th>4</th>\n",
       "      <td>39th (1865–1867)</td>\n",
       "      <td>Republicans</td>\n",
       "      <td>Republicans</td>\n",
       "      <td>Republican (Lincoln) / Democrat (A. Johnson)</td>\n",
       "      <td>Unified / Divided</td>\n",
       "    </tr>\n",
       "  </tbody>\n",
       "</table>\n",
       "</div>"
      ],
      "text/plain": [
       "           Congress House Majority Senate Majority  \\\n",
       "0  35th (1857–1859)      Democrats       Democrats   \n",
       "1  36th (1859–1861)    Republicans       Democrats   \n",
       "2  37th (1861–1863)    Republicans     Republicans   \n",
       "3  38th (1863–1865)    Republicans     Republicans   \n",
       "4  39th (1865–1867)    Republicans     Republicans   \n",
       "\n",
       "                                     Presidency   Party Government  \n",
       "0                          Democrat (Buchanan)             Unified  \n",
       "1                          Democrat (Buchanan)             Divided  \n",
       "2                         Republican (Lincoln)             Unified  \n",
       "3                         Republican (Lincoln)             Unified  \n",
       "4  Republican (Lincoln) / Democrat (A. Johnson)  Unified / Divided  "
      ]
     },
     "execution_count": 2,
     "metadata": {},
     "output_type": "execute_result"
    }
   ],
   "source": [
    "df = pd.read_csv(\"data/party.csv\")\n",
    "df.head()"
   ]
  },
  {
   "cell_type": "code",
   "execution_count": 3,
   "metadata": {},
   "outputs": [
    {
     "data": {
      "text/plain": [
       "['Congress',\n",
       " 'House Majority',\n",
       " 'Senate Majority',\n",
       " 'Presidency',\n",
       " 'Party Government']"
      ]
     },
     "execution_count": 3,
     "metadata": {},
     "output_type": "execute_result"
    }
   ],
   "source": [
    "df.columns.to_list()"
   ]
  },
  {
   "cell_type": "code",
   "execution_count": 4,
   "metadata": {},
   "outputs": [
    {
     "data": {
      "text/plain": [
       "congress               35th (1857–1859)\n",
       "house_majority                Democrats\n",
       "senate_majority               Democrats\n",
       "presidency         Democrat (Buchanan) \n",
       "government                      Unified\n",
       "Name: 0, dtype: object"
      ]
     },
     "execution_count": 4,
     "metadata": {},
     "output_type": "execute_result"
    }
   ],
   "source": [
    "# rename columns\n",
    "df = df.rename(\n",
    "    columns={\n",
    "        \"Congress\": \"congress\",\n",
    "        \"House Majority\": \"house_majority\",\n",
    "        \"Senate Majority\": \"senate_majority\",\n",
    "        \"Presidency\": \"presidency\",\n",
    "        \"Party Government\": \"government\",\n",
    "    }\n",
    ")\n",
    "\n",
    "df.iloc[0]"
   ]
  },
  {
   "cell_type": "markdown",
   "metadata": {},
   "source": [
    "### Missing values\n"
   ]
  },
  {
   "cell_type": "code",
   "execution_count": 5,
   "metadata": {},
   "outputs": [
    {
     "name": "stdout",
     "output_type": "stream",
     "text": [
      "<class 'pandas.core.frame.DataFrame'>\n",
      "RangeIndex: 84 entries, 0 to 83\n",
      "Data columns (total 5 columns):\n",
      " #   Column           Non-Null Count  Dtype \n",
      "---  ------           --------------  ----- \n",
      " 0   congress         84 non-null     object\n",
      " 1   house_majority   84 non-null     object\n",
      " 2   senate_majority  84 non-null     object\n",
      " 3   presidency       84 non-null     object\n",
      " 4   government       84 non-null     object\n",
      "dtypes: object(5)\n",
      "memory usage: 32.2 KB\n"
     ]
    }
   ],
   "source": [
    "df.info(memory_usage=\"deep\")"
   ]
  },
  {
   "cell_type": "markdown",
   "metadata": {},
   "source": [
    "There are no missing values. However, when presidents resign or die, sometimes the vice-president is from the other party. Because of this complexity, we are dropping these cases. We keep the ones in which the two presidents are of the same party, as this shouldn't interfere with the analysis. This makes for very neat categories.\n"
   ]
  },
  {
   "cell_type": "markdown",
   "metadata": {},
   "source": [
    "### Modifying features\n"
   ]
  },
  {
   "cell_type": "markdown",
   "metadata": {},
   "source": [
    "#### Presidency\n"
   ]
  },
  {
   "cell_type": "markdown",
   "metadata": {},
   "source": [
    "We move the president's name to another variable so the `presidency` feature can become a category.\n"
   ]
  },
  {
   "cell_type": "code",
   "execution_count": 6,
   "metadata": {},
   "outputs": [
    {
     "data": {
      "text/html": [
       "<div>\n",
       "<style scoped>\n",
       "    .dataframe tbody tr th:only-of-type {\n",
       "        vertical-align: middle;\n",
       "    }\n",
       "\n",
       "    .dataframe tbody tr th {\n",
       "        vertical-align: top;\n",
       "    }\n",
       "\n",
       "    .dataframe thead th {\n",
       "        text-align: right;\n",
       "    }\n",
       "</style>\n",
       "<table border=\"1\" class=\"dataframe\">\n",
       "  <thead>\n",
       "    <tr style=\"text-align: right;\">\n",
       "      <th></th>\n",
       "      <th>congress</th>\n",
       "      <th>house_majority</th>\n",
       "      <th>senate_majority</th>\n",
       "      <th>presidency</th>\n",
       "      <th>government</th>\n",
       "      <th>president</th>\n",
       "    </tr>\n",
       "  </thead>\n",
       "  <tbody>\n",
       "    <tr>\n",
       "      <th>0</th>\n",
       "      <td>35th (1857–1859)</td>\n",
       "      <td>Democrats</td>\n",
       "      <td>Democrats</td>\n",
       "      <td>Democrat</td>\n",
       "      <td>Unified</td>\n",
       "      <td>Buchanan</td>\n",
       "    </tr>\n",
       "    <tr>\n",
       "      <th>1</th>\n",
       "      <td>36th (1859–1861)</td>\n",
       "      <td>Republicans</td>\n",
       "      <td>Democrats</td>\n",
       "      <td>Democrat</td>\n",
       "      <td>Divided</td>\n",
       "      <td>Buchanan</td>\n",
       "    </tr>\n",
       "    <tr>\n",
       "      <th>2</th>\n",
       "      <td>37th (1861–1863)</td>\n",
       "      <td>Republicans</td>\n",
       "      <td>Republicans</td>\n",
       "      <td>Republican</td>\n",
       "      <td>Unified</td>\n",
       "      <td>Lincoln</td>\n",
       "    </tr>\n",
       "    <tr>\n",
       "      <th>3</th>\n",
       "      <td>38th (1863–1865)</td>\n",
       "      <td>Republicans</td>\n",
       "      <td>Republicans</td>\n",
       "      <td>Republican</td>\n",
       "      <td>Unified</td>\n",
       "      <td>Lincoln</td>\n",
       "    </tr>\n",
       "    <tr>\n",
       "      <th>4</th>\n",
       "      <td>39th (1865–1867)</td>\n",
       "      <td>Republicans</td>\n",
       "      <td>Republicans</td>\n",
       "      <td>Republican (Lincoln) / Democrat</td>\n",
       "      <td>Unified / Divided</td>\n",
       "      <td>A. Johnson</td>\n",
       "    </tr>\n",
       "  </tbody>\n",
       "</table>\n",
       "</div>"
      ],
      "text/plain": [
       "           congress house_majority senate_majority  \\\n",
       "0  35th (1857–1859)      Democrats       Democrats   \n",
       "1  36th (1859–1861)    Republicans       Democrats   \n",
       "2  37th (1861–1863)    Republicans     Republicans   \n",
       "3  38th (1863–1865)    Republicans     Republicans   \n",
       "4  39th (1865–1867)    Republicans     Republicans   \n",
       "\n",
       "                         presidency         government   president  \n",
       "0                         Democrat             Unified    Buchanan  \n",
       "1                         Democrat             Divided    Buchanan  \n",
       "2                       Republican             Unified     Lincoln  \n",
       "3                       Republican             Unified     Lincoln  \n",
       "4  Republican (Lincoln) / Democrat   Unified / Divided  A. Johnson  "
      ]
     },
     "execution_count": 6,
     "metadata": {},
     "output_type": "execute_result"
    }
   ],
   "source": [
    "df[[\"presidency\", \"president\"]] = df[\"presidency\"].str.extract(r\"(.*)(\\(.*\\))\")\n",
    "df[\"president\"] = df[\"president\"].str.strip(\"()\")\n",
    "df.head()"
   ]
  },
  {
   "cell_type": "code",
   "execution_count": 7,
   "metadata": {},
   "outputs": [],
   "source": [
    "df[\"presidency\"] = df[\"presidency\"].astype(\"category\")"
   ]
  },
  {
   "cell_type": "markdown",
   "metadata": {},
   "source": [
    "#### Congress\n"
   ]
  },
  {
   "cell_type": "markdown",
   "metadata": {},
   "source": [
    "In a similar but more involved way, we extract the years from the congress feature. The point is to have one row per year so that we can fit the two tables together.\n",
    "\n",
    "We assume that if the 35th congress spans 1857-1859 and the 36th spans 1859-1861, the end result should be:\n",
    "\n",
    "| Year | Congress |\n",
    "| ---- | -------- |\n",
    "| 1857 | 35th     |\n",
    "| 1858 | 35th     |\n",
    "| 1859 | 36th     |\n",
    "| 1860 | 36th     |\n"
   ]
  },
  {
   "cell_type": "code",
   "execution_count": 8,
   "metadata": {},
   "outputs": [
    {
     "data": {
      "text/plain": [
       "congress                  35\n",
       "house_majority     Democrats\n",
       "senate_majority    Democrats\n",
       "presidency         Democrat \n",
       "government           Unified\n",
       "president           Buchanan\n",
       "year_start              1857\n",
       "year_end                1859\n",
       "Name: 0, dtype: object"
      ]
     },
     "execution_count": 8,
     "metadata": {},
     "output_type": "execute_result"
    }
   ],
   "source": [
    "df[[\"congress\", \"year_start\", \"year_end\"]] = df[\"congress\"].str.extract(\n",
    "    r\"^(\\d*)\\w{2} \\((.*)–(.*)\\)\"\n",
    ")\n",
    "df.iloc[0]"
   ]
  },
  {
   "cell_type": "code",
   "execution_count": 9,
   "metadata": {},
   "outputs": [],
   "source": [
    "new_rows = []\n",
    "for k, v in df.iterrows():\n",
    "    for i in range(int(v[\"year_start\"]), int(v[\"year_end\"])):\n",
    "        new_row = v.copy()\n",
    "        new_row[\"year\"] = i\n",
    "        new_rows.append(new_row)\n",
    "\n",
    "df = pd.DataFrame(new_rows)\n",
    "df = df.drop(columns=[\"year_start\", \"year_end\"])"
   ]
  },
  {
   "cell_type": "code",
   "execution_count": 10,
   "metadata": {},
   "outputs": [
    {
     "data": {
      "text/html": [
       "<div>\n",
       "<style scoped>\n",
       "    .dataframe tbody tr th:only-of-type {\n",
       "        vertical-align: middle;\n",
       "    }\n",
       "\n",
       "    .dataframe tbody tr th {\n",
       "        vertical-align: top;\n",
       "    }\n",
       "\n",
       "    .dataframe thead th {\n",
       "        text-align: right;\n",
       "    }\n",
       "</style>\n",
       "<table border=\"1\" class=\"dataframe\">\n",
       "  <thead>\n",
       "    <tr style=\"text-align: right;\">\n",
       "      <th></th>\n",
       "      <th>congress</th>\n",
       "      <th>house_majority</th>\n",
       "      <th>senate_majority</th>\n",
       "      <th>presidency</th>\n",
       "      <th>government</th>\n",
       "      <th>president</th>\n",
       "      <th>year</th>\n",
       "    </tr>\n",
       "  </thead>\n",
       "  <tbody>\n",
       "    <tr>\n",
       "      <th>0</th>\n",
       "      <td>35</td>\n",
       "      <td>Democrats</td>\n",
       "      <td>Democrats</td>\n",
       "      <td>Democrat</td>\n",
       "      <td>Unified</td>\n",
       "      <td>Buchanan</td>\n",
       "      <td>1857</td>\n",
       "    </tr>\n",
       "    <tr>\n",
       "      <th>0</th>\n",
       "      <td>35</td>\n",
       "      <td>Democrats</td>\n",
       "      <td>Democrats</td>\n",
       "      <td>Democrat</td>\n",
       "      <td>Unified</td>\n",
       "      <td>Buchanan</td>\n",
       "      <td>1858</td>\n",
       "    </tr>\n",
       "    <tr>\n",
       "      <th>1</th>\n",
       "      <td>36</td>\n",
       "      <td>Republicans</td>\n",
       "      <td>Democrats</td>\n",
       "      <td>Democrat</td>\n",
       "      <td>Divided</td>\n",
       "      <td>Buchanan</td>\n",
       "      <td>1859</td>\n",
       "    </tr>\n",
       "    <tr>\n",
       "      <th>1</th>\n",
       "      <td>36</td>\n",
       "      <td>Republicans</td>\n",
       "      <td>Democrats</td>\n",
       "      <td>Democrat</td>\n",
       "      <td>Divided</td>\n",
       "      <td>Buchanan</td>\n",
       "      <td>1860</td>\n",
       "    </tr>\n",
       "    <tr>\n",
       "      <th>2</th>\n",
       "      <td>37</td>\n",
       "      <td>Republicans</td>\n",
       "      <td>Republicans</td>\n",
       "      <td>Republican</td>\n",
       "      <td>Unified</td>\n",
       "      <td>Lincoln</td>\n",
       "      <td>1861</td>\n",
       "    </tr>\n",
       "    <tr>\n",
       "      <th>...</th>\n",
       "      <td>...</td>\n",
       "      <td>...</td>\n",
       "      <td>...</td>\n",
       "      <td>...</td>\n",
       "      <td>...</td>\n",
       "      <td>...</td>\n",
       "      <td>...</td>\n",
       "    </tr>\n",
       "    <tr>\n",
       "      <th>81</th>\n",
       "      <td>116</td>\n",
       "      <td>Democrats</td>\n",
       "      <td>Republicans</td>\n",
       "      <td>Republican</td>\n",
       "      <td>Divided</td>\n",
       "      <td>Trump</td>\n",
       "      <td>2020</td>\n",
       "    </tr>\n",
       "    <tr>\n",
       "      <th>82</th>\n",
       "      <td>117</td>\n",
       "      <td>Democrats</td>\n",
       "      <td>Democrats</td>\n",
       "      <td>Democrat</td>\n",
       "      <td>Unified</td>\n",
       "      <td>Biden</td>\n",
       "      <td>2021</td>\n",
       "    </tr>\n",
       "    <tr>\n",
       "      <th>82</th>\n",
       "      <td>117</td>\n",
       "      <td>Democrats</td>\n",
       "      <td>Democrats</td>\n",
       "      <td>Democrat</td>\n",
       "      <td>Unified</td>\n",
       "      <td>Biden</td>\n",
       "      <td>2022</td>\n",
       "    </tr>\n",
       "    <tr>\n",
       "      <th>83</th>\n",
       "      <td>118</td>\n",
       "      <td>Republicans</td>\n",
       "      <td>Democrats</td>\n",
       "      <td>Democrat</td>\n",
       "      <td>Divided</td>\n",
       "      <td>Biden</td>\n",
       "      <td>2023</td>\n",
       "    </tr>\n",
       "    <tr>\n",
       "      <th>83</th>\n",
       "      <td>118</td>\n",
       "      <td>Republicans</td>\n",
       "      <td>Democrats</td>\n",
       "      <td>Democrat</td>\n",
       "      <td>Divided</td>\n",
       "      <td>Biden</td>\n",
       "      <td>2024</td>\n",
       "    </tr>\n",
       "  </tbody>\n",
       "</table>\n",
       "<p>168 rows × 7 columns</p>\n",
       "</div>"
      ],
      "text/plain": [
       "   congress house_majority senate_majority   presidency government president  \\\n",
       "0        35      Democrats       Democrats    Democrat     Unified  Buchanan   \n",
       "0        35      Democrats       Democrats    Democrat     Unified  Buchanan   \n",
       "1        36    Republicans       Democrats    Democrat     Divided  Buchanan   \n",
       "1        36    Republicans       Democrats    Democrat     Divided  Buchanan   \n",
       "2        37    Republicans     Republicans  Republican     Unified   Lincoln   \n",
       "..      ...            ...             ...          ...        ...       ...   \n",
       "81      116      Democrats     Republicans  Republican     Divided     Trump   \n",
       "82      117      Democrats       Democrats    Democrat     Unified     Biden   \n",
       "82      117      Democrats       Democrats    Democrat     Unified     Biden   \n",
       "83      118    Republicans       Democrats    Democrat     Divided     Biden   \n",
       "83      118    Republicans       Democrats    Democrat     Divided     Biden   \n",
       "\n",
       "    year  \n",
       "0   1857  \n",
       "0   1858  \n",
       "1   1859  \n",
       "1   1860  \n",
       "2   1861  \n",
       "..   ...  \n",
       "81  2020  \n",
       "82  2021  \n",
       "82  2022  \n",
       "83  2023  \n",
       "83  2024  \n",
       "\n",
       "[168 rows x 7 columns]"
      ]
     },
     "execution_count": 10,
     "metadata": {},
     "output_type": "execute_result"
    }
   ],
   "source": [
    "df.sort_values(by=\"year\")"
   ]
  },
  {
   "cell_type": "markdown",
   "metadata": {},
   "source": [
    "### Categories\n"
   ]
  },
  {
   "cell_type": "code",
   "execution_count": 11,
   "metadata": {},
   "outputs": [
    {
     "data": {
      "text/plain": [
       "house_majority\n",
       "Democrats      94\n",
       "Republicans    74\n",
       "Name: count, dtype: int64"
      ]
     },
     "execution_count": 11,
     "metadata": {},
     "output_type": "execute_result"
    }
   ],
   "source": [
    "df[\"house_majority\"].value_counts()"
   ]
  },
  {
   "cell_type": "code",
   "execution_count": 12,
   "metadata": {},
   "outputs": [
    {
     "data": {
      "text/plain": [
       "government\n",
       "Unified              92\n",
       "Divided              72\n",
       "Unified / Divided     4\n",
       "Name: count, dtype: int64"
      ]
     },
     "execution_count": 12,
     "metadata": {},
     "output_type": "execute_result"
    }
   ],
   "source": [
    "df[\"government\"].value_counts()"
   ]
  },
  {
   "cell_type": "code",
   "execution_count": 13,
   "metadata": {},
   "outputs": [
    {
     "data": {
      "text/html": [
       "<div>\n",
       "<style scoped>\n",
       "    .dataframe tbody tr th:only-of-type {\n",
       "        vertical-align: middle;\n",
       "    }\n",
       "\n",
       "    .dataframe tbody tr th {\n",
       "        vertical-align: top;\n",
       "    }\n",
       "\n",
       "    .dataframe thead th {\n",
       "        text-align: right;\n",
       "    }\n",
       "</style>\n",
       "<table border=\"1\" class=\"dataframe\">\n",
       "  <thead>\n",
       "    <tr style=\"text-align: right;\">\n",
       "      <th></th>\n",
       "      <th>congress</th>\n",
       "      <th>house_majority</th>\n",
       "      <th>senate_majority</th>\n",
       "      <th>presidency</th>\n",
       "      <th>government</th>\n",
       "      <th>president</th>\n",
       "      <th>year</th>\n",
       "    </tr>\n",
       "  </thead>\n",
       "  <tbody>\n",
       "    <tr>\n",
       "      <th>4</th>\n",
       "      <td>39</td>\n",
       "      <td>Republicans</td>\n",
       "      <td>Republicans</td>\n",
       "      <td>Republican (Lincoln) / Democrat</td>\n",
       "      <td>Unified / Divided</td>\n",
       "      <td>A. Johnson</td>\n",
       "      <td>1865</td>\n",
       "    </tr>\n",
       "    <tr>\n",
       "      <th>4</th>\n",
       "      <td>39</td>\n",
       "      <td>Republicans</td>\n",
       "      <td>Republicans</td>\n",
       "      <td>Republican (Lincoln) / Democrat</td>\n",
       "      <td>Unified / Divided</td>\n",
       "      <td>A. Johnson</td>\n",
       "      <td>1866</td>\n",
       "    </tr>\n",
       "    <tr>\n",
       "      <th>72</th>\n",
       "      <td>107</td>\n",
       "      <td>Republicans</td>\n",
       "      <td>Republicans / Democrats</td>\n",
       "      <td>Republican</td>\n",
       "      <td>Unified / Divided</td>\n",
       "      <td>G.W. Bush</td>\n",
       "      <td>2001</td>\n",
       "    </tr>\n",
       "    <tr>\n",
       "      <th>72</th>\n",
       "      <td>107</td>\n",
       "      <td>Republicans</td>\n",
       "      <td>Republicans / Democrats</td>\n",
       "      <td>Republican</td>\n",
       "      <td>Unified / Divided</td>\n",
       "      <td>G.W. Bush</td>\n",
       "      <td>2002</td>\n",
       "    </tr>\n",
       "  </tbody>\n",
       "</table>\n",
       "</div>"
      ],
      "text/plain": [
       "   congress house_majority          senate_majority  \\\n",
       "4        39    Republicans              Republicans   \n",
       "4        39    Republicans              Republicans   \n",
       "72      107    Republicans  Republicans / Democrats   \n",
       "72      107    Republicans  Republicans / Democrats   \n",
       "\n",
       "                          presidency         government   president  year  \n",
       "4   Republican (Lincoln) / Democrat   Unified / Divided  A. Johnson  1865  \n",
       "4   Republican (Lincoln) / Democrat   Unified / Divided  A. Johnson  1866  \n",
       "72                       Republican   Unified / Divided   G.W. Bush  2001  \n",
       "72                       Republican   Unified / Divided   G.W. Bush  2002  "
      ]
     },
     "execution_count": 13,
     "metadata": {},
     "output_type": "execute_result"
    }
   ],
   "source": [
    "df.loc[df[\"government\"] == \"Unified / Divided\"]"
   ]
  },
  {
   "cell_type": "code",
   "execution_count": 14,
   "metadata": {},
   "outputs": [],
   "source": [
    "complicated = df[\"government\"] == \"Unified / Divided\"\n",
    "df = df[~complicated]"
   ]
  },
  {
   "cell_type": "code",
   "execution_count": 15,
   "metadata": {},
   "outputs": [
    {
     "data": {
      "text/plain": [
       "government\n",
       "Unified    92\n",
       "Divided    72\n",
       "Name: count, dtype: int64"
      ]
     },
     "execution_count": 15,
     "metadata": {},
     "output_type": "execute_result"
    }
   ],
   "source": [
    "df[\"government\"].value_counts()"
   ]
  },
  {
   "cell_type": "code",
   "execution_count": 16,
   "metadata": {},
   "outputs": [
    {
     "data": {
      "text/plain": [
       "senate_majority\n",
       "Republicans    86\n",
       "Democrats      78\n",
       "Name: count, dtype: int64"
      ]
     },
     "execution_count": 16,
     "metadata": {},
     "output_type": "execute_result"
    }
   ],
   "source": [
    "df[\"senate_majority\"].value_counts()"
   ]
  },
  {
   "cell_type": "code",
   "execution_count": 17,
   "metadata": {},
   "outputs": [],
   "source": [
    "category_cols = [\"house_majority\", \"senate_majority\", \"government\", \"presidency\"]\n",
    "\n",
    "df[category_cols] = df[category_cols].astype(\"category\")"
   ]
  },
  {
   "cell_type": "code",
   "execution_count": 18,
   "metadata": {},
   "outputs": [],
   "source": [
    "df[\"congress\"] = df[\"congress\"].astype(\"int\")"
   ]
  },
  {
   "cell_type": "markdown",
   "metadata": {},
   "source": [
    "Now we have nice columns and categories to group our numerical data by.\n"
   ]
  },
  {
   "cell_type": "markdown",
   "metadata": {},
   "source": [
    "#### Rename categories\n"
   ]
  },
  {
   "cell_type": "markdown",
   "metadata": {},
   "source": [
    "We change 'Democrats' to 'Democrat' so all categories between columns are standardized.\n"
   ]
  },
  {
   "cell_type": "code",
   "execution_count": 19,
   "metadata": {},
   "outputs": [
    {
     "data": {
      "text/plain": [
       "Index(['Democrat', 'Republican'], dtype='object')"
      ]
     },
     "execution_count": 19,
     "metadata": {},
     "output_type": "execute_result"
    }
   ],
   "source": [
    "df[\"house_majority\"] = df[\"house_majority\"].cat.rename_categories(\n",
    "    {\n",
    "        \"Democrats\": \"Democrat\",\n",
    "        \"Republicans\": \"Republican\",\n",
    "    }\n",
    ")\n",
    "df[\"house_majority\"].cat.categories"
   ]
  },
  {
   "cell_type": "code",
   "execution_count": 20,
   "metadata": {},
   "outputs": [
    {
     "data": {
      "text/plain": [
       "Index(['Democrat', 'Republican'], dtype='object')"
      ]
     },
     "execution_count": 20,
     "metadata": {},
     "output_type": "execute_result"
    }
   ],
   "source": [
    "df[\"senate_majority\"] = df[\"senate_majority\"].cat.rename_categories(\n",
    "    {\n",
    "        \"Democrats\": \"Democrat\",\n",
    "        \"Republicans\": \"Republican\",\n",
    "    }\n",
    ")\n",
    "df[\"senate_majority\"].cat.categories"
   ]
  },
  {
   "cell_type": "code",
   "execution_count": 21,
   "metadata": {},
   "outputs": [
    {
     "data": {
      "text/plain": [
       "Index(['Democrat', 'Republican'], dtype='object')"
      ]
     },
     "execution_count": 21,
     "metadata": {},
     "output_type": "execute_result"
    }
   ],
   "source": [
    "df[\"presidency\"] = df[\"presidency\"].cat.rename_categories(\n",
    "    {\n",
    "        \"Democrat \": \"Democrat\",\n",
    "        \"Republican \": \"Republican\",\n",
    "    }\n",
    ")\n",
    "df[\"presidency\"].cat.categories"
   ]
  },
  {
   "cell_type": "code",
   "execution_count": 22,
   "metadata": {},
   "outputs": [
    {
     "data": {
      "text/plain": [
       "Index(['Divided', 'Unified'], dtype='object')"
      ]
     },
     "execution_count": 22,
     "metadata": {},
     "output_type": "execute_result"
    }
   ],
   "source": [
    "df[\"government\"].cat.categories"
   ]
  },
  {
   "cell_type": "markdown",
   "metadata": {},
   "source": [
    "### Adding deportation data\n"
   ]
  },
  {
   "cell_type": "markdown",
   "metadata": {},
   "source": [
    "Here we get the deportation data and join it with the dataframe. This is why it was critical to generate the year feature.\n"
   ]
  },
  {
   "cell_type": "code",
   "execution_count": 23,
   "metadata": {},
   "outputs": [
    {
     "data": {
      "text/html": [
       "<div>\n",
       "<style scoped>\n",
       "    .dataframe tbody tr th:only-of-type {\n",
       "        vertical-align: middle;\n",
       "    }\n",
       "\n",
       "    .dataframe tbody tr th {\n",
       "        vertical-align: top;\n",
       "    }\n",
       "\n",
       "    .dataframe thead th {\n",
       "        text-align: right;\n",
       "    }\n",
       "</style>\n",
       "<table border=\"1\" class=\"dataframe\">\n",
       "  <thead>\n",
       "    <tr style=\"text-align: right;\">\n",
       "      <th></th>\n",
       "      <th>year</th>\n",
       "      <th>removals</th>\n",
       "      <th>returns</th>\n",
       "    </tr>\n",
       "  </thead>\n",
       "  <tbody>\n",
       "    <tr>\n",
       "      <th>0</th>\n",
       "      <td>2019</td>\n",
       "      <td>359885</td>\n",
       "      <td>171,445.00</td>\n",
       "    </tr>\n",
       "    <tr>\n",
       "      <th>1</th>\n",
       "      <td>2018</td>\n",
       "      <td>328716</td>\n",
       "      <td>159,940.00</td>\n",
       "    </tr>\n",
       "    <tr>\n",
       "      <th>2</th>\n",
       "      <td>2017</td>\n",
       "      <td>287093</td>\n",
       "      <td>100,695.00</td>\n",
       "    </tr>\n",
       "    <tr>\n",
       "      <th>3</th>\n",
       "      <td>2016</td>\n",
       "      <td>331717</td>\n",
       "      <td>106,458.00</td>\n",
       "    </tr>\n",
       "    <tr>\n",
       "      <th>4</th>\n",
       "      <td>2015</td>\n",
       "      <td>325328</td>\n",
       "      <td>129,661.00</td>\n",
       "    </tr>\n",
       "  </tbody>\n",
       "</table>\n",
       "</div>"
      ],
      "text/plain": [
       "   year  removals    returns\n",
       "0  2019    359885 171,445.00\n",
       "1  2018    328716 159,940.00\n",
       "2  2017    287093 100,695.00\n",
       "3  2016    331717 106,458.00\n",
       "4  2015    325328 129,661.00"
      ]
     },
     "execution_count": 23,
     "metadata": {},
     "output_type": "execute_result"
    }
   ],
   "source": [
    "df2 = pd.read_csv(\"data/ice.csv\")\n",
    "df2.head()"
   ]
  },
  {
   "cell_type": "code",
   "execution_count": 24,
   "metadata": {},
   "outputs": [
    {
     "data": {
      "text/html": [
       "<div>\n",
       "<style scoped>\n",
       "    .dataframe tbody tr th:only-of-type {\n",
       "        vertical-align: middle;\n",
       "    }\n",
       "\n",
       "    .dataframe tbody tr th {\n",
       "        vertical-align: top;\n",
       "    }\n",
       "\n",
       "    .dataframe thead th {\n",
       "        text-align: right;\n",
       "    }\n",
       "</style>\n",
       "<table border=\"1\" class=\"dataframe\">\n",
       "  <thead>\n",
       "    <tr style=\"text-align: right;\">\n",
       "      <th></th>\n",
       "      <th>congress</th>\n",
       "      <th>house_majority</th>\n",
       "      <th>senate_majority</th>\n",
       "      <th>presidency</th>\n",
       "      <th>government</th>\n",
       "      <th>president</th>\n",
       "      <th>year</th>\n",
       "      <th>removals</th>\n",
       "      <th>returns</th>\n",
       "    </tr>\n",
       "  </thead>\n",
       "  <tbody>\n",
       "    <tr>\n",
       "      <th>0</th>\n",
       "      <td>52</td>\n",
       "      <td>Democrat</td>\n",
       "      <td>Republican</td>\n",
       "      <td>Republican</td>\n",
       "      <td>Divided</td>\n",
       "      <td>Harrison</td>\n",
       "      <td>1892</td>\n",
       "      <td>2801</td>\n",
       "      <td>NaN</td>\n",
       "    </tr>\n",
       "    <tr>\n",
       "      <th>1</th>\n",
       "      <td>53</td>\n",
       "      <td>Democrat</td>\n",
       "      <td>Democrat</td>\n",
       "      <td>Democrat</td>\n",
       "      <td>Unified</td>\n",
       "      <td>Cleveland</td>\n",
       "      <td>1893</td>\n",
       "      <td>1630</td>\n",
       "      <td>NaN</td>\n",
       "    </tr>\n",
       "    <tr>\n",
       "      <th>2</th>\n",
       "      <td>53</td>\n",
       "      <td>Democrat</td>\n",
       "      <td>Democrat</td>\n",
       "      <td>Democrat</td>\n",
       "      <td>Unified</td>\n",
       "      <td>Cleveland</td>\n",
       "      <td>1894</td>\n",
       "      <td>1806</td>\n",
       "      <td>NaN</td>\n",
       "    </tr>\n",
       "    <tr>\n",
       "      <th>3</th>\n",
       "      <td>54</td>\n",
       "      <td>Republican</td>\n",
       "      <td>Republican</td>\n",
       "      <td>Democrat</td>\n",
       "      <td>Divided</td>\n",
       "      <td>Cleveland</td>\n",
       "      <td>1895</td>\n",
       "      <td>2596</td>\n",
       "      <td>NaN</td>\n",
       "    </tr>\n",
       "    <tr>\n",
       "      <th>4</th>\n",
       "      <td>54</td>\n",
       "      <td>Republican</td>\n",
       "      <td>Republican</td>\n",
       "      <td>Democrat</td>\n",
       "      <td>Divided</td>\n",
       "      <td>Cleveland</td>\n",
       "      <td>1896</td>\n",
       "      <td>3037</td>\n",
       "      <td>NaN</td>\n",
       "    </tr>\n",
       "  </tbody>\n",
       "</table>\n",
       "</div>"
      ],
      "text/plain": [
       "   congress house_majority senate_majority  presidency government  president  \\\n",
       "0        52       Democrat      Republican  Republican    Divided   Harrison   \n",
       "1        53       Democrat        Democrat    Democrat    Unified  Cleveland   \n",
       "2        53       Democrat        Democrat    Democrat    Unified  Cleveland   \n",
       "3        54     Republican      Republican    Democrat    Divided  Cleveland   \n",
       "4        54     Republican      Republican    Democrat    Divided  Cleveland   \n",
       "\n",
       "   year  removals  returns  \n",
       "0  1892      2801      NaN  \n",
       "1  1893      1630      NaN  \n",
       "2  1894      1806      NaN  \n",
       "3  1895      2596      NaN  \n",
       "4  1896      3037      NaN  "
      ]
     },
     "execution_count": 24,
     "metadata": {},
     "output_type": "execute_result"
    }
   ],
   "source": [
    "df = pd.merge(df, df2, on=\"year\")\n",
    "df.head()"
   ]
  },
  {
   "cell_type": "code",
   "execution_count": 25,
   "metadata": {},
   "outputs": [
    {
     "name": "stdout",
     "output_type": "stream",
     "text": [
      "<class 'pandas.core.frame.DataFrame'>\n",
      "RangeIndex: 126 entries, 0 to 125\n",
      "Data columns (total 9 columns):\n",
      " #   Column           Non-Null Count  Dtype   \n",
      "---  ------           --------------  -----   \n",
      " 0   congress         126 non-null    int64   \n",
      " 1   house_majority   126 non-null    category\n",
      " 2   senate_majority  126 non-null    category\n",
      " 3   presidency       126 non-null    category\n",
      " 4   government       126 non-null    category\n",
      " 5   president        126 non-null    object  \n",
      " 6   year             126 non-null    int64   \n",
      " 7   removals         126 non-null    int64   \n",
      " 8   returns          91 non-null     float64 \n",
      "dtypes: category(4), float64(1), int64(3), object(1)\n",
      "memory usage: 13.6 KB\n"
     ]
    }
   ],
   "source": [
    "df.info(memory_usage=\"deep\")"
   ]
  },
  {
   "cell_type": "markdown",
   "metadata": {},
   "source": [
    "We keep the retuns as floats because the NaNs are significant -- they refer to the period before removals and returns were considered as different categories.\n"
   ]
  },
  {
   "cell_type": "markdown",
   "metadata": {},
   "source": [
    "### Adding population data\n"
   ]
  },
  {
   "cell_type": "markdown",
   "metadata": {},
   "source": [
    "Comparing the absolute values of deportation might be meaningless since the population of the country changes a lot with time. The new governments might have higher deportation rates simply because they have more people. Because of this, we create adjusted metrics that account for the population growth\n"
   ]
  },
  {
   "cell_type": "code",
   "execution_count": 26,
   "metadata": {},
   "outputs": [
    {
     "data": {
      "text/html": [
       "<div>\n",
       "<style scoped>\n",
       "    .dataframe tbody tr th:only-of-type {\n",
       "        vertical-align: middle;\n",
       "    }\n",
       "\n",
       "    .dataframe tbody tr th {\n",
       "        vertical-align: top;\n",
       "    }\n",
       "\n",
       "    .dataframe thead th {\n",
       "        text-align: right;\n",
       "    }\n",
       "</style>\n",
       "<table border=\"1\" class=\"dataframe\">\n",
       "  <thead>\n",
       "    <tr style=\"text-align: right;\">\n",
       "      <th></th>\n",
       "      <th>year</th>\n",
       "      <th>population</th>\n",
       "    </tr>\n",
       "  </thead>\n",
       "  <tbody>\n",
       "    <tr>\n",
       "      <th>0</th>\n",
       "      <td>1800</td>\n",
       "      <td>6,000</td>\n",
       "    </tr>\n",
       "    <tr>\n",
       "      <th>1</th>\n",
       "      <td>1801</td>\n",
       "      <td>6,110</td>\n",
       "    </tr>\n",
       "    <tr>\n",
       "      <th>2</th>\n",
       "      <td>1802</td>\n",
       "      <td>6,230</td>\n",
       "    </tr>\n",
       "    <tr>\n",
       "      <th>3</th>\n",
       "      <td>1803</td>\n",
       "      <td>6,350</td>\n",
       "    </tr>\n",
       "    <tr>\n",
       "      <th>4</th>\n",
       "      <td>1804</td>\n",
       "      <td>6,470</td>\n",
       "    </tr>\n",
       "    <tr>\n",
       "      <th>...</th>\n",
       "      <td>...</td>\n",
       "      <td>...</td>\n",
       "    </tr>\n",
       "    <tr>\n",
       "      <th>216</th>\n",
       "      <td>2016</td>\n",
       "      <td>323,015.99</td>\n",
       "    </tr>\n",
       "    <tr>\n",
       "      <th>217</th>\n",
       "      <td>2017</td>\n",
       "      <td>325,084.76</td>\n",
       "    </tr>\n",
       "    <tr>\n",
       "      <th>218</th>\n",
       "      <td>2018</td>\n",
       "      <td>327,096.26</td>\n",
       "    </tr>\n",
       "    <tr>\n",
       "      <th>219</th>\n",
       "      <td>2019</td>\n",
       "      <td>329,064.92</td>\n",
       "    </tr>\n",
       "    <tr>\n",
       "      <th>220</th>\n",
       "      <td>2020</td>\n",
       "      <td>331,002.65</td>\n",
       "    </tr>\n",
       "  </tbody>\n",
       "</table>\n",
       "<p>221 rows × 2 columns</p>\n",
       "</div>"
      ],
      "text/plain": [
       "     year  population\n",
       "0    1800       6,000\n",
       "1    1801       6,110\n",
       "2    1802       6,230\n",
       "3    1803       6,350\n",
       "4    1804       6,470\n",
       "..    ...         ...\n",
       "216  2016  323,015.99\n",
       "217  2017  325,084.76\n",
       "218  2018  327,096.26\n",
       "219  2019  329,064.92\n",
       "220  2020  331,002.65\n",
       "\n",
       "[221 rows x 2 columns]"
      ]
     },
     "execution_count": 26,
     "metadata": {},
     "output_type": "execute_result"
    }
   ],
   "source": [
    "df3 = pd.read_csv(\"data/population.csv\")\n",
    "df3"
   ]
  },
  {
   "cell_type": "code",
   "execution_count": 27,
   "metadata": {},
   "outputs": [
    {
     "name": "stdout",
     "output_type": "stream",
     "text": [
      "<class 'pandas.core.frame.DataFrame'>\n",
      "RangeIndex: 221 entries, 0 to 220\n",
      "Data columns (total 2 columns):\n",
      " #   Column      Non-Null Count  Dtype  \n",
      "---  ------      --------------  -----  \n",
      " 0   year        221 non-null    int64  \n",
      " 1   population  221 non-null    float64\n",
      "dtypes: float64(1), int64(1)\n",
      "memory usage: 3.6 KB\n"
     ]
    }
   ],
   "source": [
    "df3[\"population\"] = df3[\"population\"].str.replace(\",\", \"\")\n",
    "df3[\"population\"] = df3[\"population\"].astype(\"float\")\n",
    "df3[\"population\"] = df3[\"population\"] * 1000\n",
    "df3.info()"
   ]
  },
  {
   "cell_type": "code",
   "execution_count": 28,
   "metadata": {},
   "outputs": [
    {
     "data": {
      "text/html": [
       "<div>\n",
       "<style scoped>\n",
       "    .dataframe tbody tr th:only-of-type {\n",
       "        vertical-align: middle;\n",
       "    }\n",
       "\n",
       "    .dataframe tbody tr th {\n",
       "        vertical-align: top;\n",
       "    }\n",
       "\n",
       "    .dataframe thead th {\n",
       "        text-align: right;\n",
       "    }\n",
       "</style>\n",
       "<table border=\"1\" class=\"dataframe\">\n",
       "  <thead>\n",
       "    <tr style=\"text-align: right;\">\n",
       "      <th></th>\n",
       "      <th>congress</th>\n",
       "      <th>house_majority</th>\n",
       "      <th>senate_majority</th>\n",
       "      <th>presidency</th>\n",
       "      <th>government</th>\n",
       "      <th>president</th>\n",
       "      <th>year</th>\n",
       "      <th>removals</th>\n",
       "      <th>returns</th>\n",
       "      <th>population</th>\n",
       "    </tr>\n",
       "  </thead>\n",
       "  <tbody>\n",
       "    <tr>\n",
       "      <th>121</th>\n",
       "      <td>114</td>\n",
       "      <td>Republican</td>\n",
       "      <td>Republican</td>\n",
       "      <td>Democrat</td>\n",
       "      <td>Divided</td>\n",
       "      <td>Obama</td>\n",
       "      <td>2015</td>\n",
       "      <td>325328</td>\n",
       "      <td>129,661.00</td>\n",
       "      <td>320,878,310.00</td>\n",
       "    </tr>\n",
       "    <tr>\n",
       "      <th>122</th>\n",
       "      <td>114</td>\n",
       "      <td>Republican</td>\n",
       "      <td>Republican</td>\n",
       "      <td>Democrat</td>\n",
       "      <td>Divided</td>\n",
       "      <td>Obama</td>\n",
       "      <td>2016</td>\n",
       "      <td>331717</td>\n",
       "      <td>106,458.00</td>\n",
       "      <td>323,015,990.00</td>\n",
       "    </tr>\n",
       "    <tr>\n",
       "      <th>123</th>\n",
       "      <td>115</td>\n",
       "      <td>Republican</td>\n",
       "      <td>Republican</td>\n",
       "      <td>Republican</td>\n",
       "      <td>Unified</td>\n",
       "      <td>Trump</td>\n",
       "      <td>2017</td>\n",
       "      <td>287093</td>\n",
       "      <td>100,695.00</td>\n",
       "      <td>325,084,760.00</td>\n",
       "    </tr>\n",
       "    <tr>\n",
       "      <th>124</th>\n",
       "      <td>115</td>\n",
       "      <td>Republican</td>\n",
       "      <td>Republican</td>\n",
       "      <td>Republican</td>\n",
       "      <td>Unified</td>\n",
       "      <td>Trump</td>\n",
       "      <td>2018</td>\n",
       "      <td>328716</td>\n",
       "      <td>159,940.00</td>\n",
       "      <td>327,096,260.00</td>\n",
       "    </tr>\n",
       "    <tr>\n",
       "      <th>125</th>\n",
       "      <td>116</td>\n",
       "      <td>Democrat</td>\n",
       "      <td>Republican</td>\n",
       "      <td>Republican</td>\n",
       "      <td>Divided</td>\n",
       "      <td>Trump</td>\n",
       "      <td>2019</td>\n",
       "      <td>359885</td>\n",
       "      <td>171,445.00</td>\n",
       "      <td>329,064,920.00</td>\n",
       "    </tr>\n",
       "  </tbody>\n",
       "</table>\n",
       "</div>"
      ],
      "text/plain": [
       "     congress house_majority senate_majority  presidency government president  \\\n",
       "121       114     Republican      Republican    Democrat    Divided     Obama   \n",
       "122       114     Republican      Republican    Democrat    Divided     Obama   \n",
       "123       115     Republican      Republican  Republican    Unified     Trump   \n",
       "124       115     Republican      Republican  Republican    Unified     Trump   \n",
       "125       116       Democrat      Republican  Republican    Divided     Trump   \n",
       "\n",
       "     year  removals    returns     population  \n",
       "121  2015    325328 129,661.00 320,878,310.00  \n",
       "122  2016    331717 106,458.00 323,015,990.00  \n",
       "123  2017    287093 100,695.00 325,084,760.00  \n",
       "124  2018    328716 159,940.00 327,096,260.00  \n",
       "125  2019    359885 171,445.00 329,064,920.00  "
      ]
     },
     "execution_count": 28,
     "metadata": {},
     "output_type": "execute_result"
    }
   ],
   "source": [
    "df = pd.merge(df, df3, on=\"year\")\n",
    "df.tail()"
   ]
  },
  {
   "cell_type": "code",
   "execution_count": 29,
   "metadata": {},
   "outputs": [
    {
     "data": {
      "text/html": [
       "<div>\n",
       "<style scoped>\n",
       "    .dataframe tbody tr th:only-of-type {\n",
       "        vertical-align: middle;\n",
       "    }\n",
       "\n",
       "    .dataframe tbody tr th {\n",
       "        vertical-align: top;\n",
       "    }\n",
       "\n",
       "    .dataframe thead th {\n",
       "        text-align: right;\n",
       "    }\n",
       "</style>\n",
       "<table border=\"1\" class=\"dataframe\">\n",
       "  <thead>\n",
       "    <tr style=\"text-align: right;\">\n",
       "      <th></th>\n",
       "      <th>congress</th>\n",
       "      <th>house_majority</th>\n",
       "      <th>senate_majority</th>\n",
       "      <th>presidency</th>\n",
       "      <th>government</th>\n",
       "      <th>president</th>\n",
       "      <th>year</th>\n",
       "      <th>removals</th>\n",
       "      <th>returns</th>\n",
       "      <th>population</th>\n",
       "      <th>removals_adj</th>\n",
       "      <th>returns_adj</th>\n",
       "    </tr>\n",
       "  </thead>\n",
       "  <tbody>\n",
       "    <tr>\n",
       "      <th>121</th>\n",
       "      <td>114</td>\n",
       "      <td>Republican</td>\n",
       "      <td>Republican</td>\n",
       "      <td>Democrat</td>\n",
       "      <td>Divided</td>\n",
       "      <td>Obama</td>\n",
       "      <td>2015</td>\n",
       "      <td>325328</td>\n",
       "      <td>129,661.00</td>\n",
       "      <td>320,878,310.00</td>\n",
       "      <td>0.00</td>\n",
       "      <td>0.00</td>\n",
       "    </tr>\n",
       "    <tr>\n",
       "      <th>122</th>\n",
       "      <td>114</td>\n",
       "      <td>Republican</td>\n",
       "      <td>Republican</td>\n",
       "      <td>Democrat</td>\n",
       "      <td>Divided</td>\n",
       "      <td>Obama</td>\n",
       "      <td>2016</td>\n",
       "      <td>331717</td>\n",
       "      <td>106,458.00</td>\n",
       "      <td>323,015,990.00</td>\n",
       "      <td>0.00</td>\n",
       "      <td>0.00</td>\n",
       "    </tr>\n",
       "    <tr>\n",
       "      <th>123</th>\n",
       "      <td>115</td>\n",
       "      <td>Republican</td>\n",
       "      <td>Republican</td>\n",
       "      <td>Republican</td>\n",
       "      <td>Unified</td>\n",
       "      <td>Trump</td>\n",
       "      <td>2017</td>\n",
       "      <td>287093</td>\n",
       "      <td>100,695.00</td>\n",
       "      <td>325,084,760.00</td>\n",
       "      <td>0.00</td>\n",
       "      <td>0.00</td>\n",
       "    </tr>\n",
       "    <tr>\n",
       "      <th>124</th>\n",
       "      <td>115</td>\n",
       "      <td>Republican</td>\n",
       "      <td>Republican</td>\n",
       "      <td>Republican</td>\n",
       "      <td>Unified</td>\n",
       "      <td>Trump</td>\n",
       "      <td>2018</td>\n",
       "      <td>328716</td>\n",
       "      <td>159,940.00</td>\n",
       "      <td>327,096,260.00</td>\n",
       "      <td>0.00</td>\n",
       "      <td>0.00</td>\n",
       "    </tr>\n",
       "    <tr>\n",
       "      <th>125</th>\n",
       "      <td>116</td>\n",
       "      <td>Democrat</td>\n",
       "      <td>Republican</td>\n",
       "      <td>Republican</td>\n",
       "      <td>Divided</td>\n",
       "      <td>Trump</td>\n",
       "      <td>2019</td>\n",
       "      <td>359885</td>\n",
       "      <td>171,445.00</td>\n",
       "      <td>329,064,920.00</td>\n",
       "      <td>0.00</td>\n",
       "      <td>0.00</td>\n",
       "    </tr>\n",
       "  </tbody>\n",
       "</table>\n",
       "</div>"
      ],
      "text/plain": [
       "     congress house_majority senate_majority  presidency government president  \\\n",
       "121       114     Republican      Republican    Democrat    Divided     Obama   \n",
       "122       114     Republican      Republican    Democrat    Divided     Obama   \n",
       "123       115     Republican      Republican  Republican    Unified     Trump   \n",
       "124       115     Republican      Republican  Republican    Unified     Trump   \n",
       "125       116       Democrat      Republican  Republican    Divided     Trump   \n",
       "\n",
       "     year  removals    returns     population  removals_adj  returns_adj  \n",
       "121  2015    325328 129,661.00 320,878,310.00          0.00         0.00  \n",
       "122  2016    331717 106,458.00 323,015,990.00          0.00         0.00  \n",
       "123  2017    287093 100,695.00 325,084,760.00          0.00         0.00  \n",
       "124  2018    328716 159,940.00 327,096,260.00          0.00         0.00  \n",
       "125  2019    359885 171,445.00 329,064,920.00          0.00         0.00  "
      ]
     },
     "execution_count": 29,
     "metadata": {},
     "output_type": "execute_result"
    }
   ],
   "source": [
    "df[\"removals_adj\"] = df[\"removals\"] / df[\"population\"]\n",
    "df[\"returns_adj\"] = df[\"returns\"] / df[\"population\"]\n",
    "df.tail()"
   ]
  },
  {
   "cell_type": "markdown",
   "metadata": {},
   "source": [
    "Finally, we reorder the columns.\n"
   ]
  },
  {
   "cell_type": "code",
   "execution_count": 30,
   "metadata": {},
   "outputs": [
    {
     "data": {
      "text/plain": [
       "['congress',\n",
       " 'house_majority',\n",
       " 'senate_majority',\n",
       " 'presidency',\n",
       " 'government',\n",
       " 'president',\n",
       " 'year',\n",
       " 'removals',\n",
       " 'returns',\n",
       " 'population',\n",
       " 'removals_adj',\n",
       " 'returns_adj']"
      ]
     },
     "execution_count": 30,
     "metadata": {},
     "output_type": "execute_result"
    }
   ],
   "source": [
    "df.columns.to_list()"
   ]
  },
  {
   "cell_type": "code",
   "execution_count": 31,
   "metadata": {},
   "outputs": [],
   "source": [
    "# reorder columns\n",
    "df = df[\n",
    "    [\n",
    "        \"year\",\n",
    "        \"congress\",\n",
    "        \"president\",\n",
    "        \"presidency\",\n",
    "        \"house_majority\",\n",
    "        \"senate_majority\",\n",
    "        \"government\",\n",
    "        \"population\",\n",
    "        \"removals\",\n",
    "        \"removals_adj\",\n",
    "        \"returns\",\n",
    "        \"returns_adj\",\n",
    "    ]\n",
    "]"
   ]
  },
  {
   "cell_type": "code",
   "execution_count": 32,
   "metadata": {},
   "outputs": [
    {
     "name": "stdout",
     "output_type": "stream",
     "text": [
      "<class 'pandas.core.frame.DataFrame'>\n",
      "RangeIndex: 126 entries, 0 to 125\n",
      "Data columns (total 12 columns):\n",
      " #   Column           Non-Null Count  Dtype   \n",
      "---  ------           --------------  -----   \n",
      " 0   year             126 non-null    int64   \n",
      " 1   congress         126 non-null    int64   \n",
      " 2   president        126 non-null    object  \n",
      " 3   presidency       126 non-null    category\n",
      " 4   house_majority   126 non-null    category\n",
      " 5   senate_majority  126 non-null    category\n",
      " 6   government       126 non-null    category\n",
      " 7   population       126 non-null    float64 \n",
      " 8   removals         126 non-null    int64   \n",
      " 9   removals_adj     126 non-null    float64 \n",
      " 10  returns          91 non-null     float64 \n",
      " 11  returns_adj      91 non-null     float64 \n",
      "dtypes: category(4), float64(4), int64(3), object(1)\n",
      "memory usage: 16.5 KB\n"
     ]
    }
   ],
   "source": [
    "df.info(memory_usage=\"deep\")"
   ]
  },
  {
   "cell_type": "markdown",
   "metadata": {},
   "source": [
    "## Descriptive statistics\n"
   ]
  },
  {
   "cell_type": "code",
   "execution_count": 33,
   "metadata": {},
   "outputs": [
    {
     "data": {
      "text/html": [
       "<div>\n",
       "<style scoped>\n",
       "    .dataframe tbody tr th:only-of-type {\n",
       "        vertical-align: middle;\n",
       "    }\n",
       "\n",
       "    .dataframe tbody tr th {\n",
       "        vertical-align: top;\n",
       "    }\n",
       "\n",
       "    .dataframe thead th {\n",
       "        text-align: right;\n",
       "    }\n",
       "</style>\n",
       "<table border=\"1\" class=\"dataframe\">\n",
       "  <thead>\n",
       "    <tr style=\"text-align: right;\">\n",
       "      <th></th>\n",
       "      <th>year</th>\n",
       "      <th>congress</th>\n",
       "      <th>president</th>\n",
       "      <th>presidency</th>\n",
       "      <th>house_majority</th>\n",
       "      <th>senate_majority</th>\n",
       "      <th>government</th>\n",
       "      <th>population</th>\n",
       "      <th>removals</th>\n",
       "      <th>removals_adj</th>\n",
       "      <th>returns</th>\n",
       "      <th>returns_adj</th>\n",
       "    </tr>\n",
       "  </thead>\n",
       "  <tbody>\n",
       "    <tr>\n",
       "      <th>0</th>\n",
       "      <td>1892</td>\n",
       "      <td>52</td>\n",
       "      <td>Harrison</td>\n",
       "      <td>Republican</td>\n",
       "      <td>Democrat</td>\n",
       "      <td>Republican</td>\n",
       "      <td>Divided</td>\n",
       "      <td>67,400,000.00</td>\n",
       "      <td>2801</td>\n",
       "      <td>0.00</td>\n",
       "      <td>NaN</td>\n",
       "      <td>NaN</td>\n",
       "    </tr>\n",
       "    <tr>\n",
       "      <th>1</th>\n",
       "      <td>1893</td>\n",
       "      <td>53</td>\n",
       "      <td>Cleveland</td>\n",
       "      <td>Democrat</td>\n",
       "      <td>Democrat</td>\n",
       "      <td>Democrat</td>\n",
       "      <td>Unified</td>\n",
       "      <td>68,700,000.00</td>\n",
       "      <td>1630</td>\n",
       "      <td>0.00</td>\n",
       "      <td>NaN</td>\n",
       "      <td>NaN</td>\n",
       "    </tr>\n",
       "    <tr>\n",
       "      <th>2</th>\n",
       "      <td>1894</td>\n",
       "      <td>53</td>\n",
       "      <td>Cleveland</td>\n",
       "      <td>Democrat</td>\n",
       "      <td>Democrat</td>\n",
       "      <td>Democrat</td>\n",
       "      <td>Unified</td>\n",
       "      <td>70,100,000.00</td>\n",
       "      <td>1806</td>\n",
       "      <td>0.00</td>\n",
       "      <td>NaN</td>\n",
       "      <td>NaN</td>\n",
       "    </tr>\n",
       "    <tr>\n",
       "      <th>3</th>\n",
       "      <td>1895</td>\n",
       "      <td>54</td>\n",
       "      <td>Cleveland</td>\n",
       "      <td>Democrat</td>\n",
       "      <td>Republican</td>\n",
       "      <td>Republican</td>\n",
       "      <td>Divided</td>\n",
       "      <td>71,500,000.00</td>\n",
       "      <td>2596</td>\n",
       "      <td>0.00</td>\n",
       "      <td>NaN</td>\n",
       "      <td>NaN</td>\n",
       "    </tr>\n",
       "    <tr>\n",
       "      <th>4</th>\n",
       "      <td>1896</td>\n",
       "      <td>54</td>\n",
       "      <td>Cleveland</td>\n",
       "      <td>Democrat</td>\n",
       "      <td>Republican</td>\n",
       "      <td>Republican</td>\n",
       "      <td>Divided</td>\n",
       "      <td>72,900,000.00</td>\n",
       "      <td>3037</td>\n",
       "      <td>0.00</td>\n",
       "      <td>NaN</td>\n",
       "      <td>NaN</td>\n",
       "    </tr>\n",
       "  </tbody>\n",
       "</table>\n",
       "</div>"
      ],
      "text/plain": [
       "   year  congress  president  presidency house_majority senate_majority  \\\n",
       "0  1892        52   Harrison  Republican       Democrat      Republican   \n",
       "1  1893        53  Cleveland    Democrat       Democrat        Democrat   \n",
       "2  1894        53  Cleveland    Democrat       Democrat        Democrat   \n",
       "3  1895        54  Cleveland    Democrat     Republican      Republican   \n",
       "4  1896        54  Cleveland    Democrat     Republican      Republican   \n",
       "\n",
       "  government    population  removals  removals_adj  returns  returns_adj  \n",
       "0    Divided 67,400,000.00      2801          0.00      NaN          NaN  \n",
       "1    Unified 68,700,000.00      1630          0.00      NaN          NaN  \n",
       "2    Unified 70,100,000.00      1806          0.00      NaN          NaN  \n",
       "3    Divided 71,500,000.00      2596          0.00      NaN          NaN  \n",
       "4    Divided 72,900,000.00      3037          0.00      NaN          NaN  "
      ]
     },
     "execution_count": 33,
     "metadata": {},
     "output_type": "execute_result"
    }
   ],
   "source": [
    "df.head()"
   ]
  },
  {
   "cell_type": "code",
   "execution_count": 34,
   "metadata": {},
   "outputs": [
    {
     "data": {
      "image/png": "[encoded data removed]",
      "text/plain": [
       "<Figure size 640x480 with 3 Axes>"
      ]
     },
     "metadata": {},
     "output_type": "display_data"
    }
   ],
   "source": [
    "fig, axes = plt.subplots(nrows=1, ncols=3, sharey=True)\n",
    "\n",
    "df[\"presidency\"].value_counts(normalize=True).plot(\n",
    "    ax=axes[0], kind=\"bar\", stacked=True, ylabel=\"\"\n",
    ")\n",
    "\n",
    "df[\"house_majority\"].value_counts(normalize=True).plot(\n",
    "    ax=axes[1], kind=\"bar\", stacked=True, ylabel=\"\"\n",
    ")\n",
    "df[\"senate_majority\"].value_counts(normalize=True).plot(\n",
    "    ax=axes[2], kind=\"bar\", stacked=True, ylabel=\"\"\n",
    ")\n",
    "\n",
    "plt.suptitle(\"Distribution by Party (1857-2024)\")\n",
    "plt.tight_layout()"
   ]
  },
  {
   "cell_type": "code",
   "execution_count": 35,
   "metadata": {},
   "outputs": [
    {
     "data": {
      "text/plain": [
       "<Axes: ylabel='government'>"
      ]
     },
     "execution_count": 35,
     "metadata": {},
     "output_type": "execute_result"
    },
    {
     "data": {
      "image/png": "[encoded data removed]",
      "text/plain": [
       "<Figure size 640x480 with 1 Axes>"
      ]
     },
     "metadata": {},
     "output_type": "display_data"
    }
   ],
   "source": [
    "df[\"government\"].value_counts().plot.barh()"
   ]
  },
  {
   "cell_type": "code",
   "execution_count": 36,
   "metadata": {},
   "outputs": [
    {
     "data": {
      "image/png": "[encoded data removed]",
      "text/plain": [
       "<Figure size 640x480 with 2 Axes>"
      ]
     },
     "metadata": {},
     "output_type": "display_data"
    }
   ],
   "source": [
    "fig, axes = plt.subplots(2, 1)\n",
    "\n",
    "sns.lineplot(data=df, ax=axes[0], x=\"year\", y=\"removals\", label=\"removals\")\n",
    "sns.lineplot(data=df, ax=axes[0], x=\"year\", y=\"returns\", label=\"returns\")\n",
    "\n",
    "sns.lineplot(data=df, ax=axes[1], x=\"year\", y=\"removals_adj\", label=\"removals adj\")\n",
    "sns.lineplot(data=df, ax=axes[1], x=\"year\", y=\"returns_adj\", label=\"returns adj\")\n",
    "\n",
    "plt.legend()\n",
    "plt.suptitle(\"removals and returns per year\")\n",
    "plt.tight_layout()"
   ]
  },
  {
   "cell_type": "markdown",
   "metadata": {},
   "source": [
    "By looking at it, it seems that adjusting for the population only makes the deportations from before 1960 seem a bit more expressive. Apart from that, there is no difference. This might be because the population growth looks like a straight 45 degree angle line.\n",
    "\n",
    "The expectation that population would be important here seems to be false. I thought that it might be misleading but as it is I have no reason to believe it is.\n"
   ]
  },
  {
   "cell_type": "code",
   "execution_count": 37,
   "metadata": {},
   "outputs": [
    {
     "data": {
      "text/plain": [
       "<Axes: xlabel='year', ylabel='population'>"
      ]
     },
     "execution_count": 37,
     "metadata": {},
     "output_type": "execute_result"
    },
    {
     "data": {
      "image/png": "[encoded data removed]",
      "text/plain": [
       "<Figure size 640x480 with 1 Axes>"
      ]
     },
     "metadata": {},
     "output_type": "display_data"
    }
   ],
   "source": [
    "sns.regplot(data=df, x=\"year\", y=\"population\")"
   ]
  },
  {
   "cell_type": "code",
   "execution_count": 38,
   "metadata": {},
   "outputs": [
    {
     "data": {
      "text/html": [
       "<div>\n",
       "<style scoped>\n",
       "    .dataframe tbody tr th:only-of-type {\n",
       "        vertical-align: middle;\n",
       "    }\n",
       "\n",
       "    .dataframe tbody tr th {\n",
       "        vertical-align: top;\n",
       "    }\n",
       "\n",
       "    .dataframe thead th {\n",
       "        text-align: right;\n",
       "    }\n",
       "</style>\n",
       "<table border=\"1\" class=\"dataframe\">\n",
       "  <thead>\n",
       "    <tr style=\"text-align: right;\">\n",
       "      <th></th>\n",
       "      <th>removals</th>\n",
       "      <th>removals_adj</th>\n",
       "    </tr>\n",
       "  </thead>\n",
       "  <tbody>\n",
       "    <tr>\n",
       "      <th>removals</th>\n",
       "      <td>1.00</td>\n",
       "      <td>0.99</td>\n",
       "    </tr>\n",
       "    <tr>\n",
       "      <th>removals_adj</th>\n",
       "      <td>0.99</td>\n",
       "      <td>1.00</td>\n",
       "    </tr>\n",
       "  </tbody>\n",
       "</table>\n",
       "</div>"
      ],
      "text/plain": [
       "              removals  removals_adj\n",
       "removals          1.00          0.99\n",
       "removals_adj      0.99          1.00"
      ]
     },
     "execution_count": 38,
     "metadata": {},
     "output_type": "execute_result"
    }
   ],
   "source": [
    "df[[\"removals\", \"removals_adj\"]].corr()"
   ]
  },
  {
   "cell_type": "markdown",
   "metadata": {},
   "source": [
    "Between that and the fact that the adjusted metric has a 99% correlation with the original, this line of inquiry is dropped. This suggests the variation of the repatriation data has no relation with the population size of the country."
   ]
  },
  {
   "cell_type": "code",
   "execution_count": 39,
   "metadata": {},
   "outputs": [
    {
     "data": {
      "image/png": "[encoded data removed]",
      "text/plain": [
       "<Figure size 640x480 with 2 Axes>"
      ]
     },
     "metadata": {},
     "output_type": "display_data"
    }
   ],
   "source": [
    "fig, axes = plt.subplots(2, 1, sharex=True, sharey=True)\n",
    "\n",
    "sns.barplot(\n",
    "    data=df,\n",
    "    ax=axes[0],\n",
    "    x=\"year\",\n",
    "    y=\"removals\",\n",
    "    hue=\"presidency\",\n",
    "    palette=custom_colors,\n",
    ")\n",
    "\n",
    "sns.barplot(\n",
    "    data=df,\n",
    "    ax=axes[1],\n",
    "    x=\"year\",\n",
    "    y=\"returns\",\n",
    "    hue=\"presidency\",\n",
    "    palette=custom_colors,\n",
    ")\n",
    "\n",
    "plt.suptitle(\"removals and returns per year\")\n",
    "plt.tight_layout()"
   ]
  },
  {
   "cell_type": "code",
   "execution_count": 40,
   "metadata": {},
   "outputs": [
    {
     "data": {
      "image/png": "[encoded data removed]",
      "text/plain": [
       "<Figure size 640x480 with 2 Axes>"
      ]
     },
     "metadata": {},
     "output_type": "display_data"
    }
   ],
   "source": [
    "fig, axes = plt.subplots(2, 1, sharex=True, sharey=True)\n",
    "\n",
    "sns.barplot(\n",
    "    data=df,\n",
    "    ax=axes[0],\n",
    "    x=\"year\",\n",
    "    y=\"removals\",\n",
    "    hue=\"house_majority\",\n",
    "    palette=custom_colors,\n",
    ")\n",
    "\n",
    "sns.barplot(\n",
    "    data=df,\n",
    "    ax=axes[1],\n",
    "    x=\"year\",\n",
    "    y=\"returns\",\n",
    "    hue=\"house_majority\",\n",
    "    palette=custom_colors,\n",
    ")\n",
    "\n",
    "plt.suptitle(\"removals and returns per year\")\n",
    "plt.tight_layout()"
   ]
  },
  {
   "cell_type": "code",
   "execution_count": 41,
   "metadata": {},
   "outputs": [
    {
     "data": {
      "image/png": "[encoded data removed]",
      "text/plain": [
       "<Figure size 640x480 with 2 Axes>"
      ]
     },
     "metadata": {},
     "output_type": "display_data"
    }
   ],
   "source": [
    "fig, axes = plt.subplots(2, 1, sharex=True, sharey=True)\n",
    "\n",
    "sns.barplot(\n",
    "    data=df,\n",
    "    ax=axes[0],\n",
    "    x=\"year\",\n",
    "    y=\"removals\",\n",
    "    hue=\"senate_majority\",\n",
    "    palette=custom_colors,\n",
    ")\n",
    "\n",
    "sns.barplot(\n",
    "    data=df,\n",
    "    ax=axes[1],\n",
    "    x=\"year\",\n",
    "    y=\"returns\",\n",
    "    hue=\"senate_majority\",\n",
    "    palette=custom_colors,\n",
    ")\n",
    "\n",
    "plt.suptitle(\"removals and returns per year\")\n",
    "plt.tight_layout()"
   ]
  },
  {
   "cell_type": "code",
   "execution_count": 42,
   "metadata": {},
   "outputs": [
    {
     "data": {
      "image/png": "[encoded data removed]",
      "text/plain": [
       "<Figure size 640x480 with 2 Axes>"
      ]
     },
     "metadata": {},
     "output_type": "display_data"
    }
   ],
   "source": [
    "fig, axes = plt.subplots(2, 1, sharex=True, sharey=True)\n",
    "\n",
    "sns.barplot(\n",
    "    data=df,\n",
    "    ax=axes[0],\n",
    "    x=\"year\",\n",
    "    y=\"removals\",\n",
    "    hue=\"government\",\n",
    "    palette=custom_colors,\n",
    ")\n",
    "\n",
    "sns.barplot(\n",
    "    data=df,\n",
    "    ax=axes[1],\n",
    "    x=\"year\",\n",
    "    y=\"returns\",\n",
    "    hue=\"government\",\n",
    "    palette=custom_colors,\n",
    ")\n",
    "\n",
    "plt.suptitle(\"removals and returns per year\")\n",
    "plt.tight_layout()"
   ]
  },
  {
   "cell_type": "markdown",
   "metadata": {},
   "source": [
    "while this is significant, lets check the most recent administrations (biden, trump, obama and bush) :\n",
    "\n",
    "/"
   ]
  },
  {
   "cell_type": "markdown",
   "metadata": {},
   "source": [
    "This plot also showcases how returns dropped suddenly while removals increased in the last few decades. Looking at them I do not get the impression that party has something to do with deportation numbers.\n"
   ]
  },
  {
   "cell_type": "code",
   "execution_count": 43,
   "metadata": {},
   "outputs": [
    {
     "name": "stdout",
     "output_type": "stream",
     "text": [
      "8,327,152 total removals\n",
      "46,224,954.0 total returns\n",
      "5.55x more returns than removals\n"
     ]
    }
   ],
   "source": [
    "print(f'{df[\"removals\"].sum():,} total removals')\n",
    "print(f'{df[\"returns\"].sum():,} total returns')\n",
    "print(f'{df[\"returns\"].sum() / df[\"removals\"].sum():.2f}x more returns than removals')"
   ]
  },
  {
   "cell_type": "code",
   "execution_count": 44,
   "metadata": {},
   "outputs": [
    {
     "data": {
      "text/html": [
       "<div>\n",
       "<style scoped>\n",
       "    .dataframe tbody tr th:only-of-type {\n",
       "        vertical-align: middle;\n",
       "    }\n",
       "\n",
       "    .dataframe tbody tr th {\n",
       "        vertical-align: top;\n",
       "    }\n",
       "\n",
       "    .dataframe thead th {\n",
       "        text-align: right;\n",
       "    }\n",
       "</style>\n",
       "<table border=\"1\" class=\"dataframe\">\n",
       "  <thead>\n",
       "    <tr style=\"text-align: right;\">\n",
       "      <th></th>\n",
       "      <th>year</th>\n",
       "      <th>congress</th>\n",
       "      <th>president</th>\n",
       "      <th>presidency</th>\n",
       "      <th>house_majority</th>\n",
       "      <th>senate_majority</th>\n",
       "      <th>government</th>\n",
       "      <th>population</th>\n",
       "      <th>removals</th>\n",
       "      <th>removals_adj</th>\n",
       "      <th>returns</th>\n",
       "      <th>returns_adj</th>\n",
       "    </tr>\n",
       "  </thead>\n",
       "  <tbody>\n",
       "    <tr>\n",
       "      <th>108</th>\n",
       "      <td>2000</td>\n",
       "      <td>106</td>\n",
       "      <td>Clinton</td>\n",
       "      <td>Democrat</td>\n",
       "      <td>Republican</td>\n",
       "      <td>Republican</td>\n",
       "      <td>Divided</td>\n",
       "      <td>281,710,910.00</td>\n",
       "      <td>188467</td>\n",
       "      <td>0.00</td>\n",
       "      <td>1,675,876.00</td>\n",
       "      <td>0.01</td>\n",
       "    </tr>\n",
       "    <tr>\n",
       "      <th>94</th>\n",
       "      <td>1986</td>\n",
       "      <td>99</td>\n",
       "      <td>Reagan</td>\n",
       "      <td>Republican</td>\n",
       "      <td>Democrat</td>\n",
       "      <td>Republican</td>\n",
       "      <td>Divided</td>\n",
       "      <td>242,763,140.00</td>\n",
       "      <td>24592</td>\n",
       "      <td>0.00</td>\n",
       "      <td>1,586,320.00</td>\n",
       "      <td>0.01</td>\n",
       "    </tr>\n",
       "    <tr>\n",
       "      <th>107</th>\n",
       "      <td>1999</td>\n",
       "      <td>106</td>\n",
       "      <td>Clinton</td>\n",
       "      <td>Democrat</td>\n",
       "      <td>Republican</td>\n",
       "      <td>Republican</td>\n",
       "      <td>Divided</td>\n",
       "      <td>278,548,150.00</td>\n",
       "      <td>183114</td>\n",
       "      <td>0.00</td>\n",
       "      <td>1,574,863.00</td>\n",
       "      <td>0.01</td>\n",
       "    </tr>\n",
       "    <tr>\n",
       "      <th>104</th>\n",
       "      <td>1996</td>\n",
       "      <td>104</td>\n",
       "      <td>Clinton</td>\n",
       "      <td>Democrat</td>\n",
       "      <td>Republican</td>\n",
       "      <td>Republican</td>\n",
       "      <td>Divided</td>\n",
       "      <td>268,335,010.00</td>\n",
       "      <td>69680</td>\n",
       "      <td>0.00</td>\n",
       "      <td>1,573,428.00</td>\n",
       "      <td>0.01</td>\n",
       "    </tr>\n",
       "    <tr>\n",
       "      <th>106</th>\n",
       "      <td>1998</td>\n",
       "      <td>105</td>\n",
       "      <td>Clinton</td>\n",
       "      <td>Democrat</td>\n",
       "      <td>Republican</td>\n",
       "      <td>Republican</td>\n",
       "      <td>Divided</td>\n",
       "      <td>275,175,310.00</td>\n",
       "      <td>174813</td>\n",
       "      <td>0.00</td>\n",
       "      <td>1,570,127.00</td>\n",
       "      <td>0.01</td>\n",
       "    </tr>\n",
       "    <tr>\n",
       "      <th>105</th>\n",
       "      <td>1997</td>\n",
       "      <td>105</td>\n",
       "      <td>Clinton</td>\n",
       "      <td>Democrat</td>\n",
       "      <td>Republican</td>\n",
       "      <td>Republican</td>\n",
       "      <td>Divided</td>\n",
       "      <td>271,713,630.00</td>\n",
       "      <td>114432</td>\n",
       "      <td>0.00</td>\n",
       "      <td>1,440,684.00</td>\n",
       "      <td>0.01</td>\n",
       "    </tr>\n",
       "    <tr>\n",
       "      <th>103</th>\n",
       "      <td>1995</td>\n",
       "      <td>104</td>\n",
       "      <td>Clinton</td>\n",
       "      <td>Democrat</td>\n",
       "      <td>Republican</td>\n",
       "      <td>Republican</td>\n",
       "      <td>Divided</td>\n",
       "      <td>265,163,740.00</td>\n",
       "      <td>50924</td>\n",
       "      <td>0.00</td>\n",
       "      <td>1,313,764.00</td>\n",
       "      <td>0.00</td>\n",
       "    </tr>\n",
       "    <tr>\n",
       "      <th>101</th>\n",
       "      <td>1993</td>\n",
       "      <td>103</td>\n",
       "      <td>Clinton</td>\n",
       "      <td>Democrat</td>\n",
       "      <td>Democrat</td>\n",
       "      <td>Democrat</td>\n",
       "      <td>Unified</td>\n",
       "      <td>259,532,130.00</td>\n",
       "      <td>42542</td>\n",
       "      <td>0.00</td>\n",
       "      <td>1,243,410.00</td>\n",
       "      <td>0.00</td>\n",
       "    </tr>\n",
       "    <tr>\n",
       "      <th>110</th>\n",
       "      <td>2004</td>\n",
       "      <td>108</td>\n",
       "      <td>G.W. Bush</td>\n",
       "      <td>Republican</td>\n",
       "      <td>Republican</td>\n",
       "      <td>Republican</td>\n",
       "      <td>Unified</td>\n",
       "      <td>292,354,660.00</td>\n",
       "      <td>240665</td>\n",
       "      <td>0.00</td>\n",
       "      <td>1,166,576.00</td>\n",
       "      <td>0.00</td>\n",
       "    </tr>\n",
       "    <tr>\n",
       "      <th>100</th>\n",
       "      <td>1992</td>\n",
       "      <td>102</td>\n",
       "      <td>G.H.W. Bush</td>\n",
       "      <td>Republican</td>\n",
       "      <td>Democrat</td>\n",
       "      <td>Democrat</td>\n",
       "      <td>Divided</td>\n",
       "      <td>256,990,610.00</td>\n",
       "      <td>43671</td>\n",
       "      <td>0.00</td>\n",
       "      <td>1,105,829.00</td>\n",
       "      <td>0.00</td>\n",
       "    </tr>\n",
       "    <tr>\n",
       "      <th>111</th>\n",
       "      <td>2005</td>\n",
       "      <td>109</td>\n",
       "      <td>G.W. Bush</td>\n",
       "      <td>Republican</td>\n",
       "      <td>Republican</td>\n",
       "      <td>Republican</td>\n",
       "      <td>Unified</td>\n",
       "      <td>294,993,510.00</td>\n",
       "      <td>246431</td>\n",
       "      <td>0.00</td>\n",
       "      <td>1,096,920.00</td>\n",
       "      <td>0.00</td>\n",
       "    </tr>\n",
       "    <tr>\n",
       "      <th>95</th>\n",
       "      <td>1987</td>\n",
       "      <td>100</td>\n",
       "      <td>Reagan</td>\n",
       "      <td>Republican</td>\n",
       "      <td>Democrat</td>\n",
       "      <td>Democrat</td>\n",
       "      <td>Divided</td>\n",
       "      <td>245,052,780.00</td>\n",
       "      <td>24336</td>\n",
       "      <td>0.00</td>\n",
       "      <td>1,091,203.00</td>\n",
       "      <td>0.00</td>\n",
       "    </tr>\n",
       "    <tr>\n",
       "      <th>62</th>\n",
       "      <td>1954</td>\n",
       "      <td>83</td>\n",
       "      <td>Eisenhower</td>\n",
       "      <td>Republican</td>\n",
       "      <td>Republican</td>\n",
       "      <td>Republican</td>\n",
       "      <td>Unified</td>\n",
       "      <td>168,736,390.00</td>\n",
       "      <td>30264</td>\n",
       "      <td>0.00</td>\n",
       "      <td>1,074,277.00</td>\n",
       "      <td>0.01</td>\n",
       "    </tr>\n",
       "    <tr>\n",
       "      <th>99</th>\n",
       "      <td>1991</td>\n",
       "      <td>102</td>\n",
       "      <td>G.H.W. Bush</td>\n",
       "      <td>Republican</td>\n",
       "      <td>Democrat</td>\n",
       "      <td>Democrat</td>\n",
       "      <td>Divided</td>\n",
       "      <td>254,539,370.00</td>\n",
       "      <td>33189</td>\n",
       "      <td>0.00</td>\n",
       "      <td>1,061,105.00</td>\n",
       "      <td>0.00</td>\n",
       "    </tr>\n",
       "    <tr>\n",
       "      <th>112</th>\n",
       "      <td>2006</td>\n",
       "      <td>109</td>\n",
       "      <td>G.W. Bush</td>\n",
       "      <td>Republican</td>\n",
       "      <td>Republican</td>\n",
       "      <td>Republican</td>\n",
       "      <td>Unified</td>\n",
       "      <td>297,758,980.00</td>\n",
       "      <td>280974</td>\n",
       "      <td>0.00</td>\n",
       "      <td>1,043,381.00</td>\n",
       "      <td>0.00</td>\n",
       "    </tr>\n",
       "    <tr>\n",
       "      <th>93</th>\n",
       "      <td>1985</td>\n",
       "      <td>99</td>\n",
       "      <td>Reagan</td>\n",
       "      <td>Republican</td>\n",
       "      <td>Democrat</td>\n",
       "      <td>Republican</td>\n",
       "      <td>Divided</td>\n",
       "      <td>240,499,820.00</td>\n",
       "      <td>23105</td>\n",
       "      <td>0.00</td>\n",
       "      <td>1,041,296.00</td>\n",
       "      <td>0.00</td>\n",
       "    </tr>\n",
       "    <tr>\n",
       "      <th>102</th>\n",
       "      <td>1994</td>\n",
       "      <td>103</td>\n",
       "      <td>Clinton</td>\n",
       "      <td>Democrat</td>\n",
       "      <td>Democrat</td>\n",
       "      <td>Democrat</td>\n",
       "      <td>Unified</td>\n",
       "      <td>262,241,200.00</td>\n",
       "      <td>45674</td>\n",
       "      <td>0.00</td>\n",
       "      <td>1,029,107.00</td>\n",
       "      <td>0.00</td>\n",
       "    </tr>\n",
       "    <tr>\n",
       "      <th>98</th>\n",
       "      <td>1990</td>\n",
       "      <td>101</td>\n",
       "      <td>G.H.W. Bush</td>\n",
       "      <td>Republican</td>\n",
       "      <td>Democrat</td>\n",
       "      <td>Democrat</td>\n",
       "      <td>Divided</td>\n",
       "      <td>252,120,310.00</td>\n",
       "      <td>30039</td>\n",
       "      <td>0.00</td>\n",
       "      <td>1,022,533.00</td>\n",
       "      <td>0.00</td>\n",
       "    </tr>\n",
       "    <tr>\n",
       "      <th>86</th>\n",
       "      <td>1978</td>\n",
       "      <td>95</td>\n",
       "      <td>Carter</td>\n",
       "      <td>Democrat</td>\n",
       "      <td>Democrat</td>\n",
       "      <td>Democrat</td>\n",
       "      <td>Unified</td>\n",
       "      <td>225,223,310.00</td>\n",
       "      <td>29277</td>\n",
       "      <td>0.00</td>\n",
       "      <td>975,515.00</td>\n",
       "      <td>0.00</td>\n",
       "    </tr>\n",
       "    <tr>\n",
       "      <th>87</th>\n",
       "      <td>1979</td>\n",
       "      <td>96</td>\n",
       "      <td>Carter</td>\n",
       "      <td>Democrat</td>\n",
       "      <td>Democrat</td>\n",
       "      <td>Democrat</td>\n",
       "      <td>Unified</td>\n",
       "      <td>227,339,320.00</td>\n",
       "      <td>26825</td>\n",
       "      <td>0.00</td>\n",
       "      <td>966,137.00</td>\n",
       "      <td>0.00</td>\n",
       "    </tr>\n",
       "  </tbody>\n",
       "</table>\n",
       "</div>"
      ],
      "text/plain": [
       "     year  congress    president  presidency house_majority senate_majority  \\\n",
       "108  2000       106      Clinton    Democrat     Republican      Republican   \n",
       "94   1986        99       Reagan  Republican       Democrat      Republican   \n",
       "107  1999       106      Clinton    Democrat     Republican      Republican   \n",
       "104  1996       104      Clinton    Democrat     Republican      Republican   \n",
       "106  1998       105      Clinton    Democrat     Republican      Republican   \n",
       "105  1997       105      Clinton    Democrat     Republican      Republican   \n",
       "103  1995       104      Clinton    Democrat     Republican      Republican   \n",
       "101  1993       103      Clinton    Democrat       Democrat        Democrat   \n",
       "110  2004       108    G.W. Bush  Republican     Republican      Republican   \n",
       "100  1992       102  G.H.W. Bush  Republican       Democrat        Democrat   \n",
       "111  2005       109    G.W. Bush  Republican     Republican      Republican   \n",
       "95   1987       100       Reagan  Republican       Democrat        Democrat   \n",
       "62   1954        83   Eisenhower  Republican     Republican      Republican   \n",
       "99   1991       102  G.H.W. Bush  Republican       Democrat        Democrat   \n",
       "112  2006       109    G.W. Bush  Republican     Republican      Republican   \n",
       "93   1985        99       Reagan  Republican       Democrat      Republican   \n",
       "102  1994       103      Clinton    Democrat       Democrat        Democrat   \n",
       "98   1990       101  G.H.W. Bush  Republican       Democrat        Democrat   \n",
       "86   1978        95       Carter    Democrat       Democrat        Democrat   \n",
       "87   1979        96       Carter    Democrat       Democrat        Democrat   \n",
       "\n",
       "    government     population  removals  removals_adj      returns  \\\n",
       "108    Divided 281,710,910.00    188467          0.00 1,675,876.00   \n",
       "94     Divided 242,763,140.00     24592          0.00 1,586,320.00   \n",
       "107    Divided 278,548,150.00    183114          0.00 1,574,863.00   \n",
       "104    Divided 268,335,010.00     69680          0.00 1,573,428.00   \n",
       "106    Divided 275,175,310.00    174813          0.00 1,570,127.00   \n",
       "105    Divided 271,713,630.00    114432          0.00 1,440,684.00   \n",
       "103    Divided 265,163,740.00     50924          0.00 1,313,764.00   \n",
       "101    Unified 259,532,130.00     42542          0.00 1,243,410.00   \n",
       "110    Unified 292,354,660.00    240665          0.00 1,166,576.00   \n",
       "100    Divided 256,990,610.00     43671          0.00 1,105,829.00   \n",
       "111    Unified 294,993,510.00    246431          0.00 1,096,920.00   \n",
       "95     Divided 245,052,780.00     24336          0.00 1,091,203.00   \n",
       "62     Unified 168,736,390.00     30264          0.00 1,074,277.00   \n",
       "99     Divided 254,539,370.00     33189          0.00 1,061,105.00   \n",
       "112    Unified 297,758,980.00    280974          0.00 1,043,381.00   \n",
       "93     Divided 240,499,820.00     23105          0.00 1,041,296.00   \n",
       "102    Unified 262,241,200.00     45674          0.00 1,029,107.00   \n",
       "98     Divided 252,120,310.00     30039          0.00 1,022,533.00   \n",
       "86     Unified 225,223,310.00     29277          0.00   975,515.00   \n",
       "87     Unified 227,339,320.00     26825          0.00   966,137.00   \n",
       "\n",
       "     returns_adj  \n",
       "108         0.01  \n",
       "94          0.01  \n",
       "107         0.01  \n",
       "104         0.01  \n",
       "106         0.01  \n",
       "105         0.01  \n",
       "103         0.00  \n",
       "101         0.00  \n",
       "110         0.00  \n",
       "100         0.00  \n",
       "111         0.00  \n",
       "95          0.00  \n",
       "62          0.01  \n",
       "99          0.00  \n",
       "112         0.00  \n",
       "93          0.00  \n",
       "102         0.00  \n",
       "98          0.00  \n",
       "86          0.00  \n",
       "87          0.00  "
      ]
     },
     "execution_count": 44,
     "metadata": {},
     "output_type": "execute_result"
    }
   ],
   "source": [
    "df.sort_values(by=\"returns\", ascending=False).head(20)"
   ]
  },
  {
   "cell_type": "markdown",
   "metadata": {},
   "source": [
    "Clinton is the one with most returns, with GHW Bush and GW Bush in second.\n"
   ]
  },
  {
   "cell_type": "code",
   "execution_count": 45,
   "metadata": {},
   "outputs": [
    {
     "data": {
      "text/html": [
       "<div>\n",
       "<style scoped>\n",
       "    .dataframe tbody tr th:only-of-type {\n",
       "        vertical-align: middle;\n",
       "    }\n",
       "\n",
       "    .dataframe tbody tr th {\n",
       "        vertical-align: top;\n",
       "    }\n",
       "\n",
       "    .dataframe thead th {\n",
       "        text-align: right;\n",
       "    }\n",
       "</style>\n",
       "<table border=\"1\" class=\"dataframe\">\n",
       "  <thead>\n",
       "    <tr style=\"text-align: right;\">\n",
       "      <th></th>\n",
       "      <th>year</th>\n",
       "      <th>congress</th>\n",
       "      <th>president</th>\n",
       "      <th>presidency</th>\n",
       "      <th>house_majority</th>\n",
       "      <th>senate_majority</th>\n",
       "      <th>government</th>\n",
       "      <th>population</th>\n",
       "      <th>removals</th>\n",
       "      <th>removals_adj</th>\n",
       "      <th>returns</th>\n",
       "      <th>returns_adj</th>\n",
       "    </tr>\n",
       "  </thead>\n",
       "  <tbody>\n",
       "    <tr>\n",
       "      <th>119</th>\n",
       "      <td>2013</td>\n",
       "      <td>113</td>\n",
       "      <td>Obama</td>\n",
       "      <td>Democrat</td>\n",
       "      <td>Republican</td>\n",
       "      <td>Democrat</td>\n",
       "      <td>Divided</td>\n",
       "      <td>316,400,540.00</td>\n",
       "      <td>432228</td>\n",
       "      <td>0.00</td>\n",
       "      <td>178,976.00</td>\n",
       "      <td>0.00</td>\n",
       "    </tr>\n",
       "    <tr>\n",
       "      <th>118</th>\n",
       "      <td>2012</td>\n",
       "      <td>112</td>\n",
       "      <td>Obama</td>\n",
       "      <td>Democrat</td>\n",
       "      <td>Republican</td>\n",
       "      <td>Democrat</td>\n",
       "      <td>Divided</td>\n",
       "      <td>314,043,890.00</td>\n",
       "      <td>415607</td>\n",
       "      <td>0.00</td>\n",
       "      <td>231,107.00</td>\n",
       "      <td>0.00</td>\n",
       "    </tr>\n",
       "    <tr>\n",
       "      <th>120</th>\n",
       "      <td>2014</td>\n",
       "      <td>113</td>\n",
       "      <td>Obama</td>\n",
       "      <td>Democrat</td>\n",
       "      <td>Republican</td>\n",
       "      <td>Democrat</td>\n",
       "      <td>Divided</td>\n",
       "      <td>318,673,420.00</td>\n",
       "      <td>405090</td>\n",
       "      <td>0.00</td>\n",
       "      <td>163,843.00</td>\n",
       "      <td>0.00</td>\n",
       "    </tr>\n",
       "    <tr>\n",
       "      <th>117</th>\n",
       "      <td>2011</td>\n",
       "      <td>112</td>\n",
       "      <td>Obama</td>\n",
       "      <td>Democrat</td>\n",
       "      <td>Republican</td>\n",
       "      <td>Democrat</td>\n",
       "      <td>Divided</td>\n",
       "      <td>311,584,050.00</td>\n",
       "      <td>390423</td>\n",
       "      <td>0.00</td>\n",
       "      <td>322,047.00</td>\n",
       "      <td>0.00</td>\n",
       "    </tr>\n",
       "    <tr>\n",
       "      <th>116</th>\n",
       "      <td>2010</td>\n",
       "      <td>111</td>\n",
       "      <td>Obama</td>\n",
       "      <td>Democrat</td>\n",
       "      <td>Democrat</td>\n",
       "      <td>Democrat</td>\n",
       "      <td>Unified</td>\n",
       "      <td>309,011,470.00</td>\n",
       "      <td>382449</td>\n",
       "      <td>0.00</td>\n",
       "      <td>471,798.00</td>\n",
       "      <td>0.00</td>\n",
       "    </tr>\n",
       "    <tr>\n",
       "      <th>115</th>\n",
       "      <td>2009</td>\n",
       "      <td>111</td>\n",
       "      <td>Obama</td>\n",
       "      <td>Democrat</td>\n",
       "      <td>Democrat</td>\n",
       "      <td>Democrat</td>\n",
       "      <td>Unified</td>\n",
       "      <td>306,307,570.00</td>\n",
       "      <td>379739</td>\n",
       "      <td>0.00</td>\n",
       "      <td>582,567.00</td>\n",
       "      <td>0.00</td>\n",
       "    </tr>\n",
       "    <tr>\n",
       "      <th>125</th>\n",
       "      <td>2019</td>\n",
       "      <td>116</td>\n",
       "      <td>Trump</td>\n",
       "      <td>Republican</td>\n",
       "      <td>Democrat</td>\n",
       "      <td>Republican</td>\n",
       "      <td>Divided</td>\n",
       "      <td>329,064,920.00</td>\n",
       "      <td>359885</td>\n",
       "      <td>0.00</td>\n",
       "      <td>171,445.00</td>\n",
       "      <td>0.00</td>\n",
       "    </tr>\n",
       "    <tr>\n",
       "      <th>114</th>\n",
       "      <td>2008</td>\n",
       "      <td>110</td>\n",
       "      <td>G.W. Bush</td>\n",
       "      <td>Republican</td>\n",
       "      <td>Democrat</td>\n",
       "      <td>Democrat</td>\n",
       "      <td>Divided</td>\n",
       "      <td>303,486,020.00</td>\n",
       "      <td>359795</td>\n",
       "      <td>0.00</td>\n",
       "      <td>811,263.00</td>\n",
       "      <td>0.00</td>\n",
       "    </tr>\n",
       "    <tr>\n",
       "      <th>122</th>\n",
       "      <td>2016</td>\n",
       "      <td>114</td>\n",
       "      <td>Obama</td>\n",
       "      <td>Democrat</td>\n",
       "      <td>Republican</td>\n",
       "      <td>Republican</td>\n",
       "      <td>Divided</td>\n",
       "      <td>323,015,990.00</td>\n",
       "      <td>331717</td>\n",
       "      <td>0.00</td>\n",
       "      <td>106,458.00</td>\n",
       "      <td>0.00</td>\n",
       "    </tr>\n",
       "    <tr>\n",
       "      <th>124</th>\n",
       "      <td>2018</td>\n",
       "      <td>115</td>\n",
       "      <td>Trump</td>\n",
       "      <td>Republican</td>\n",
       "      <td>Republican</td>\n",
       "      <td>Republican</td>\n",
       "      <td>Unified</td>\n",
       "      <td>327,096,260.00</td>\n",
       "      <td>328716</td>\n",
       "      <td>0.00</td>\n",
       "      <td>159,940.00</td>\n",
       "      <td>0.00</td>\n",
       "    </tr>\n",
       "    <tr>\n",
       "      <th>121</th>\n",
       "      <td>2015</td>\n",
       "      <td>114</td>\n",
       "      <td>Obama</td>\n",
       "      <td>Democrat</td>\n",
       "      <td>Republican</td>\n",
       "      <td>Republican</td>\n",
       "      <td>Divided</td>\n",
       "      <td>320,878,310.00</td>\n",
       "      <td>325328</td>\n",
       "      <td>0.00</td>\n",
       "      <td>129,661.00</td>\n",
       "      <td>0.00</td>\n",
       "    </tr>\n",
       "    <tr>\n",
       "      <th>113</th>\n",
       "      <td>2007</td>\n",
       "      <td>110</td>\n",
       "      <td>G.W. Bush</td>\n",
       "      <td>Republican</td>\n",
       "      <td>Democrat</td>\n",
       "      <td>Democrat</td>\n",
       "      <td>Divided</td>\n",
       "      <td>300,608,430.00</td>\n",
       "      <td>319382</td>\n",
       "      <td>0.00</td>\n",
       "      <td>891,390.00</td>\n",
       "      <td>0.00</td>\n",
       "    </tr>\n",
       "    <tr>\n",
       "      <th>123</th>\n",
       "      <td>2017</td>\n",
       "      <td>115</td>\n",
       "      <td>Trump</td>\n",
       "      <td>Republican</td>\n",
       "      <td>Republican</td>\n",
       "      <td>Republican</td>\n",
       "      <td>Unified</td>\n",
       "      <td>325,084,760.00</td>\n",
       "      <td>287093</td>\n",
       "      <td>0.00</td>\n",
       "      <td>100,695.00</td>\n",
       "      <td>0.00</td>\n",
       "    </tr>\n",
       "    <tr>\n",
       "      <th>112</th>\n",
       "      <td>2006</td>\n",
       "      <td>109</td>\n",
       "      <td>G.W. Bush</td>\n",
       "      <td>Republican</td>\n",
       "      <td>Republican</td>\n",
       "      <td>Republican</td>\n",
       "      <td>Unified</td>\n",
       "      <td>297,758,980.00</td>\n",
       "      <td>280974</td>\n",
       "      <td>0.00</td>\n",
       "      <td>1,043,381.00</td>\n",
       "      <td>0.00</td>\n",
       "    </tr>\n",
       "    <tr>\n",
       "      <th>111</th>\n",
       "      <td>2005</td>\n",
       "      <td>109</td>\n",
       "      <td>G.W. Bush</td>\n",
       "      <td>Republican</td>\n",
       "      <td>Republican</td>\n",
       "      <td>Republican</td>\n",
       "      <td>Unified</td>\n",
       "      <td>294,993,510.00</td>\n",
       "      <td>246431</td>\n",
       "      <td>0.00</td>\n",
       "      <td>1,096,920.00</td>\n",
       "      <td>0.00</td>\n",
       "    </tr>\n",
       "    <tr>\n",
       "      <th>110</th>\n",
       "      <td>2004</td>\n",
       "      <td>108</td>\n",
       "      <td>G.W. Bush</td>\n",
       "      <td>Republican</td>\n",
       "      <td>Republican</td>\n",
       "      <td>Republican</td>\n",
       "      <td>Unified</td>\n",
       "      <td>292,354,660.00</td>\n",
       "      <td>240665</td>\n",
       "      <td>0.00</td>\n",
       "      <td>1,166,576.00</td>\n",
       "      <td>0.00</td>\n",
       "    </tr>\n",
       "    <tr>\n",
       "      <th>109</th>\n",
       "      <td>2003</td>\n",
       "      <td>108</td>\n",
       "      <td>G.W. Bush</td>\n",
       "      <td>Republican</td>\n",
       "      <td>Republican</td>\n",
       "      <td>Republican</td>\n",
       "      <td>Unified</td>\n",
       "      <td>289,815,570.00</td>\n",
       "      <td>211098</td>\n",
       "      <td>0.00</td>\n",
       "      <td>945,294.00</td>\n",
       "      <td>0.00</td>\n",
       "    </tr>\n",
       "    <tr>\n",
       "      <th>108</th>\n",
       "      <td>2000</td>\n",
       "      <td>106</td>\n",
       "      <td>Clinton</td>\n",
       "      <td>Democrat</td>\n",
       "      <td>Republican</td>\n",
       "      <td>Republican</td>\n",
       "      <td>Divided</td>\n",
       "      <td>281,710,910.00</td>\n",
       "      <td>188467</td>\n",
       "      <td>0.00</td>\n",
       "      <td>1,675,876.00</td>\n",
       "      <td>0.01</td>\n",
       "    </tr>\n",
       "    <tr>\n",
       "      <th>107</th>\n",
       "      <td>1999</td>\n",
       "      <td>106</td>\n",
       "      <td>Clinton</td>\n",
       "      <td>Democrat</td>\n",
       "      <td>Republican</td>\n",
       "      <td>Republican</td>\n",
       "      <td>Divided</td>\n",
       "      <td>278,548,150.00</td>\n",
       "      <td>183114</td>\n",
       "      <td>0.00</td>\n",
       "      <td>1,574,863.00</td>\n",
       "      <td>0.01</td>\n",
       "    </tr>\n",
       "    <tr>\n",
       "      <th>106</th>\n",
       "      <td>1998</td>\n",
       "      <td>105</td>\n",
       "      <td>Clinton</td>\n",
       "      <td>Democrat</td>\n",
       "      <td>Republican</td>\n",
       "      <td>Republican</td>\n",
       "      <td>Divided</td>\n",
       "      <td>275,175,310.00</td>\n",
       "      <td>174813</td>\n",
       "      <td>0.00</td>\n",
       "      <td>1,570,127.00</td>\n",
       "      <td>0.01</td>\n",
       "    </tr>\n",
       "  </tbody>\n",
       "</table>\n",
       "</div>"
      ],
      "text/plain": [
       "     year  congress  president  presidency house_majority senate_majority  \\\n",
       "119  2013       113      Obama    Democrat     Republican        Democrat   \n",
       "118  2012       112      Obama    Democrat     Republican        Democrat   \n",
       "120  2014       113      Obama    Democrat     Republican        Democrat   \n",
       "117  2011       112      Obama    Democrat     Republican        Democrat   \n",
       "116  2010       111      Obama    Democrat       Democrat        Democrat   \n",
       "115  2009       111      Obama    Democrat       Democrat        Democrat   \n",
       "125  2019       116      Trump  Republican       Democrat      Republican   \n",
       "114  2008       110  G.W. Bush  Republican       Democrat        Democrat   \n",
       "122  2016       114      Obama    Democrat     Republican      Republican   \n",
       "124  2018       115      Trump  Republican     Republican      Republican   \n",
       "121  2015       114      Obama    Democrat     Republican      Republican   \n",
       "113  2007       110  G.W. Bush  Republican       Democrat        Democrat   \n",
       "123  2017       115      Trump  Republican     Republican      Republican   \n",
       "112  2006       109  G.W. Bush  Republican     Republican      Republican   \n",
       "111  2005       109  G.W. Bush  Republican     Republican      Republican   \n",
       "110  2004       108  G.W. Bush  Republican     Republican      Republican   \n",
       "109  2003       108  G.W. Bush  Republican     Republican      Republican   \n",
       "108  2000       106    Clinton    Democrat     Republican      Republican   \n",
       "107  1999       106    Clinton    Democrat     Republican      Republican   \n",
       "106  1998       105    Clinton    Democrat     Republican      Republican   \n",
       "\n",
       "    government     population  removals  removals_adj      returns  \\\n",
       "119    Divided 316,400,540.00    432228          0.00   178,976.00   \n",
       "118    Divided 314,043,890.00    415607          0.00   231,107.00   \n",
       "120    Divided 318,673,420.00    405090          0.00   163,843.00   \n",
       "117    Divided 311,584,050.00    390423          0.00   322,047.00   \n",
       "116    Unified 309,011,470.00    382449          0.00   471,798.00   \n",
       "115    Unified 306,307,570.00    379739          0.00   582,567.00   \n",
       "125    Divided 329,064,920.00    359885          0.00   171,445.00   \n",
       "114    Divided 303,486,020.00    359795          0.00   811,263.00   \n",
       "122    Divided 323,015,990.00    331717          0.00   106,458.00   \n",
       "124    Unified 327,096,260.00    328716          0.00   159,940.00   \n",
       "121    Divided 320,878,310.00    325328          0.00   129,661.00   \n",
       "113    Divided 300,608,430.00    319382          0.00   891,390.00   \n",
       "123    Unified 325,084,760.00    287093          0.00   100,695.00   \n",
       "112    Unified 297,758,980.00    280974          0.00 1,043,381.00   \n",
       "111    Unified 294,993,510.00    246431          0.00 1,096,920.00   \n",
       "110    Unified 292,354,660.00    240665          0.00 1,166,576.00   \n",
       "109    Unified 289,815,570.00    211098          0.00   945,294.00   \n",
       "108    Divided 281,710,910.00    188467          0.00 1,675,876.00   \n",
       "107    Divided 278,548,150.00    183114          0.00 1,574,863.00   \n",
       "106    Divided 275,175,310.00    174813          0.00 1,570,127.00   \n",
       "\n",
       "     returns_adj  \n",
       "119         0.00  \n",
       "118         0.00  \n",
       "120         0.00  \n",
       "117         0.00  \n",
       "116         0.00  \n",
       "115         0.00  \n",
       "125         0.00  \n",
       "114         0.00  \n",
       "122         0.00  \n",
       "124         0.00  \n",
       "121         0.00  \n",
       "113         0.00  \n",
       "123         0.00  \n",
       "112         0.00  \n",
       "111         0.00  \n",
       "110         0.00  \n",
       "109         0.00  \n",
       "108         0.01  \n",
       "107         0.01  \n",
       "106         0.01  "
      ]
     },
     "execution_count": 45,
     "metadata": {},
     "output_type": "execute_result"
    }
   ],
   "source": [
    "df.sort_values(by=\"removals\", ascending=False).head(20)"
   ]
  },
  {
   "cell_type": "markdown",
   "metadata": {},
   "source": [
    "Obama is the one with most removals, with GW Bush in second.\n",
    "\n",
    "This might explain the remark that the democrats deport more than the republicans.\n",
    "\n",
    "It suggests that might be an anomaly, however. maybe another factor, such as a reform of ice or something might explain that.\n"
   ]
  },
  {
   "cell_type": "code",
   "execution_count": 63,
   "metadata": {},
   "outputs": [
    {
     "data": {
      "text/html": [
       "<div>\n",
       "<style scoped>\n",
       "    .dataframe tbody tr th:only-of-type {\n",
       "        vertical-align: middle;\n",
       "    }\n",
       "\n",
       "    .dataframe tbody tr th {\n",
       "        vertical-align: top;\n",
       "    }\n",
       "\n",
       "    .dataframe thead th {\n",
       "        text-align: right;\n",
       "    }\n",
       "</style>\n",
       "<table border=\"1\" class=\"dataframe\">\n",
       "  <thead>\n",
       "    <tr style=\"text-align: right;\">\n",
       "      <th></th>\n",
       "      <th>removals</th>\n",
       "      <th>returns</th>\n",
       "    </tr>\n",
       "  </thead>\n",
       "  <tbody>\n",
       "    <tr>\n",
       "      <th>removals</th>\n",
       "      <td>1.00</td>\n",
       "      <td>0.10</td>\n",
       "    </tr>\n",
       "    <tr>\n",
       "      <th>returns</th>\n",
       "      <td>0.10</td>\n",
       "      <td>1.00</td>\n",
       "    </tr>\n",
       "  </tbody>\n",
       "</table>\n",
       "</div>"
      ],
      "text/plain": [
       "          removals  returns\n",
       "removals      1.00     0.10\n",
       "returns       0.10     1.00"
      ]
     },
     "execution_count": 63,
     "metadata": {},
     "output_type": "execute_result"
    }
   ],
   "source": [
    "df[[\"removals\", \"returns\"]].corr()"
   ]
  },
  {
   "cell_type": "markdown",
   "metadata": {},
   "source": [
    "Removals and returns have a low correlation, suggesting they are driven by different factors.\n"
   ]
  },
  {
   "cell_type": "code",
   "execution_count": 47,
   "metadata": {},
   "outputs": [
    {
     "data": {
      "image/png": "[encoded data removed]",
      "text/plain": [
       "<Figure size 640x480 with 6 Axes>"
      ]
     },
     "metadata": {},
     "output_type": "display_data"
    }
   ],
   "source": [
    "fig, axes = plt.subplots(6, 1, sharex=True, sharey=True)\n",
    "\n",
    "sns.pointplot(data=df, ax=axes[0], x=\"removals\", y=\"presidency\")\n",
    "sns.pointplot(data=df, ax=axes[1], x=\"returns\", y=\"presidency\")\n",
    "\n",
    "sns.pointplot(data=df, ax=axes[2], x=\"removals\", y=\"house_majority\")\n",
    "sns.pointplot(data=df, ax=axes[3], x=\"returns\", y=\"house_majority\")\n",
    "\n",
    "sns.pointplot(data=df, ax=axes[4], x=\"removals\", y=\"senate_majority\")\n",
    "sns.pointplot(data=df, ax=axes[5], x=\"returns\", y=\"senate_majority\")\n",
    "\n",
    "plt.suptitle(\"removals and returns\")\n",
    "plt.tight_layout()"
   ]
  },
  {
   "cell_type": "markdown",
   "metadata": {},
   "source": [
    "These point in different directions.\n",
    "\n",
    "-   when the president is democrat, there are more removals in general\n",
    "-   when the house is republican, there are more removals in general\n",
    "-   the only one which points the opposite way is democratic president.\n"
   ]
  },
  {
   "cell_type": "code",
   "execution_count": 48,
   "metadata": {},
   "outputs": [
    {
     "data": {
      "image/png": "[encoded data removed]",
      "text/plain": [
       "<Figure size 640x480 with 2 Axes>"
      ]
     },
     "metadata": {},
     "output_type": "display_data"
    }
   ],
   "source": [
    "fig, axes = plt.subplots(1, 2, sharex=True, sharey=True)\n",
    "\n",
    "sns.pointplot(data=df, ax=axes[0], y=\"removals\", x=\"government\")\n",
    "sns.pointplot(data=df, ax=axes[1], y=\"returns\", x=\"government\")\n",
    "\n",
    "plt.suptitle(\"removals and retuns by type of government\")\n",
    "plt.tight_layout()"
   ]
  },
  {
   "cell_type": "markdown",
   "metadata": {},
   "source": [
    "-   more returns when the government is divided\n",
    "    -   TODO check what happens when segregated by how it is divided\n"
   ]
  },
  {
   "cell_type": "markdown",
   "metadata": {},
   "source": [
    "TODO compare last 20 and 10 years. specific presidents\n"
   ]
  },
  {
   "cell_type": "code",
   "execution_count": 49,
   "metadata": {},
   "outputs": [
    {
     "data": {
      "text/html": [
       "<div>\n",
       "<style scoped>\n",
       "    .dataframe tbody tr th:only-of-type {\n",
       "        vertical-align: middle;\n",
       "    }\n",
       "\n",
       "    .dataframe tbody tr th {\n",
       "        vertical-align: top;\n",
       "    }\n",
       "\n",
       "    .dataframe thead th {\n",
       "        text-align: right;\n",
       "    }\n",
       "</style>\n",
       "<table border=\"1\" class=\"dataframe\">\n",
       "  <thead>\n",
       "    <tr style=\"text-align: right;\">\n",
       "      <th></th>\n",
       "      <th>removals</th>\n",
       "      <th>returns</th>\n",
       "    </tr>\n",
       "  </thead>\n",
       "  <tbody>\n",
       "    <tr>\n",
       "      <th>count</th>\n",
       "      <td>126.00</td>\n",
       "      <td>91.00</td>\n",
       "    </tr>\n",
       "    <tr>\n",
       "      <th>mean</th>\n",
       "      <td>66,088.51</td>\n",
       "      <td>507,966.53</td>\n",
       "    </tr>\n",
       "    <tr>\n",
       "      <th>std</th>\n",
       "      <td>112,785.81</td>\n",
       "      <td>496,079.44</td>\n",
       "    </tr>\n",
       "    <tr>\n",
       "      <th>min</th>\n",
       "      <td>1,630.00</td>\n",
       "      <td>6,531.00</td>\n",
       "    </tr>\n",
       "    <tr>\n",
       "      <th>25%</th>\n",
       "      <td>10,686.50</td>\n",
       "      <td>61,989.50</td>\n",
       "    </tr>\n",
       "    <tr>\n",
       "      <th>50%</th>\n",
       "      <td>18,953.50</td>\n",
       "      <td>276,297.00</td>\n",
       "    </tr>\n",
       "    <tr>\n",
       "      <th>75%</th>\n",
       "      <td>32,755.25</td>\n",
       "      <td>921,695.00</td>\n",
       "    </tr>\n",
       "    <tr>\n",
       "      <th>max</th>\n",
       "      <td>432,228.00</td>\n",
       "      <td>1,675,876.00</td>\n",
       "    </tr>\n",
       "  </tbody>\n",
       "</table>\n",
       "</div>"
      ],
      "text/plain": [
       "        removals      returns\n",
       "count     126.00        91.00\n",
       "mean   66,088.51   507,966.53\n",
       "std   112,785.81   496,079.44\n",
       "min     1,630.00     6,531.00\n",
       "25%    10,686.50    61,989.50\n",
       "50%    18,953.50   276,297.00\n",
       "75%    32,755.25   921,695.00\n",
       "max   432,228.00 1,675,876.00"
      ]
     },
     "execution_count": 49,
     "metadata": {},
     "output_type": "execute_result"
    }
   ],
   "source": [
    "df[[\"removals\", \"returns\"]].describe()"
   ]
  },
  {
   "cell_type": "code",
   "execution_count": 50,
   "metadata": {},
   "outputs": [
    {
     "name": "stderr",
     "output_type": "stream",
     "text": [
      "/tmp/ipykernel_58734/4039878150.py:1: FutureWarning: The default value of observed=False is deprecated and will change to observed=True in a future version of pandas. Specify observed=False to silence this warning and retain the current behavior\n",
      "  df.pivot_table(values=[\"removals\", \"returns\"], columns=\"presidency\", aggfunc=\"mean\")\n"
     ]
    },
    {
     "data": {
      "text/html": [
       "<div>\n",
       "<style scoped>\n",
       "    .dataframe tbody tr th:only-of-type {\n",
       "        vertical-align: middle;\n",
       "    }\n",
       "\n",
       "    .dataframe tbody tr th {\n",
       "        vertical-align: top;\n",
       "    }\n",
       "\n",
       "    .dataframe thead th {\n",
       "        text-align: right;\n",
       "    }\n",
       "</style>\n",
       "<table border=\"1\" class=\"dataframe\">\n",
       "  <thead>\n",
       "    <tr style=\"text-align: right;\">\n",
       "      <th>presidency</th>\n",
       "      <th>Democrat</th>\n",
       "      <th>Republican</th>\n",
       "    </tr>\n",
       "  </thead>\n",
       "  <tbody>\n",
       "    <tr>\n",
       "      <th>removals</th>\n",
       "      <td>76,570.72</td>\n",
       "      <td>56,559.23</td>\n",
       "    </tr>\n",
       "    <tr>\n",
       "      <th>returns</th>\n",
       "      <td>434,260.92</td>\n",
       "      <td>590,242.56</td>\n",
       "    </tr>\n",
       "  </tbody>\n",
       "</table>\n",
       "</div>"
      ],
      "text/plain": [
       "presidency   Democrat  Republican\n",
       "removals    76,570.72   56,559.23\n",
       "returns    434,260.92  590,242.56"
      ]
     },
     "execution_count": 50,
     "metadata": {},
     "output_type": "execute_result"
    }
   ],
   "source": [
    "df.pivot_table(values=[\"removals\", \"returns\"], columns=\"presidency\", aggfunc=\"mean\")"
   ]
  },
  {
   "cell_type": "markdown",
   "metadata": {},
   "source": [
    "-   removals are higher while the president is from the democratic party\n",
    "-   returns are higher when the president is from the republican party\n"
   ]
  },
  {
   "cell_type": "code",
   "execution_count": 51,
   "metadata": {},
   "outputs": [
    {
     "name": "stderr",
     "output_type": "stream",
     "text": [
      "/tmp/ipykernel_58734/1192860817.py:1: FutureWarning: The default value of observed=False is deprecated and will change to observed=True in a future version of pandas. Specify observed=False to silence this warning and retain the current behavior\n",
      "  df.pivot_table(values=[\"removals\", \"returns\"], columns=\"house_majority\", aggfunc=\"mean\")\n"
     ]
    },
    {
     "data": {
      "text/html": [
       "<div>\n",
       "<style scoped>\n",
       "    .dataframe tbody tr th:only-of-type {\n",
       "        vertical-align: middle;\n",
       "    }\n",
       "\n",
       "    .dataframe tbody tr th {\n",
       "        vertical-align: top;\n",
       "    }\n",
       "\n",
       "    .dataframe thead th {\n",
       "        text-align: right;\n",
       "    }\n",
       "</style>\n",
       "<table border=\"1\" class=\"dataframe\">\n",
       "  <thead>\n",
       "    <tr style=\"text-align: right;\">\n",
       "      <th>house_majority</th>\n",
       "      <th>Democrat</th>\n",
       "      <th>Republican</th>\n",
       "    </tr>\n",
       "  </thead>\n",
       "  <tbody>\n",
       "    <tr>\n",
       "      <th>removals</th>\n",
       "      <td>40,802.84</td>\n",
       "      <td>104,522.72</td>\n",
       "    </tr>\n",
       "    <tr>\n",
       "      <th>returns</th>\n",
       "      <td>446,251.52</td>\n",
       "      <td>662,254.04</td>\n",
       "    </tr>\n",
       "  </tbody>\n",
       "</table>\n",
       "</div>"
      ],
      "text/plain": [
       "house_majority   Democrat  Republican\n",
       "removals        40,802.84  104,522.72\n",
       "returns        446,251.52  662,254.04"
      ]
     },
     "execution_count": 51,
     "metadata": {},
     "output_type": "execute_result"
    }
   ],
   "source": [
    "df.pivot_table(values=[\"removals\", \"returns\"], columns=\"house_majority\", aggfunc=\"mean\")"
   ]
  },
  {
   "cell_type": "markdown",
   "metadata": {},
   "source": [
    "-   removals are higher when the house majority is from the republican party. this is expressive.\n",
    "-   returns are higher when the house majority is from the democratic party.\n"
   ]
  },
  {
   "cell_type": "code",
   "execution_count": 52,
   "metadata": {},
   "outputs": [
    {
     "name": "stderr",
     "output_type": "stream",
     "text": [
      "/tmp/ipykernel_58734/2465745044.py:1: FutureWarning: The default value of observed=False is deprecated and will change to observed=True in a future version of pandas. Specify observed=False to silence this warning and retain the current behavior\n",
      "  df.pivot_table(\n"
     ]
    },
    {
     "data": {
      "text/html": [
       "<div>\n",
       "<style scoped>\n",
       "    .dataframe tbody tr th:only-of-type {\n",
       "        vertical-align: middle;\n",
       "    }\n",
       "\n",
       "    .dataframe tbody tr th {\n",
       "        vertical-align: top;\n",
       "    }\n",
       "\n",
       "    .dataframe thead th {\n",
       "        text-align: right;\n",
       "    }\n",
       "</style>\n",
       "<table border=\"1\" class=\"dataframe\">\n",
       "  <thead>\n",
       "    <tr style=\"text-align: right;\">\n",
       "      <th>senate_majority</th>\n",
       "      <th>Democrat</th>\n",
       "      <th>Republican</th>\n",
       "    </tr>\n",
       "  </thead>\n",
       "  <tbody>\n",
       "    <tr>\n",
       "      <th>removals</th>\n",
       "      <td>61,256.66</td>\n",
       "      <td>71,753.43</td>\n",
       "    </tr>\n",
       "    <tr>\n",
       "      <th>returns</th>\n",
       "      <td>393,381.45</td>\n",
       "      <td>729,744.10</td>\n",
       "    </tr>\n",
       "  </tbody>\n",
       "</table>\n",
       "</div>"
      ],
      "text/plain": [
       "senate_majority   Democrat  Republican\n",
       "removals         61,256.66   71,753.43\n",
       "returns         393,381.45  729,744.10"
      ]
     },
     "execution_count": 52,
     "metadata": {},
     "output_type": "execute_result"
    }
   ],
   "source": [
    "df.pivot_table(\n",
    "    values=[\"removals\", \"returns\"], columns=\"senate_majority\", aggfunc=\"mean\"\n",
    ")"
   ]
  },
  {
   "cell_type": "markdown",
   "metadata": {},
   "source": [
    "-   removals are higher when the senate majority is from the republican party.\n",
    "-   returns are higher when the senate majority is from the republican party. this is expressive\n"
   ]
  },
  {
   "cell_type": "code",
   "execution_count": 53,
   "metadata": {},
   "outputs": [
    {
     "name": "stderr",
     "output_type": "stream",
     "text": [
      "/tmp/ipykernel_58734/2276575079.py:1: FutureWarning: The default value of observed=False is deprecated and will change to observed=True in a future version of pandas. Specify observed=False to silence this warning and retain the current behavior\n",
      "  df.pivot_table(values=[\"removals\", \"returns\"], columns=\"government\", aggfunc=\"mean\")\n"
     ]
    },
    {
     "data": {
      "text/html": [
       "<div>\n",
       "<style scoped>\n",
       "    .dataframe tbody tr th:only-of-type {\n",
       "        vertical-align: middle;\n",
       "    }\n",
       "\n",
       "    .dataframe tbody tr th {\n",
       "        vertical-align: top;\n",
       "    }\n",
       "\n",
       "    .dataframe thead th {\n",
       "        text-align: right;\n",
       "    }\n",
       "</style>\n",
       "<table border=\"1\" class=\"dataframe\">\n",
       "  <thead>\n",
       "    <tr style=\"text-align: right;\">\n",
       "      <th>government</th>\n",
       "      <th>Divided</th>\n",
       "      <th>Unified</th>\n",
       "    </tr>\n",
       "  </thead>\n",
       "  <tbody>\n",
       "    <tr>\n",
       "      <th>removals</th>\n",
       "      <td>92,915.52</td>\n",
       "      <td>47,237.09</td>\n",
       "    </tr>\n",
       "    <tr>\n",
       "      <th>returns</th>\n",
       "      <td>655,769.36</td>\n",
       "      <td>363,376.80</td>\n",
       "    </tr>\n",
       "  </tbody>\n",
       "</table>\n",
       "</div>"
      ],
      "text/plain": [
       "government    Divided    Unified\n",
       "removals    92,915.52  47,237.09\n",
       "returns    655,769.36 363,376.80"
      ]
     },
     "execution_count": 53,
     "metadata": {},
     "output_type": "execute_result"
    }
   ],
   "source": [
    "df.pivot_table(values=[\"removals\", \"returns\"], columns=\"government\", aggfunc=\"mean\")"
   ]
  },
  {
   "cell_type": "markdown",
   "metadata": {},
   "source": [
    "-   removals are higher when the government is divided. this is expressive\n",
    "-   returns are higher when the government is divided. this is expressive\n"
   ]
  },
  {
   "cell_type": "markdown",
   "metadata": {},
   "source": [
    "## Inferential statistics\n"
   ]
  },
  {
   "cell_type": "markdown",
   "metadata": {},
   "source": [
    "### Assumptions:\n",
    "\n",
    "The t-test depends on the assumption that the data normally distributed. We can check this using a QQ plot.\n"
   ]
  },
  {
   "cell_type": "code",
   "execution_count": null,
   "metadata": {},
   "outputs": [
    {
     "data": {
      "text/plain": [
       "<Axes: >"
      ]
     },
     "execution_count": 75,
     "metadata": {},
     "output_type": "execute_result"
    },
    {
     "data": {
      "image/png": "[encoded data removed]",
      "text/plain": [
       "<Figure size 640x480 with 1 Axes>"
      ]
     },
     "metadata": {},
     "output_type": "display_data"
    }
   ],
   "source": [
    "df['returns'].hist();"
   ]
  },
  {
   "cell_type": "code",
   "execution_count": 76,
   "metadata": {},
   "outputs": [
    {
     "data": {
      "image/png": "[encoded data removed]",
      "text/plain": [
       "<Figure size 640x480 with 1 Axes>"
      ]
     },
     "metadata": {},
     "output_type": "display_data"
    }
   ],
   "source": [
    "df['removals'].hist();"
   ]
  },
  {
   "cell_type": "code",
   "execution_count": 72,
   "metadata": {},
   "outputs": [
    {
     "data": {
      "image/png": "[encoded data removed]",
      "text/plain": [
       "<Figure size 640x480 with 1 Axes>"
      ]
     },
     "metadata": {},
     "output_type": "display_data"
    }
   ],
   "source": [
    "pg.qqplot(df[\"returns\"]);"
   ]
  },
  {
   "cell_type": "code",
   "execution_count": 73,
   "metadata": {},
   "outputs": [
    {
     "data": {
      "image/png": "[encoded data removed]",
      "text/plain": [
       "<Figure size 640x480 with 1 Axes>"
      ]
     },
     "metadata": {},
     "output_type": "display_data"
    }
   ],
   "source": [
    "pg.qqplot(df[\"removals\"]);"
   ]
  },
  {
   "cell_type": "code",
   "execution_count": 77,
   "metadata": {},
   "outputs": [
    {
     "data": {
      "text/html": [
       "<div>\n",
       "<style scoped>\n",
       "    .dataframe tbody tr th:only-of-type {\n",
       "        vertical-align: middle;\n",
       "    }\n",
       "\n",
       "    .dataframe tbody tr th {\n",
       "        vertical-align: top;\n",
       "    }\n",
       "\n",
       "    .dataframe thead th {\n",
       "        text-align: right;\n",
       "    }\n",
       "</style>\n",
       "<table border=\"1\" class=\"dataframe\">\n",
       "  <thead>\n",
       "    <tr style=\"text-align: right;\">\n",
       "      <th></th>\n",
       "      <th>W</th>\n",
       "      <th>pval</th>\n",
       "      <th>normal</th>\n",
       "    </tr>\n",
       "  </thead>\n",
       "  <tbody>\n",
       "    <tr>\n",
       "      <th>removals</th>\n",
       "      <td>0.56</td>\n",
       "      <td>0.00</td>\n",
       "      <td>False</td>\n",
       "    </tr>\n",
       "  </tbody>\n",
       "</table>\n",
       "</div>"
      ],
      "text/plain": [
       "            W  pval  normal\n",
       "removals 0.56  0.00   False"
      ]
     },
     "execution_count": 77,
     "metadata": {},
     "output_type": "execute_result"
    }
   ],
   "source": [
    "pg.normality(df['removals'])"
   ]
  },
  {
   "cell_type": "code",
   "execution_count": null,
   "metadata": {},
   "outputs": [
    {
     "data": {
      "text/html": [
       "<div>\n",
       "<style scoped>\n",
       "    .dataframe tbody tr th:only-of-type {\n",
       "        vertical-align: middle;\n",
       "    }\n",
       "\n",
       "    .dataframe tbody tr th {\n",
       "        vertical-align: top;\n",
       "    }\n",
       "\n",
       "    .dataframe thead th {\n",
       "        text-align: right;\n",
       "    }\n",
       "</style>\n",
       "<table border=\"1\" class=\"dataframe\">\n",
       "  <thead>\n",
       "    <tr style=\"text-align: right;\">\n",
       "      <th></th>\n",
       "      <th>W</th>\n",
       "      <th>pval</th>\n",
       "      <th>normal</th>\n",
       "    </tr>\n",
       "  </thead>\n",
       "  <tbody>\n",
       "    <tr>\n",
       "      <th>returns</th>\n",
       "      <td>0.86</td>\n",
       "      <td>0.00</td>\n",
       "      <td>False</td>\n",
       "    </tr>\n",
       "  </tbody>\n",
       "</table>\n",
       "</div>"
      ],
      "text/plain": [
       "           W  pval  normal\n",
       "returns 0.86  0.00   False"
      ]
     },
     "execution_count": 78,
     "metadata": {},
     "output_type": "execute_result"
    }
   ],
   "source": [
    "pg.normality(df['returns'])"
   ]
  },
  {
   "cell_type": "markdown",
   "metadata": {},
   "source": [
    "These distributions are not normal. So we need to use the [Wilcoxon](https://ethanweed.github.io/pythonbook/05.02-ttest.html#two-sample-wilcoxon-test) test, which is non-parametric (meaning that it does not assume normality). We will also will the two sample one -- called Mann-Whitney, because this is not a paired test."
   ]
  },
  {
   "cell_type": "code",
   "execution_count": null,
   "metadata": {},
   "outputs": [],
   "source": [
    "https://docs.scipy.org/doc/scipy/reference/generated/scipy.stats.mannwhitneyu.html"
   ]
  },
  {
   "cell_type": "markdown",
   "metadata": {},
   "source": [
    "### Test 1: removals presidency\n"
   ]
  },
  {
   "cell_type": "markdown",
   "metadata": {},
   "source": [
    "#### Explanation of procedure\n",
    "\n",
    "?\n"
   ]
  },
  {
   "cell_type": "markdown",
   "metadata": {},
   "source": [
    "#### Why this test\n",
    "\n",
    "?\n"
   ]
  },
  {
   "cell_type": "code",
   "execution_count": 54,
   "metadata": {},
   "outputs": [
    {
     "data": {
      "text/html": [
       "<table class=\"simpletable\">\n",
       "<caption>Test for equality of means</caption>\n",
       "<tr>\n",
       "      <td></td>         <th>coef</th>     <th>std err</th>      <th>t</th>      <th>P>|t|</th>  <th>[0.025</th>    <th>0.975]</th>  \n",
       "</tr>\n",
       "<tr>\n",
       "  <th>subset #1</th> <td> 2.001e+04</td> <td> 2.01e+04</td> <td>    0.995</td> <td> 0.322</td> <td>-1.98e+04</td> <td> 5.98e+04</td>\n",
       "</tr>\n",
       "</table>"
      ],
      "text/latex": [
       "\\begin{center}\n",
       "\\begin{tabular}{lcccccc}\n",
       "\\toprule\n",
       "                    & \\textbf{coef} & \\textbf{std err} & \\textbf{t} & \\textbf{P$> |$t$|$} & \\textbf{[0.025} & \\textbf{0.975]}  \\\\\n",
       "\\midrule\n",
       "\\textbf{subset \\#1} &    2.001e+04  &     2.01e+04     &     0.995  &         0.322        &    -1.98e+04    &     5.98e+04     \\\\\n",
       "\\bottomrule\n",
       "\\end{tabular}\n",
       "%\\caption{Test for equality of means}\n",
       "\\end{center}"
      ],
      "text/plain": [
       "<class 'statsmodels.iolib.table.SimpleTable'>"
      ]
     },
     "execution_count": 54,
     "metadata": {},
     "output_type": "execute_result"
    }
   ],
   "source": [
    "cm = st.CompareMeans(\n",
    "    st.DescrStatsW(df[\"removals\"][df[\"presidency\"] == \"Democrat\"]),\n",
    "    st.DescrStatsW(df[\"removals\"][df[\"presidency\"] != \"Democrat\"]),\n",
    ")\n",
    "\n",
    "cm.summary()"
   ]
  },
  {
   "cell_type": "code",
   "execution_count": 55,
   "metadata": {},
   "outputs": [
    {
     "name": "stdout",
     "output_type": "stream",
     "text": [
      "CI [-19810.04, 59833.02]\n",
      "p = 0.322\n"
     ]
    }
   ],
   "source": [
    "_, p, _ = cm.ttest_ind()\n",
    "confint_low, confint_high = cm.tconfint_diff()\n",
    "print(f\"CI [{confint_low:.2f}, {confint_high:.2f}]\")\n",
    "print(f\"p = {p:.3f}\")"
   ]
  },
  {
   "cell_type": "markdown",
   "metadata": {},
   "source": [
    "#### Result\n",
    "\n",
    "##### Plausibity\n"
   ]
  },
  {
   "cell_type": "code",
   "execution_count": 56,
   "metadata": {},
   "outputs": [
    {
     "data": {
      "text/html": [
       "<div>\n",
       "<style scoped>\n",
       "    .dataframe tbody tr th:only-of-type {\n",
       "        vertical-align: middle;\n",
       "    }\n",
       "\n",
       "    .dataframe tbody tr th {\n",
       "        vertical-align: top;\n",
       "    }\n",
       "\n",
       "    .dataframe thead th {\n",
       "        text-align: right;\n",
       "    }\n",
       "</style>\n",
       "<table border=\"1\" class=\"dataframe\">\n",
       "  <thead>\n",
       "    <tr style=\"text-align: right;\">\n",
       "      <th></th>\n",
       "      <th>T</th>\n",
       "      <th>dof</th>\n",
       "      <th>alternative</th>\n",
       "      <th>p-val</th>\n",
       "      <th>CI95%</th>\n",
       "      <th>cohen-d</th>\n",
       "      <th>BF10</th>\n",
       "      <th>power</th>\n",
       "    </tr>\n",
       "  </thead>\n",
       "  <tbody>\n",
       "    <tr>\n",
       "      <th>T-test</th>\n",
       "      <td>0.99</td>\n",
       "      <td>124</td>\n",
       "      <td>two-sided</td>\n",
       "      <td>0.32</td>\n",
       "      <td>[-19810.04, 59833.02]</td>\n",
       "      <td>0.18</td>\n",
       "      <td>0.298</td>\n",
       "      <td>0.17</td>\n",
       "    </tr>\n",
       "  </tbody>\n",
       "</table>\n",
       "</div>"
      ],
      "text/plain": [
       "          T  dof alternative  p-val                  CI95%  cohen-d   BF10  \\\n",
       "T-test 0.99  124   two-sided   0.32  [-19810.04, 59833.02]     0.18  0.298   \n",
       "\n",
       "        power  \n",
       "T-test   0.17  "
      ]
     },
     "execution_count": 56,
     "metadata": {},
     "output_type": "execute_result"
    }
   ],
   "source": [
    "# https://ethanweed.github.io/pythonbook/05.02-ttest.html#id15\n",
    "pg.ttest(\n",
    "    df[\"removals\"][df[\"presidency\"] == \"Democrat\"],\n",
    "    df[\"removals\"][df[\"presidency\"] != \"Democrat\"],\n",
    "    correction=False,  # Student\n",
    ")"
   ]
  },
  {
   "cell_type": "code",
   "execution_count": 57,
   "metadata": {},
   "outputs": [
    {
     "data": {
      "text/html": [
       "<div>\n",
       "<style scoped>\n",
       "    .dataframe tbody tr th:only-of-type {\n",
       "        vertical-align: middle;\n",
       "    }\n",
       "\n",
       "    .dataframe tbody tr th {\n",
       "        vertical-align: top;\n",
       "    }\n",
       "\n",
       "    .dataframe thead th {\n",
       "        text-align: right;\n",
       "    }\n",
       "</style>\n",
       "<table border=\"1\" class=\"dataframe\">\n",
       "  <thead>\n",
       "    <tr style=\"text-align: right;\">\n",
       "      <th></th>\n",
       "      <th>T</th>\n",
       "      <th>dof</th>\n",
       "      <th>alternative</th>\n",
       "      <th>p-val</th>\n",
       "      <th>CI95%</th>\n",
       "      <th>cohen-d</th>\n",
       "      <th>BF10</th>\n",
       "      <th>power</th>\n",
       "    </tr>\n",
       "  </thead>\n",
       "  <tbody>\n",
       "    <tr>\n",
       "      <th>T-test</th>\n",
       "      <td>0.98</td>\n",
       "      <td>109.44</td>\n",
       "      <td>two-sided</td>\n",
       "      <td>0.33</td>\n",
       "      <td>[-20387.16, 60410.14]</td>\n",
       "      <td>0.18</td>\n",
       "      <td>0.295</td>\n",
       "      <td>0.17</td>\n",
       "    </tr>\n",
       "  </tbody>\n",
       "</table>\n",
       "</div>"
      ],
      "text/plain": [
       "          T    dof alternative  p-val                  CI95%  cohen-d   BF10  \\\n",
       "T-test 0.98 109.44   two-sided   0.33  [-20387.16, 60410.14]     0.18  0.295   \n",
       "\n",
       "        power  \n",
       "T-test   0.17  "
      ]
     },
     "execution_count": 57,
     "metadata": {},
     "output_type": "execute_result"
    }
   ],
   "source": [
    "pg.ttest(\n",
    "    df[\"removals\"][df[\"presidency\"] == \"Democrat\"],\n",
    "    df[\"removals\"][df[\"presidency\"] != \"Democrat\"],\n",
    "    correction=True,  # Welch\n",
    ")"
   ]
  },
  {
   "cell_type": "markdown",
   "metadata": {},
   "source": [
    "Seems like statsmodels uses a Student's t-test. If we use pingouin to run a Welch test (which 'corrects for unequal variances' as per the documentation), we get a similar result. But pingouin also gives us an effect size measure, which will be of use shortly.\n"
   ]
  },
  {
   "cell_type": "markdown",
   "metadata": {},
   "source": [
    "### Test 2: removals house\n"
   ]
  },
  {
   "cell_type": "markdown",
   "metadata": {},
   "source": [
    "#### Explanation of procedure\n",
    "\n",
    "?\n"
   ]
  },
  {
   "cell_type": "markdown",
   "metadata": {},
   "source": [
    "#### Why this test\n",
    "\n",
    "?\n"
   ]
  },
  {
   "cell_type": "code",
   "execution_count": 58,
   "metadata": {},
   "outputs": [
    {
     "data": {
      "text/html": [
       "<table class=\"simpletable\">\n",
       "<caption>Test for equality of means</caption>\n",
       "<tr>\n",
       "      <td></td>         <th>coef</th>     <th>std err</th>      <th>t</th>      <th>P>|t|</th>  <th>[0.025</th>    <th>0.975]</th>  \n",
       "</tr>\n",
       "<tr>\n",
       "  <th>subset #1</th> <td>-6.372e+04</td> <td> 1.98e+04</td> <td>   -3.217</td> <td> 0.002</td> <td>-1.03e+05</td> <td>-2.45e+04</td>\n",
       "</tr>\n",
       "</table>"
      ],
      "text/latex": [
       "\\begin{center}\n",
       "\\begin{tabular}{lcccccc}\n",
       "\\toprule\n",
       "                    & \\textbf{coef} & \\textbf{std err} & \\textbf{t} & \\textbf{P$> |$t$|$} & \\textbf{[0.025} & \\textbf{0.975]}  \\\\\n",
       "\\midrule\n",
       "\\textbf{subset \\#1} &   -6.372e+04  &     1.98e+04     &    -3.217  &         0.002        &    -1.03e+05    &    -2.45e+04     \\\\\n",
       "\\bottomrule\n",
       "\\end{tabular}\n",
       "%\\caption{Test for equality of means}\n",
       "\\end{center}"
      ],
      "text/plain": [
       "<class 'statsmodels.iolib.table.SimpleTable'>"
      ]
     },
     "execution_count": 58,
     "metadata": {},
     "output_type": "execute_result"
    }
   ],
   "source": [
    "st.CompareMeans(\n",
    "    st.DescrStatsW(df[\"removals\"][df[\"house_majority\"] == \"Democrat\"]),\n",
    "    st.DescrStatsW(df[\"removals\"][df[\"house_majority\"] != \"Democrat\"]),\n",
    ").summary()"
   ]
  },
  {
   "cell_type": "markdown",
   "metadata": {},
   "source": [
    "#### Result\n",
    "\n",
    "##### Plausibity\n"
   ]
  },
  {
   "cell_type": "markdown",
   "metadata": {},
   "source": [
    "### Test 3: returns senate\n"
   ]
  },
  {
   "cell_type": "markdown",
   "metadata": {},
   "source": [
    "#### Explanation of procedure\n",
    "\n",
    "?\n"
   ]
  },
  {
   "cell_type": "markdown",
   "metadata": {},
   "source": [
    "#### Why this test\n",
    "\n",
    "?\n"
   ]
  },
  {
   "cell_type": "code",
   "execution_count": 59,
   "metadata": {},
   "outputs": [
    {
     "data": {
      "text/html": [
       "<table class=\"simpletable\">\n",
       "<caption>Test for equality of means</caption>\n",
       "<tr>\n",
       "      <td></td>         <th>coef</th>     <th>std err</th>      <th>t</th>      <th>P>|t|</th>  <th>[0.025</th>    <th>0.975]</th>  \n",
       "</tr>\n",
       "<tr>\n",
       "  <th>subset #1</th> <td>-3.364e+05</td> <td> 1.04e+05</td> <td>   -3.221</td> <td> 0.002</td> <td>-5.44e+05</td> <td>-1.29e+05</td>\n",
       "</tr>\n",
       "</table>"
      ],
      "text/latex": [
       "\\begin{center}\n",
       "\\begin{tabular}{lcccccc}\n",
       "\\toprule\n",
       "                    & \\textbf{coef} & \\textbf{std err} & \\textbf{t} & \\textbf{P$> |$t$|$} & \\textbf{[0.025} & \\textbf{0.975]}  \\\\\n",
       "\\midrule\n",
       "\\textbf{subset \\#1} &   -3.364e+05  &     1.04e+05     &    -3.221  &         0.002        &    -5.44e+05    &    -1.29e+05     \\\\\n",
       "\\bottomrule\n",
       "\\end{tabular}\n",
       "%\\caption{Test for equality of means}\n",
       "\\end{center}"
      ],
      "text/plain": [
       "<class 'statsmodels.iolib.table.SimpleTable'>"
      ]
     },
     "execution_count": 59,
     "metadata": {},
     "output_type": "execute_result"
    }
   ],
   "source": [
    "st.CompareMeans(\n",
    "    st.DescrStatsW(df[\"returns\"].dropna()[df[\"senate_majority\"] == \"Democrat\"]),\n",
    "    st.DescrStatsW(df[\"returns\"].dropna()[df[\"senate_majority\"] != \"Democrat\"]),\n",
    ").summary()"
   ]
  },
  {
   "cell_type": "markdown",
   "metadata": {},
   "source": [
    "#### Result\n",
    "\n",
    "##### Plausibity\n"
   ]
  },
  {
   "cell_type": "markdown",
   "metadata": {},
   "source": [
    "### Test 4: removals divided\n"
   ]
  },
  {
   "cell_type": "markdown",
   "metadata": {},
   "source": [
    "#### Explanation of procedure\n",
    "\n",
    "?\n"
   ]
  },
  {
   "cell_type": "markdown",
   "metadata": {},
   "source": [
    "#### Why this test\n",
    "\n",
    "?\n"
   ]
  },
  {
   "cell_type": "code",
   "execution_count": 60,
   "metadata": {},
   "outputs": [
    {
     "data": {
      "text/html": [
       "<table class=\"simpletable\">\n",
       "<caption>Test for equality of means</caption>\n",
       "<tr>\n",
       "      <td></td>         <th>coef</th>     <th>std err</th>      <th>t</th>      <th>P>|t|</th>  <th>[0.025</th>    <th>0.975]</th>  \n",
       "</tr>\n",
       "<tr>\n",
       "  <th>subset #1</th> <td> 4.568e+04</td> <td> 2.01e+04</td> <td>    2.275</td> <td> 0.025</td> <td> 5941.670</td> <td> 8.54e+04</td>\n",
       "</tr>\n",
       "</table>"
      ],
      "text/latex": [
       "\\begin{center}\n",
       "\\begin{tabular}{lcccccc}\n",
       "\\toprule\n",
       "                    & \\textbf{coef} & \\textbf{std err} & \\textbf{t} & \\textbf{P$> |$t$|$} & \\textbf{[0.025} & \\textbf{0.975]}  \\\\\n",
       "\\midrule\n",
       "\\textbf{subset \\#1} &    4.568e+04  &     2.01e+04     &     2.275  &         0.025        &     5941.670    &     8.54e+04     \\\\\n",
       "\\bottomrule\n",
       "\\end{tabular}\n",
       "%\\caption{Test for equality of means}\n",
       "\\end{center}"
      ],
      "text/plain": [
       "<class 'statsmodels.iolib.table.SimpleTable'>"
      ]
     },
     "execution_count": 60,
     "metadata": {},
     "output_type": "execute_result"
    }
   ],
   "source": [
    "st.CompareMeans(\n",
    "    st.DescrStatsW(df[\"removals\"][df[\"government\"] == \"Divided\"]),\n",
    "    st.DescrStatsW(df[\"removals\"][df[\"government\"] != \"Divided\"]),\n",
    ").summary()"
   ]
  },
  {
   "cell_type": "markdown",
   "metadata": {},
   "source": [
    "#### Result\n",
    "\n",
    "##### Plausibity\n"
   ]
  },
  {
   "cell_type": "markdown",
   "metadata": {},
   "source": [
    "## Bias and normative factors part 2\n"
   ]
  },
  {
   "cell_type": "markdown",
   "metadata": {},
   "source": [
    "if the majority is slim, is this important?\n",
    "\n",
    "this is one data point in an extremely complicated system. correlation and causantion\n",
    "\n",
    "this is a lot of abstraction through a long time with many factors. reducing the daat like this might give you quite wrong conclusions. people are paid millions to do this and they obviously do not get great results\n",
    "\n",
    "how do they even know that undocumented people are leaving?\n",
    "\n",
    "there are some clear events to be analysed here which i dont know about. the spikes in returns for instance\n",
    "\n",
    "the difference in correlation and causation is especially important here where it is way too easy to say there is a difference. this can be used to say things like 'governments should be united', which would be an incorrect conclusion to take from this. maybe united governments happen in periods of progress or prosperity, or they have exceptionally good leaders. this simple correlational quantitative analysis might be enlightening in some way, but it is not enough to make grand claims. this can be a good starting point for a more sophisticated analysis, but it does not substitute one.\n"
   ]
  },
  {
   "cell_type": "markdown",
   "metadata": {},
   "source": [
    "## Conclusion\n"
   ]
  }
 ],
 "metadata": {
  "kernelspec": {
   "display_name": ".venv",
   "language": "python",
   "name": "python3"
  },
  "language_info": {
   "codemirror_mode": {
    "name": "ipython",
    "version": 3
   },
   "file_extension": ".py",
   "mimetype": "text/x-python",
   "name": "python",
   "nbconvert_exporter": "python",
   "pygments_lexer": "ipython3",
   "version": "3.10.12"
  }
 },
 "nbformat": 4,
 "nbformat_minor": 2
}
